{
 "cells": [
  {
   "cell_type": "code",
   "execution_count": 2,
   "metadata": {},
   "outputs": [],
   "source": [
    "import pandas as pd\n",
    "import matplotlib.pyplot as plt\n",
    "import seaborn as sns"
   ]
  },
  {
   "cell_type": "code",
   "execution_count": 3,
   "metadata": {},
   "outputs": [],
   "source": [
    "data=pd.read_csv('../dataset/collected_data.csv')\n",
    "result=pd.read_csv('../dataset/final_result.csv')"
   ]
  },
  {
   "cell_type": "markdown",
   "metadata": {},
   "source": [
    "## 주변환경 데이터"
   ]
  },
  {
   "cell_type": "code",
   "execution_count": 4,
   "metadata": {},
   "outputs": [
    {
     "data": {
      "text/html": [
       "<div>\n",
       "<style scoped>\n",
       "    .dataframe tbody tr th:only-of-type {\n",
       "        vertical-align: middle;\n",
       "    }\n",
       "\n",
       "    .dataframe tbody tr th {\n",
       "        vertical-align: top;\n",
       "    }\n",
       "\n",
       "    .dataframe thead th {\n",
       "        text-align: right;\n",
       "    }\n",
       "</style>\n",
       "<table border=\"1\" class=\"dataframe\">\n",
       "  <thead>\n",
       "    <tr style=\"text-align: right;\">\n",
       "      <th></th>\n",
       "      <th>ID</th>\n",
       "      <th>food</th>\n",
       "      <th>cafe</th>\n",
       "      <th>tour</th>\n",
       "      <th>bank</th>\n",
       "      <th>num_of_sta</th>\n",
       "      <th>uni_dist</th>\n",
       "    </tr>\n",
       "  </thead>\n",
       "  <tbody>\n",
       "    <tr>\n",
       "      <th>0</th>\n",
       "      <td>101</td>\n",
       "      <td>27</td>\n",
       "      <td>11</td>\n",
       "      <td>1</td>\n",
       "      <td>1</td>\n",
       "      <td>0.0</td>\n",
       "      <td>1727.445882</td>\n",
       "    </tr>\n",
       "    <tr>\n",
       "      <th>1</th>\n",
       "      <td>102</td>\n",
       "      <td>141</td>\n",
       "      <td>57</td>\n",
       "      <td>0</td>\n",
       "      <td>8</td>\n",
       "      <td>1.0</td>\n",
       "      <td>1312.952825</td>\n",
       "    </tr>\n",
       "    <tr>\n",
       "      <th>2</th>\n",
       "      <td>103</td>\n",
       "      <td>132</td>\n",
       "      <td>49</td>\n",
       "      <td>0</td>\n",
       "      <td>8</td>\n",
       "      <td>1.0</td>\n",
       "      <td>1276.796875</td>\n",
       "    </tr>\n",
       "    <tr>\n",
       "      <th>3</th>\n",
       "      <td>104</td>\n",
       "      <td>268</td>\n",
       "      <td>86</td>\n",
       "      <td>0</td>\n",
       "      <td>13</td>\n",
       "      <td>1.0</td>\n",
       "      <td>906.704926</td>\n",
       "    </tr>\n",
       "    <tr>\n",
       "      <th>4</th>\n",
       "      <td>105</td>\n",
       "      <td>343</td>\n",
       "      <td>94</td>\n",
       "      <td>0</td>\n",
       "      <td>14</td>\n",
       "      <td>2.0</td>\n",
       "      <td>938.661548</td>\n",
       "    </tr>\n",
       "  </tbody>\n",
       "</table>\n",
       "</div>"
      ],
      "text/plain": [
       "    ID  food  cafe  tour  bank  num_of_sta     uni_dist\n",
       "0  101    27    11     1     1         0.0  1727.445882\n",
       "1  102   141    57     0     8         1.0  1312.952825\n",
       "2  103   132    49     0     8         1.0  1276.796875\n",
       "3  104   268    86     0    13         1.0   906.704926\n",
       "4  105   343    94     0    14         2.0   938.661548"
      ]
     },
     "execution_count": 4,
     "metadata": {},
     "output_type": "execute_result"
    }
   ],
   "source": [
    "data.head()"
   ]
  },
  {
   "cell_type": "code",
   "execution_count": 5,
   "metadata": {},
   "outputs": [
    {
     "data": {
      "text/plain": [
       "(1527, 7)"
      ]
     },
     "execution_count": 5,
     "metadata": {},
     "output_type": "execute_result"
    }
   ],
   "source": [
    "data.shape"
   ]
  },
  {
   "cell_type": "markdown",
   "metadata": {},
   "source": [
    "## 인구 통계 데이터"
   ]
  },
  {
   "cell_type": "markdown",
   "metadata": {},
   "source": [
    "- tot pop : 총인구\n",
    "- saup : 사업체수\n",
    "- jong : 종사자수\n",
    "- 2049: 20~40세 인구\n",
    "- single: 1인가구수\n",
    "- y ratio : 20~49세 인구비율\n",
    "- one_ratio : 1인가구 비율"
   ]
  },
  {
   "cell_type": "code",
   "execution_count": 9,
   "metadata": {},
   "outputs": [],
   "source": [
    "result=result.drop(['tot_ga'], axis=1)"
   ]
  },
  {
   "cell_type": "code",
   "execution_count": 10,
   "metadata": {},
   "outputs": [
    {
     "data": {
      "text/html": [
       "<div>\n",
       "<style scoped>\n",
       "    .dataframe tbody tr th:only-of-type {\n",
       "        vertical-align: middle;\n",
       "    }\n",
       "\n",
       "    .dataframe tbody tr th {\n",
       "        vertical-align: top;\n",
       "    }\n",
       "\n",
       "    .dataframe thead th {\n",
       "        text-align: right;\n",
       "    }\n",
       "</style>\n",
       "<table border=\"1\" class=\"dataframe\">\n",
       "  <thead>\n",
       "    <tr style=\"text-align: right;\">\n",
       "      <th></th>\n",
       "      <th>ID</th>\n",
       "      <th>tot_pop</th>\n",
       "      <th>saup</th>\n",
       "      <th>jong</th>\n",
       "      <th>2049</th>\n",
       "      <th>single</th>\n",
       "      <th>y_ratio</th>\n",
       "      <th>one_ratio</th>\n",
       "    </tr>\n",
       "  </thead>\n",
       "  <tbody>\n",
       "    <tr>\n",
       "      <th>0</th>\n",
       "      <td>101</td>\n",
       "      <td>3119.308642</td>\n",
       "      <td>82.687420</td>\n",
       "      <td>905.496981</td>\n",
       "      <td>1783.264692</td>\n",
       "      <td>629.216224</td>\n",
       "      <td>0.571686</td>\n",
       "      <td>0.415103</td>\n",
       "    </tr>\n",
       "    <tr>\n",
       "      <th>1</th>\n",
       "      <td>102</td>\n",
       "      <td>5553.265017</td>\n",
       "      <td>585.298449</td>\n",
       "      <td>5327.718891</td>\n",
       "      <td>3191.545510</td>\n",
       "      <td>1399.156993</td>\n",
       "      <td>0.574715</td>\n",
       "      <td>0.485508</td>\n",
       "    </tr>\n",
       "    <tr>\n",
       "      <th>2</th>\n",
       "      <td>103</td>\n",
       "      <td>5347.571669</td>\n",
       "      <td>552.451941</td>\n",
       "      <td>4852.300334</td>\n",
       "      <td>3055.182027</td>\n",
       "      <td>1312.241227</td>\n",
       "      <td>0.571321</td>\n",
       "      <td>0.477412</td>\n",
       "    </tr>\n",
       "    <tr>\n",
       "      <th>3</th>\n",
       "      <td>104</td>\n",
       "      <td>3746.554975</td>\n",
       "      <td>1015.973100</td>\n",
       "      <td>7884.476026</td>\n",
       "      <td>2009.505848</td>\n",
       "      <td>776.205709</td>\n",
       "      <td>0.536361</td>\n",
       "      <td>0.429680</td>\n",
       "    </tr>\n",
       "    <tr>\n",
       "      <th>4</th>\n",
       "      <td>105</td>\n",
       "      <td>3603.847069</td>\n",
       "      <td>1029.199546</td>\n",
       "      <td>7764.478220</td>\n",
       "      <td>1876.293354</td>\n",
       "      <td>691.128573</td>\n",
       "      <td>0.520636</td>\n",
       "      <td>0.408744</td>\n",
       "    </tr>\n",
       "  </tbody>\n",
       "</table>\n",
       "</div>"
      ],
      "text/plain": [
       "    ID      tot_pop         saup         jong         2049       single  \\\n",
       "0  101  3119.308642    82.687420   905.496981  1783.264692   629.216224   \n",
       "1  102  5553.265017   585.298449  5327.718891  3191.545510  1399.156993   \n",
       "2  103  5347.571669   552.451941  4852.300334  3055.182027  1312.241227   \n",
       "3  104  3746.554975  1015.973100  7884.476026  2009.505848   776.205709   \n",
       "4  105  3603.847069  1029.199546  7764.478220  1876.293354   691.128573   \n",
       "\n",
       "    y_ratio  one_ratio  \n",
       "0  0.571686   0.415103  \n",
       "1  0.574715   0.485508  \n",
       "2  0.571321   0.477412  \n",
       "3  0.536361   0.429680  \n",
       "4  0.520636   0.408744  "
      ]
     },
     "execution_count": 10,
     "metadata": {},
     "output_type": "execute_result"
    }
   ],
   "source": [
    "result.head()"
   ]
  },
  {
   "cell_type": "code",
   "execution_count": 11,
   "metadata": {},
   "outputs": [
    {
     "data": {
      "text/plain": [
       "(1527, 8)"
      ]
     },
     "execution_count": 11,
     "metadata": {},
     "output_type": "execute_result"
    }
   ],
   "source": [
    "result.shape"
   ]
  },
  {
   "cell_type": "code",
   "execution_count": 12,
   "metadata": {},
   "outputs": [
    {
     "data": {
      "text/html": [
       "<div>\n",
       "<style scoped>\n",
       "    .dataframe tbody tr th:only-of-type {\n",
       "        vertical-align: middle;\n",
       "    }\n",
       "\n",
       "    .dataframe tbody tr th {\n",
       "        vertical-align: top;\n",
       "    }\n",
       "\n",
       "    .dataframe thead th {\n",
       "        text-align: right;\n",
       "    }\n",
       "</style>\n",
       "<table border=\"1\" class=\"dataframe\">\n",
       "  <thead>\n",
       "    <tr style=\"text-align: right;\">\n",
       "      <th></th>\n",
       "      <th>ID</th>\n",
       "      <th>food</th>\n",
       "      <th>cafe</th>\n",
       "      <th>tour</th>\n",
       "      <th>bank</th>\n",
       "      <th>num_of_sta</th>\n",
       "      <th>uni_dist</th>\n",
       "      <th>tot_pop</th>\n",
       "      <th>saup</th>\n",
       "      <th>jong</th>\n",
       "      <th>2049</th>\n",
       "      <th>single</th>\n",
       "      <th>y_ratio</th>\n",
       "      <th>one_ratio</th>\n",
       "    </tr>\n",
       "  </thead>\n",
       "  <tbody>\n",
       "    <tr>\n",
       "      <th>0</th>\n",
       "      <td>101</td>\n",
       "      <td>27</td>\n",
       "      <td>11</td>\n",
       "      <td>1</td>\n",
       "      <td>1</td>\n",
       "      <td>0.0</td>\n",
       "      <td>1727.445882</td>\n",
       "      <td>3119.308642</td>\n",
       "      <td>82.687420</td>\n",
       "      <td>905.496981</td>\n",
       "      <td>1783.264692</td>\n",
       "      <td>629.216224</td>\n",
       "      <td>0.571686</td>\n",
       "      <td>0.415103</td>\n",
       "    </tr>\n",
       "    <tr>\n",
       "      <th>1</th>\n",
       "      <td>102</td>\n",
       "      <td>141</td>\n",
       "      <td>57</td>\n",
       "      <td>0</td>\n",
       "      <td>8</td>\n",
       "      <td>1.0</td>\n",
       "      <td>1312.952825</td>\n",
       "      <td>5553.265017</td>\n",
       "      <td>585.298449</td>\n",
       "      <td>5327.718891</td>\n",
       "      <td>3191.545510</td>\n",
       "      <td>1399.156993</td>\n",
       "      <td>0.574715</td>\n",
       "      <td>0.485508</td>\n",
       "    </tr>\n",
       "    <tr>\n",
       "      <th>2</th>\n",
       "      <td>103</td>\n",
       "      <td>132</td>\n",
       "      <td>49</td>\n",
       "      <td>0</td>\n",
       "      <td>8</td>\n",
       "      <td>1.0</td>\n",
       "      <td>1276.796875</td>\n",
       "      <td>5347.571669</td>\n",
       "      <td>552.451941</td>\n",
       "      <td>4852.300334</td>\n",
       "      <td>3055.182027</td>\n",
       "      <td>1312.241227</td>\n",
       "      <td>0.571321</td>\n",
       "      <td>0.477412</td>\n",
       "    </tr>\n",
       "    <tr>\n",
       "      <th>3</th>\n",
       "      <td>104</td>\n",
       "      <td>268</td>\n",
       "      <td>86</td>\n",
       "      <td>0</td>\n",
       "      <td>13</td>\n",
       "      <td>1.0</td>\n",
       "      <td>906.704926</td>\n",
       "      <td>3746.554975</td>\n",
       "      <td>1015.973100</td>\n",
       "      <td>7884.476026</td>\n",
       "      <td>2009.505848</td>\n",
       "      <td>776.205709</td>\n",
       "      <td>0.536361</td>\n",
       "      <td>0.429680</td>\n",
       "    </tr>\n",
       "    <tr>\n",
       "      <th>4</th>\n",
       "      <td>105</td>\n",
       "      <td>343</td>\n",
       "      <td>94</td>\n",
       "      <td>0</td>\n",
       "      <td>14</td>\n",
       "      <td>2.0</td>\n",
       "      <td>938.661548</td>\n",
       "      <td>3603.847069</td>\n",
       "      <td>1029.199546</td>\n",
       "      <td>7764.478220</td>\n",
       "      <td>1876.293354</td>\n",
       "      <td>691.128573</td>\n",
       "      <td>0.520636</td>\n",
       "      <td>0.408744</td>\n",
       "    </tr>\n",
       "  </tbody>\n",
       "</table>\n",
       "</div>"
      ],
      "text/plain": [
       "    ID  food  cafe  tour  bank  num_of_sta     uni_dist      tot_pop  \\\n",
       "0  101    27    11     1     1         0.0  1727.445882  3119.308642   \n",
       "1  102   141    57     0     8         1.0  1312.952825  5553.265017   \n",
       "2  103   132    49     0     8         1.0  1276.796875  5347.571669   \n",
       "3  104   268    86     0    13         1.0   906.704926  3746.554975   \n",
       "4  105   343    94     0    14         2.0   938.661548  3603.847069   \n",
       "\n",
       "          saup         jong         2049       single   y_ratio  one_ratio  \n",
       "0    82.687420   905.496981  1783.264692   629.216224  0.571686   0.415103  \n",
       "1   585.298449  5327.718891  3191.545510  1399.156993  0.574715   0.485508  \n",
       "2   552.451941  4852.300334  3055.182027  1312.241227  0.571321   0.477412  \n",
       "3  1015.973100  7884.476026  2009.505848   776.205709  0.536361   0.429680  \n",
       "4  1029.199546  7764.478220  1876.293354   691.128573  0.520636   0.408744  "
      ]
     },
     "execution_count": 12,
     "metadata": {},
     "output_type": "execute_result"
    }
   ],
   "source": [
    "station_info=pd.merge(data, result, how='inner', on='ID')\n",
    "station_info.head()"
   ]
  },
  {
   "cell_type": "code",
   "execution_count": 13,
   "metadata": {},
   "outputs": [
    {
     "data": {
      "text/plain": [
       "(1527, 14)"
      ]
     },
     "execution_count": 13,
     "metadata": {},
     "output_type": "execute_result"
    }
   ],
   "source": [
    "station_info.shape"
   ]
  },
  {
   "cell_type": "code",
   "execution_count": null,
   "metadata": {},
   "outputs": [],
   "source": []
  }
 ],
 "metadata": {
  "kernelspec": {
   "display_name": "Python 3",
   "language": "python",
   "name": "python3"
  },
  "language_info": {
   "codemirror_mode": {
    "name": "ipython",
    "version": 3
   },
   "file_extension": ".py",
   "mimetype": "text/x-python",
   "name": "python",
   "nbconvert_exporter": "python",
   "pygments_lexer": "ipython3",
   "version": "3.7.6"
  }
 },
 "nbformat": 4,
 "nbformat_minor": 4
}
