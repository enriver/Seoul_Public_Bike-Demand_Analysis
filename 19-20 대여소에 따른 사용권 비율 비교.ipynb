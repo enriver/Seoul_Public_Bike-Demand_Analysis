{
 "cells": [
  {
   "cell_type": "code",
   "execution_count": 1,
   "metadata": {},
   "outputs": [],
   "source": [
    "import pandas as pd\n",
    "import numpy as np\n",
    "import seaborn as sns\n",
    "import pickle\n",
    "import matplotlib.pyplot as plt"
   ]
  },
  {
   "cell_type": "code",
   "execution_count": 2,
   "metadata": {},
   "outputs": [],
   "source": [
    "with open('../dataset/따릉이_대여이력_2019v2.pkl','rb') as f:\n",
    "    df2019=pickle.load(f)\n",
    "    \n",
    "with open('../dataset/따릉이_대여이력_2020v2.pkl','rb') as f:\n",
    "    df2020=pickle.load(f)"
   ]
  },
  {
   "cell_type": "code",
   "execution_count": 3,
   "metadata": {},
   "outputs": [
    {
     "data": {
      "text/html": [
       "<div>\n",
       "<style scoped>\n",
       "    .dataframe tbody tr th:only-of-type {\n",
       "        vertical-align: middle;\n",
       "    }\n",
       "\n",
       "    .dataframe tbody tr th {\n",
       "        vertical-align: top;\n",
       "    }\n",
       "\n",
       "    .dataframe thead th {\n",
       "        text-align: right;\n",
       "    }\n",
       "</style>\n",
       "<table border=\"1\" class=\"dataframe\">\n",
       "  <thead>\n",
       "    <tr style=\"text-align: right;\">\n",
       "      <th></th>\n",
       "      <th>rent_id</th>\n",
       "      <th>rent_time</th>\n",
       "      <th>return_id</th>\n",
       "      <th>return_time</th>\n",
       "      <th>travel_time</th>\n",
       "      <th>travel_distance</th>\n",
       "      <th>fare</th>\n",
       "      <th>sex</th>\n",
       "      <th>age</th>\n",
       "    </tr>\n",
       "  </thead>\n",
       "  <tbody>\n",
       "    <tr>\n",
       "      <th>0</th>\n",
       "      <td>1421</td>\n",
       "      <td>2019-01-01 00:00:44</td>\n",
       "      <td>1420</td>\n",
       "      <td>2019-01-01 00:03:53</td>\n",
       "      <td>189.0</td>\n",
       "      <td>580.0</td>\n",
       "      <td>BIL_004</td>\n",
       "      <td>\\N</td>\n",
       "      <td>AGE_002</td>\n",
       "    </tr>\n",
       "    <tr>\n",
       "      <th>1</th>\n",
       "      <td>1408</td>\n",
       "      <td>2019-01-01 00:02:16</td>\n",
       "      <td>1433</td>\n",
       "      <td>2019-01-01 00:07:07</td>\n",
       "      <td>291.0</td>\n",
       "      <td>1020.0</td>\n",
       "      <td>BIL_002</td>\n",
       "      <td>F</td>\n",
       "      <td>AGE_005</td>\n",
       "    </tr>\n",
       "    <tr>\n",
       "      <th>2</th>\n",
       "      <td>347</td>\n",
       "      <td>2019-01-01 00:04:12</td>\n",
       "      <td>387</td>\n",
       "      <td>2019-01-01 00:07:07</td>\n",
       "      <td>175.0</td>\n",
       "      <td>550.0</td>\n",
       "      <td>BIL_014</td>\n",
       "      <td>M</td>\n",
       "      <td>AGE_003</td>\n",
       "    </tr>\n",
       "    <tr>\n",
       "      <th>3</th>\n",
       "      <td>615</td>\n",
       "      <td>2019-01-01 00:03:09</td>\n",
       "      <td>612</td>\n",
       "      <td>2019-01-01 00:07:27</td>\n",
       "      <td>258.0</td>\n",
       "      <td>700.0</td>\n",
       "      <td>BIL_002</td>\n",
       "      <td>\\N</td>\n",
       "      <td>AGE_002</td>\n",
       "    </tr>\n",
       "    <tr>\n",
       "      <th>4</th>\n",
       "      <td>1177</td>\n",
       "      <td>2019-01-01 00:01:44</td>\n",
       "      <td>1152</td>\n",
       "      <td>2019-01-01 00:08:09</td>\n",
       "      <td>385.0</td>\n",
       "      <td>1090.0</td>\n",
       "      <td>BIL_006</td>\n",
       "      <td>\\N</td>\n",
       "      <td>AGE_002</td>\n",
       "    </tr>\n",
       "  </tbody>\n",
       "</table>\n",
       "</div>"
      ],
      "text/plain": [
       "  rent_id           rent_time return_id         return_time  travel_time  \\\n",
       "0    1421 2019-01-01 00:00:44      1420 2019-01-01 00:03:53        189.0   \n",
       "1    1408 2019-01-01 00:02:16      1433 2019-01-01 00:07:07        291.0   \n",
       "2     347 2019-01-01 00:04:12       387 2019-01-01 00:07:07        175.0   \n",
       "3     615 2019-01-01 00:03:09       612 2019-01-01 00:07:27        258.0   \n",
       "4    1177 2019-01-01 00:01:44      1152 2019-01-01 00:08:09        385.0   \n",
       "\n",
       "   travel_distance     fare sex      age  \n",
       "0            580.0  BIL_004  \\N  AGE_002  \n",
       "1           1020.0  BIL_002   F  AGE_005  \n",
       "2            550.0  BIL_014   M  AGE_003  \n",
       "3            700.0  BIL_002  \\N  AGE_002  \n",
       "4           1090.0  BIL_006  \\N  AGE_002  "
      ]
     },
     "execution_count": 3,
     "metadata": {},
     "output_type": "execute_result"
    }
   ],
   "source": [
    "df2019.head()"
   ]
  },
  {
   "cell_type": "code",
   "execution_count": 4,
   "metadata": {},
   "outputs": [],
   "source": [
    "fare2019=sorted(df2019['fare'].unique().tolist())\n",
    "fare2020=sorted(df2019['fare'].unique().tolist())"
   ]
  },
  {
   "cell_type": "code",
   "execution_count": 5,
   "metadata": {},
   "outputs": [
    {
     "data": {
      "text/plain": [
       "['BIL_001',\n",
       " 'BIL_002',\n",
       " 'BIL_004',\n",
       " 'BIL_005',\n",
       " 'BIL_006',\n",
       " 'BIL_007',\n",
       " 'BIL_008',\n",
       " 'BIL_011',\n",
       " 'BIL_012',\n",
       " 'BIL_014',\n",
       " 'BIL_015',\n",
       " 'BIL_016',\n",
       " 'BIL_017',\n",
       " 'BIL_020']"
      ]
     },
     "execution_count": 5,
     "metadata": {},
     "output_type": "execute_result"
    }
   ],
   "source": [
    "fare2019"
   ]
  },
  {
   "cell_type": "code",
   "execution_count": 6,
   "metadata": {},
   "outputs": [
    {
     "data": {
      "text/plain": [
       "['BIL_001',\n",
       " 'BIL_002',\n",
       " 'BIL_004',\n",
       " 'BIL_005',\n",
       " 'BIL_006',\n",
       " 'BIL_007',\n",
       " 'BIL_008',\n",
       " 'BIL_011',\n",
       " 'BIL_012',\n",
       " 'BIL_014',\n",
       " 'BIL_015',\n",
       " 'BIL_016',\n",
       " 'BIL_017',\n",
       " 'BIL_020']"
      ]
     },
     "execution_count": 6,
     "metadata": {},
     "output_type": "execute_result"
    }
   ],
   "source": [
    "fare2020"
   ]
  },
  {
   "cell_type": "markdown",
   "metadata": {},
   "source": [
    "#### 정기권 / 일일권 타입\n",
    "\n",
    "정기권 - 001,002,004,005 / 011,012,014,015\n",
    "\n",
    "일일권 - 006,007 / 016/017"
   ]
  },
  {
   "cell_type": "code",
   "execution_count": 7,
   "metadata": {},
   "outputs": [],
   "source": [
    "regular=['BIL_001','BIL_002','BIL_004','BIL_005','BIL_011','BIL_012','BIL_014','BIL_015']\n",
    "daily=['BIL_006','BIL_007','BIL_016','BIL_017']\n",
    "others=['BIL_008', 'BIL_020','BIL_021']"
   ]
  },
  {
   "cell_type": "code",
   "execution_count": 8,
   "metadata": {},
   "outputs": [],
   "source": [
    "df2019['type']=df2019['fare'].replace(regular,'Regular').replace(daily,'Daily').replace(others,'Others')\n",
    "df2020['type']=df2020['fare'].replace(regular,'Regular').replace(daily,'Daily').replace(others,'Others')"
   ]
  },
  {
   "cell_type": "code",
   "execution_count": 9,
   "metadata": {},
   "outputs": [],
   "source": [
    "def drop_others(df):\n",
    "    df=df.drop(df[df['type']=='Others'].index).reset_index(drop=True)\n",
    "    \n",
    "    return df"
   ]
  },
  {
   "cell_type": "code",
   "execution_count": 10,
   "metadata": {},
   "outputs": [],
   "source": [
    "df2019=drop_others(df2019)\n",
    "df2020=drop_others(df2020)"
   ]
  },
  {
   "cell_type": "markdown",
   "metadata": {},
   "source": [
    "### 이용시간 전처리"
   ]
  },
  {
   "cell_type": "code",
   "execution_count": 11,
   "metadata": {},
   "outputs": [],
   "source": [
    "times={'BIL_001':'1H',\n",
    "       'BIL_002':'1H',\n",
    "       'BIL_004':'1H',\n",
    "       'BIL_005':'1H',\n",
    "       'BIL_006':'1H',\n",
    "       'BIL_007':'1H',\n",
    "       'BIL_008':'OTHER',\n",
    "       'BIL_020':'OTHER',\n",
    "       'BIL_021':'OTHER',\n",
    "       'BIL_011':'2H',\n",
    "       'BIL_012':'2H',\n",
    "       'BIL_014':'2H',\n",
    "       'BIL_015':'2H',\n",
    "       'BIL_016':'2H',\n",
    "       'BIL_017':'2H'}"
   ]
  },
  {
   "cell_type": "code",
   "execution_count": 12,
   "metadata": {},
   "outputs": [],
   "source": [
    "df2019['times']=df2019['fare'].map(times)\n",
    "df2020['times']=df2020['fare'].map(times)"
   ]
  },
  {
   "cell_type": "code",
   "execution_count": 13,
   "metadata": {},
   "outputs": [],
   "source": [
    "df2019=df2019.drop(df2019[(df2019['travel_time']<60)].index).reset_index(drop=True)\n",
    "df2020=df2020.drop(df2020[(df2020['travel_time']<60)].index).reset_index(drop=True)\n",
    "\n",
    "\n",
    "df2019=df2019.drop(df2019[(df2019['times']=='1H') & (df2019['travel_time']>14400)].index).reset_index(drop=True)\n",
    "df2020=df2020.drop(df2020[(df2020['times']=='1H') & (df2020['travel_time']>14400)].index).reset_index(drop=True)\n",
    "df2019=df2019.drop(df2019[(df2019['times']=='2H') & (df2019['travel_time']>21600)].index).reset_index(drop=True)\n",
    "df2020=df2020.drop(df2020[(df2020['times']=='2H') & (df2020['travel_time']>21600)].index).reset_index(drop=True)"
   ]
  },
  {
   "cell_type": "markdown",
   "metadata": {},
   "source": [
    "### 이용 거리 전처리"
   ]
  },
  {
   "cell_type": "code",
   "execution_count": 14,
   "metadata": {},
   "outputs": [],
   "source": [
    "df2019=df2019.drop(df2019[df2019['travel_distance']==0].index).reset_index(drop=True)\n",
    "df2020=df2020.drop(df2020[df2020['travel_distance']==0].index).reset_index(drop=True)\n",
    "\n",
    "df2019=df2019.drop(df2019[(df2019['times']=='1H') & (df2019['travel_distance']>65200)].index).reset_index(drop=True)\n",
    "df2020=df2020.drop(df2020[(df2020['times']=='1H') & (df2020['travel_distance']>65200)].index).reset_index(drop=True)\n",
    "\n",
    "df2019=df2019.drop(df2019[(df2019['times']=='2H') & (df2019['travel_distance']>97800)].index).reset_index(drop=True)\n",
    "df2020=df2020.drop(df2020[(df2020['times']=='2H') & (df2020['travel_distance']>97800)].index).reset_index(drop=True)"
   ]
  },
  {
   "cell_type": "markdown",
   "metadata": {},
   "source": [
    "### 연/월/일/주말 주중 구분"
   ]
  },
  {
   "cell_type": "code",
   "execution_count": 56,
   "metadata": {},
   "outputs": [],
   "source": [
    "def year_month_day(df):\n",
    "    df['year']=df['rent_time'].dt.year\n",
    "    df['month']=df['rent_time'].dt.month\n",
    "    df['day']=df['rent_time'].dt.day\n",
    "    df['dayofweek']=df['rent_time'].dt.dayofweek\n",
    "    df['hour']=df['rent_time'].dt.hour\n",
    "\n",
    "    weeks={0:'Mon',\n",
    "          1:'Tue',\n",
    "          2:'Wed',\n",
    "          3:'Thu',\n",
    "          4:'Fri',\n",
    "          5:'Sat',\n",
    "          6:'Sun'}\n",
    "\n",
    "    df['dayofweek']=df['dayofweek'].map(weeks)\n",
    "    \n",
    "    return df"
   ]
  },
  {
   "cell_type": "code",
   "execution_count": 57,
   "metadata": {},
   "outputs": [],
   "source": [
    "df2019=year_month_day(df2019)\n",
    "df2020=year_month_day(df2020)"
   ]
  },
  {
   "cell_type": "code",
   "execution_count": 17,
   "metadata": {},
   "outputs": [
    {
     "data": {
      "text/plain": [
       "numpy.int64"
      ]
     },
     "execution_count": 17,
     "metadata": {},
     "output_type": "execute_result"
    }
   ],
   "source": [
    "type(df2019['month'].iloc[0])"
   ]
  },
  {
   "cell_type": "code",
   "execution_count": 18,
   "metadata": {},
   "outputs": [],
   "source": [
    "def week_hol(df):\n",
    "    df_week=df.drop(df[(df['dayofweek']=='Sat') | (df['dayofweek']=='Sun')].index).reset_index(drop=True)\n",
    "    df_hol=df.iloc[df[(df['dayofweek']=='Sat') | (df['dayofweek']=='Sun')].index].reset_index(drop=True)\n",
    "    \n",
    "    return df_week, df_hol"
   ]
  },
  {
   "cell_type": "code",
   "execution_count": 61,
   "metadata": {},
   "outputs": [
    {
     "name": "stdout",
     "output_type": "stream",
     "text": [
      "2019 주중 :  (13377729, 17)\n",
      "2019 주말 :  (4738456, 17)\n"
     ]
    }
   ],
   "source": [
    "df2019_week, df2019_hol=week_hol(df2019)\n",
    "\n",
    "print('2019 주중 : ',df2019_week.shape)\n",
    "print('2019 주말 : ',df2019_hol.shape)"
   ]
  },
  {
   "cell_type": "code",
   "execution_count": 62,
   "metadata": {},
   "outputs": [
    {
     "name": "stdout",
     "output_type": "stream",
     "text": [
      "(13000705, 17)\n",
      "(377024, 17)\n"
     ]
    }
   ],
   "source": [
    "# 2019년 공휴일\n",
    "\n",
    "df2019_new_hol=df2019_week.iloc[df2019_week[((df2019_week['month']==1)&(df2019_week['day']==1))|\n",
    "                     ((df2019_week['month']==2)&(df2019_week['day']==4))|\n",
    "                     ((df2019_week['month']==2)&(df2019_week['day']==5))|\n",
    "                     ((df2019_week['month']==2)&(df2019_week['day']==6))|\n",
    "                     ((df2019_week['month']==3)&(df2019_week['day']==1))|\n",
    "                     ((df2019_week['month']==5)&(df2019_week['day']==5))|\n",
    "                     ((df2019_week['month']==5)&(df2019_week['day']==12))|\n",
    "                     ((df2019_week['month']==6)&(df2019_week['day']==6))|\n",
    "                     ((df2019_week['month']==8)&(df2019_week['day']==15))|\n",
    "                     ((df2019_week['month']==9)&(df2019_week['day']==12))|\n",
    "                     ((df2019_week['month']==9)&(df2019_week['day']==13))|\n",
    "                     ((df2019_week['month']==9)&(df2019_week['day']==14))|\n",
    "                     ((df2019_week['month']==10)&(df2019_week['day']==3))|\n",
    "                     ((df2019_week['month']==10)&(df2019_week['day']==9))|\n",
    "                     ((df2019_week['month']==12)&(df2019_week['day']==25))].index].reset_index(drop=True)\n",
    "\n",
    "df2019_week=df2019_week.drop(df2019_week[((df2019_week['month']==1)&(df2019_week['day']==1))|\n",
    "                     ((df2019_week['month']==2)&(df2019_week['day']==4))|\n",
    "                     ((df2019_week['month']==2)&(df2019_week['day']==5))|\n",
    "                     ((df2019_week['month']==2)&(df2019_week['day']==6))|\n",
    "                     ((df2019_week['month']==3)&(df2019_week['day']==1))|\n",
    "                     ((df2019_week['month']==5)&(df2019_week['day']==5))|\n",
    "                     ((df2019_week['month']==5)&(df2019_week['day']==12))|\n",
    "                     ((df2019_week['month']==6)&(df2019_week['day']==6))|\n",
    "                     ((df2019_week['month']==8)&(df2019_week['day']==15))|\n",
    "                     ((df2019_week['month']==9)&(df2019_week['day']==12))|\n",
    "                     ((df2019_week['month']==9)&(df2019_week['day']==13))|\n",
    "                     ((df2019_week['month']==9)&(df2019_week['day']==14))|\n",
    "                     ((df2019_week['month']==10)&(df2019_week['day']==3))|\n",
    "                     ((df2019_week['month']==10)&(df2019_week['day']==9))|\n",
    "                     ((df2019_week['month']==12)&(df2019_week['day']==25))].index).reset_index(drop=True)\n",
    "\n",
    "print(df2019_week.shape)\n",
    "print(df2019_new_hol.shape)"
   ]
  },
  {
   "cell_type": "code",
   "execution_count": 63,
   "metadata": {},
   "outputs": [
    {
     "name": "stdout",
     "output_type": "stream",
     "text": [
      "(5115480, 17)\n"
     ]
    }
   ],
   "source": [
    "df2019_hol=pd.concat([df2019_hol, df2019_new_hol]).reset_index(drop=True)\n",
    "print(df2019_hol.shape)"
   ]
  },
  {
   "cell_type": "code",
   "execution_count": 20,
   "metadata": {},
   "outputs": [
    {
     "name": "stdout",
     "output_type": "stream",
     "text": [
      "2020 주중 :  (5744157, 16)\n",
      "2020 주말 :  (2202585, 16)\n"
     ]
    }
   ],
   "source": [
    "df2020_week, df2020_hol=week_hol(df2020)\n",
    "\n",
    "print('2020 주중 : ',df2020_week.shape)\n",
    "print('2020 주말 : ',df2020_hol.shape)"
   ]
  },
  {
   "cell_type": "code",
   "execution_count": 64,
   "metadata": {},
   "outputs": [
    {
     "name": "stdout",
     "output_type": "stream",
     "text": [
      "(5580480, 16)\n",
      "(163677, 16)\n"
     ]
    }
   ],
   "source": [
    "# 2020년 공휴일\n",
    "\n",
    "df2020_new_hol=df2020_week.iloc[df2020_week[((df2020_week['month']==1)&(df2020_week['day']==1))|\n",
    "                     ((df2020_week['month']==1)&(df2020_week['day']==24))|\n",
    "                     ((df2020_week['month']==1)&(df2020_week['day']==25))|\n",
    "                     ((df2020_week['month']==1)&(df2020_week['day']==26))|\n",
    "                     ((df2020_week['month']==3)&(df2020_week['day']==1))|\n",
    "                     ((df2020_week['month']==4)&(df2020_week['day']==30))|\n",
    "                     ((df2020_week['month']==5)&(df2020_week['day']==5))|\n",
    "                     ((df2020_week['month']==6)&(df2020_week['day']==6))|\n",
    "                     ((df2020_week['month']==8)&(df2020_week['day']==15))|\n",
    "                     ((df2020_week['month']==8)&(df2020_week['day']==17))|\n",
    "                     ((df2020_week['month']==9)&(df2020_week['day']==30))|\n",
    "                     ((df2020_week['month']==10)&(df2020_week['day']==1))|\n",
    "                     ((df2020_week['month']==10)&(df2020_week['day']==2))|\n",
    "                     ((df2020_week['month']==10)&(df2020_week['day']==3))|\n",
    "                     ((df2020_week['month']==10)&(df2020_week['day']==9))|\n",
    "                     ((df2020_week['month']==12)&(df2020_week['day']==25))].index].reset_index(drop=True)\n",
    "\n",
    "df2020_week=df2020_week.drop(df2020_week[((df2020_week['month']==1)&(df2020_week['day']==1))|\n",
    "                     ((df2020_week['month']==1)&(df2020_week['day']==24))|\n",
    "                     ((df2020_week['month']==1)&(df2020_week['day']==25))|\n",
    "                     ((df2020_week['month']==1)&(df2020_week['day']==26))|\n",
    "                     ((df2020_week['month']==3)&(df2020_week['day']==1))|\n",
    "                     ((df2020_week['month']==4)&(df2020_week['day']==30))|\n",
    "                     ((df2020_week['month']==5)&(df2020_week['day']==5))|\n",
    "                     ((df2020_week['month']==6)&(df2020_week['day']==6))|\n",
    "                     ((df2020_week['month']==8)&(df2020_week['day']==15))|\n",
    "                     ((df2020_week['month']==8)&(df2020_week['day']==17))|\n",
    "                     ((df2020_week['month']==9)&(df2020_week['day']==30))|\n",
    "                     ((df2020_week['month']==10)&(df2020_week['day']==1))|\n",
    "                     ((df2020_week['month']==10)&(df2020_week['day']==2))|\n",
    "                     ((df2020_week['month']==10)&(df2020_week['day']==3))|\n",
    "                     ((df2020_week['month']==10)&(df2020_week['day']==9))|\n",
    "                     ((df2020_week['month']==12)&(df2020_week['day']==25))].index).reset_index(drop=True)\n",
    "\n",
    "print(df2020_week.shape)\n",
    "print(df2020_new_hol.shape)"
   ]
  },
  {
   "cell_type": "code",
   "execution_count": 65,
   "metadata": {},
   "outputs": [
    {
     "name": "stdout",
     "output_type": "stream",
     "text": [
      "(2366262, 16)\n"
     ]
    }
   ],
   "source": [
    "df2020_hol=pd.concat([df2020_hol, df2020_new_hol]).reset_index(drop=True)\n",
    "print(df2020_hol.shape)"
   ]
  },
  {
   "cell_type": "markdown",
   "metadata": {},
   "source": [
    "### 19-20 주중/주말 pickle 파일로 저장"
   ]
  },
  {
   "cell_type": "code",
   "execution_count": 66,
   "metadata": {},
   "outputs": [],
   "source": [
    "## Save pickle\n",
    "with open(\"../dataset/2019_week.pkl\",\"wb\") as fw:\n",
    "    pickle.dump(df2019_week, fw)\n",
    "\n",
    "with open(\"../dataset/2019_hol.pkl\",\"wb\") as fw:\n",
    "    pickle.dump(df2019_hol, fw)\n",
    "    \n",
    "with open(\"../dataset/2020_week.pkl\",\"wb\") as fw:\n",
    "    pickle.dump(df2020_week, fw)\n",
    "    \n",
    "with open(\"../dataset/2020_hol.pkl\",\"wb\") as fw:\n",
    "    pickle.dump(df2020_hol, fw)"
   ]
  },
  {
   "cell_type": "markdown",
   "metadata": {},
   "source": [
    "#### 반기 구분"
   ]
  },
  {
   "cell_type": "code",
   "execution_count": null,
   "metadata": {},
   "outputs": [],
   "source": [
    "def make_half(df):\n",
    "    first=[1,2,3,4,5,6]\n",
    "    second=[7,8,9,10,11,12]\n",
    "    \n",
    "    df_first=df[df['month'].isin(first)].reset_index(drop=True)\n",
    "    df_second=df[df['month'].isin(second)].reset_index(drop=True)\n",
    "    \n",
    "    return df_first, df_second"
   ]
  },
  {
   "cell_type": "markdown",
   "metadata": {},
   "source": [
    "#### 분기 구분"
   ]
  },
  {
   "cell_type": "code",
   "execution_count": 21,
   "metadata": {},
   "outputs": [],
   "source": [
    "def make_quarter(df):\n",
    "    first=[1,2,3]\n",
    "    second=[4,5,6]\n",
    "    third=[7,8,9]\n",
    "    fourth=[10,11,12]\n",
    "    \n",
    "    df_first=df[df['month'].isin(first)].reset_index(drop=True)\n",
    "    df_second=df[df['month'].isin(second)].reset_index(drop=True)\n",
    "    df_third=df[df['month'].isin(third)].reset_index(drop=True)\n",
    "    df_fourth=df[df['month'].isin(fourth)].reset_index(drop=True)\n",
    "    \n",
    "    return df_first, df_second, df_third, df_fourth"
   ]
  },
  {
   "cell_type": "code",
   "execution_count": 24,
   "metadata": {},
   "outputs": [
    {
     "data": {
      "text/html": [
       "<div>\n",
       "<style scoped>\n",
       "    .dataframe tbody tr th:only-of-type {\n",
       "        vertical-align: middle;\n",
       "    }\n",
       "\n",
       "    .dataframe tbody tr th {\n",
       "        vertical-align: top;\n",
       "    }\n",
       "\n",
       "    .dataframe thead th {\n",
       "        text-align: right;\n",
       "    }\n",
       "</style>\n",
       "<table border=\"1\" class=\"dataframe\">\n",
       "  <thead>\n",
       "    <tr style=\"text-align: right;\">\n",
       "      <th></th>\n",
       "      <th>rent_id</th>\n",
       "      <th>rent_time</th>\n",
       "      <th>return_id</th>\n",
       "      <th>return_time</th>\n",
       "      <th>travel_time</th>\n",
       "      <th>travel_distance</th>\n",
       "      <th>fare</th>\n",
       "      <th>sex</th>\n",
       "      <th>age</th>\n",
       "      <th>type</th>\n",
       "      <th>times</th>\n",
       "      <th>year</th>\n",
       "      <th>month</th>\n",
       "      <th>day</th>\n",
       "      <th>dayofweek</th>\n",
       "      <th>hour</th>\n",
       "    </tr>\n",
       "  </thead>\n",
       "  <tbody>\n",
       "    <tr>\n",
       "      <th>0</th>\n",
       "      <td>1421</td>\n",
       "      <td>2019-01-01 00:00:44</td>\n",
       "      <td>1420</td>\n",
       "      <td>2019-01-01 00:03:53</td>\n",
       "      <td>189.0</td>\n",
       "      <td>580.0</td>\n",
       "      <td>BIL_004</td>\n",
       "      <td>\\N</td>\n",
       "      <td>AGE_002</td>\n",
       "      <td>Regular</td>\n",
       "      <td>1H</td>\n",
       "      <td>2019</td>\n",
       "      <td>1</td>\n",
       "      <td>1</td>\n",
       "      <td>Tue</td>\n",
       "      <td>0</td>\n",
       "    </tr>\n",
       "    <tr>\n",
       "      <th>1</th>\n",
       "      <td>1408</td>\n",
       "      <td>2019-01-01 00:02:16</td>\n",
       "      <td>1433</td>\n",
       "      <td>2019-01-01 00:07:07</td>\n",
       "      <td>291.0</td>\n",
       "      <td>1020.0</td>\n",
       "      <td>BIL_002</td>\n",
       "      <td>F</td>\n",
       "      <td>AGE_005</td>\n",
       "      <td>Regular</td>\n",
       "      <td>1H</td>\n",
       "      <td>2019</td>\n",
       "      <td>1</td>\n",
       "      <td>1</td>\n",
       "      <td>Tue</td>\n",
       "      <td>0</td>\n",
       "    </tr>\n",
       "    <tr>\n",
       "      <th>2</th>\n",
       "      <td>347</td>\n",
       "      <td>2019-01-01 00:04:12</td>\n",
       "      <td>387</td>\n",
       "      <td>2019-01-01 00:07:07</td>\n",
       "      <td>175.0</td>\n",
       "      <td>550.0</td>\n",
       "      <td>BIL_014</td>\n",
       "      <td>M</td>\n",
       "      <td>AGE_003</td>\n",
       "      <td>Regular</td>\n",
       "      <td>2H</td>\n",
       "      <td>2019</td>\n",
       "      <td>1</td>\n",
       "      <td>1</td>\n",
       "      <td>Tue</td>\n",
       "      <td>0</td>\n",
       "    </tr>\n",
       "    <tr>\n",
       "      <th>3</th>\n",
       "      <td>615</td>\n",
       "      <td>2019-01-01 00:03:09</td>\n",
       "      <td>612</td>\n",
       "      <td>2019-01-01 00:07:27</td>\n",
       "      <td>258.0</td>\n",
       "      <td>700.0</td>\n",
       "      <td>BIL_002</td>\n",
       "      <td>\\N</td>\n",
       "      <td>AGE_002</td>\n",
       "      <td>Regular</td>\n",
       "      <td>1H</td>\n",
       "      <td>2019</td>\n",
       "      <td>1</td>\n",
       "      <td>1</td>\n",
       "      <td>Tue</td>\n",
       "      <td>0</td>\n",
       "    </tr>\n",
       "    <tr>\n",
       "      <th>4</th>\n",
       "      <td>1177</td>\n",
       "      <td>2019-01-01 00:01:44</td>\n",
       "      <td>1152</td>\n",
       "      <td>2019-01-01 00:08:09</td>\n",
       "      <td>385.0</td>\n",
       "      <td>1090.0</td>\n",
       "      <td>BIL_006</td>\n",
       "      <td>\\N</td>\n",
       "      <td>AGE_002</td>\n",
       "      <td>Daily</td>\n",
       "      <td>1H</td>\n",
       "      <td>2019</td>\n",
       "      <td>1</td>\n",
       "      <td>1</td>\n",
       "      <td>Tue</td>\n",
       "      <td>0</td>\n",
       "    </tr>\n",
       "  </tbody>\n",
       "</table>\n",
       "</div>"
      ],
      "text/plain": [
       "  rent_id           rent_time return_id         return_time  travel_time  \\\n",
       "0    1421 2019-01-01 00:00:44      1420 2019-01-01 00:03:53        189.0   \n",
       "1    1408 2019-01-01 00:02:16      1433 2019-01-01 00:07:07        291.0   \n",
       "2     347 2019-01-01 00:04:12       387 2019-01-01 00:07:07        175.0   \n",
       "3     615 2019-01-01 00:03:09       612 2019-01-01 00:07:27        258.0   \n",
       "4    1177 2019-01-01 00:01:44      1152 2019-01-01 00:08:09        385.0   \n",
       "\n",
       "   travel_distance     fare sex      age     type times  year  month  day  \\\n",
       "0            580.0  BIL_004  \\N  AGE_002  Regular    1H  2019      1    1   \n",
       "1           1020.0  BIL_002   F  AGE_005  Regular    1H  2019      1    1   \n",
       "2            550.0  BIL_014   M  AGE_003  Regular    2H  2019      1    1   \n",
       "3            700.0  BIL_002  \\N  AGE_002  Regular    1H  2019      1    1   \n",
       "4           1090.0  BIL_006  \\N  AGE_002    Daily    1H  2019      1    1   \n",
       "\n",
       "  dayofweek  hour  \n",
       "0       Tue     0  \n",
       "1       Tue     0  \n",
       "2       Tue     0  \n",
       "3       Tue     0  \n",
       "4       Tue     0  "
      ]
     },
     "execution_count": 24,
     "metadata": {},
     "output_type": "execute_result"
    }
   ],
   "source": [
    "df2019_week.head()"
   ]
  },
  {
   "cell_type": "code",
   "execution_count": 38,
   "metadata": {},
   "outputs": [
    {
     "data": {
      "text/html": [
       "<div>\n",
       "<style scoped>\n",
       "    .dataframe tbody tr th:only-of-type {\n",
       "        vertical-align: middle;\n",
       "    }\n",
       "\n",
       "    .dataframe tbody tr th {\n",
       "        vertical-align: top;\n",
       "    }\n",
       "\n",
       "    .dataframe thead th {\n",
       "        text-align: right;\n",
       "    }\n",
       "</style>\n",
       "<table border=\"1\" class=\"dataframe\">\n",
       "  <thead>\n",
       "    <tr style=\"text-align: right;\">\n",
       "      <th>type</th>\n",
       "      <th>Daily</th>\n",
       "      <th>Regular</th>\n",
       "    </tr>\n",
       "    <tr>\n",
       "      <th>rent_id</th>\n",
       "      <th></th>\n",
       "      <th></th>\n",
       "    </tr>\n",
       "  </thead>\n",
       "  <tbody>\n",
       "    <tr>\n",
       "      <th>1001</th>\n",
       "      <td>0.178073</td>\n",
       "      <td>0.821927</td>\n",
       "    </tr>\n",
       "    <tr>\n",
       "      <th>1002</th>\n",
       "      <td>0.190514</td>\n",
       "      <td>0.809486</td>\n",
       "    </tr>\n",
       "    <tr>\n",
       "      <th>1003</th>\n",
       "      <td>0.158406</td>\n",
       "      <td>0.841594</td>\n",
       "    </tr>\n",
       "    <tr>\n",
       "      <th>1004</th>\n",
       "      <td>0.176554</td>\n",
       "      <td>0.823446</td>\n",
       "    </tr>\n",
       "    <tr>\n",
       "      <th>1006</th>\n",
       "      <td>0.115788</td>\n",
       "      <td>0.884212</td>\n",
       "    </tr>\n",
       "    <tr>\n",
       "      <th>...</th>\n",
       "      <td>...</td>\n",
       "      <td>...</td>\n",
       "    </tr>\n",
       "    <tr>\n",
       "      <th>9993</th>\n",
       "      <td>0.059322</td>\n",
       "      <td>0.940678</td>\n",
       "    </tr>\n",
       "    <tr>\n",
       "      <th>9997</th>\n",
       "      <td>0.625000</td>\n",
       "      <td>0.375000</td>\n",
       "    </tr>\n",
       "    <tr>\n",
       "      <th>9998</th>\n",
       "      <td>0.357143</td>\n",
       "      <td>0.642857</td>\n",
       "    </tr>\n",
       "    <tr>\n",
       "      <th>99998</th>\n",
       "      <td>NaN</td>\n",
       "      <td>1.000000</td>\n",
       "    </tr>\n",
       "    <tr>\n",
       "      <th>99999</th>\n",
       "      <td>0.132919</td>\n",
       "      <td>0.867081</td>\n",
       "    </tr>\n",
       "  </tbody>\n",
       "</table>\n",
       "<p>1559 rows × 2 columns</p>\n",
       "</div>"
      ],
      "text/plain": [
       "type        Daily   Regular\n",
       "rent_id                    \n",
       "1001     0.178073  0.821927\n",
       "1002     0.190514  0.809486\n",
       "1003     0.158406  0.841594\n",
       "1004     0.176554  0.823446\n",
       "1006     0.115788  0.884212\n",
       "...           ...       ...\n",
       "9993     0.059322  0.940678\n",
       "9997     0.625000  0.375000\n",
       "9998     0.357143  0.642857\n",
       "99998         NaN  1.000000\n",
       "99999    0.132919  0.867081\n",
       "\n",
       "[1559 rows x 2 columns]"
      ]
     },
     "execution_count": 38,
     "metadata": {},
     "output_type": "execute_result"
    }
   ],
   "source": [
    "df2019_week.groupby('rent_id')['type'].value_counts(normalize=True).unstack()"
   ]
  },
  {
   "cell_type": "code",
   "execution_count": 68,
   "metadata": {},
   "outputs": [],
   "source": [
    "# 대여소 기준 연도에 따른 주중/주말 이용권 비율 데이터프레임 생성\n",
    "\n",
    "def ratio_by_station(df):\n",
    "    grouped=df.groupby('rent_id')['type'].value_counts(normalize=True).unstack()\n",
    "    \n",
    "    station_id=grouped.index\n",
    "    daily=grouped['Daily'].values\n",
    "    regular=grouped['Regular'].values\n",
    "    \n",
    "    new_df=pd.DataFrame()\n",
    "    new_df['station_id']=station_id\n",
    "    new_df['Daily']=daily\n",
    "    new_df['Regular']=regular\n",
    "    \n",
    "    return new_df"
   ]
  },
  {
   "cell_type": "code",
   "execution_count": 101,
   "metadata": {},
   "outputs": [],
   "source": [
    "df2019_week_station=ratio_by_station(df2019_week)\n",
    "df2019_week_station.rename(columns={'Daily':'19_week_daily', 'Regular':'19_week_regular'}, inplace=True)\n",
    "df2019_hol_station=ratio_by_station(df2019_hol)\n",
    "df2019_hol_station.rename(columns={'Daily':'19_hol_daily', 'Regular':'19_hol_regular'}, inplace=True)\n",
    "df2020_week_station=ratio_by_station(df2020_week)\n",
    "df2020_week_station.rename(columns={'Daily':'20_week_daily', 'Regular':'20_week_regular'}, inplace=True)\n",
    "df2020_hol_station=ratio_by_station(df2020_hol)\n",
    "df2020_hol_station.rename(columns={'Daily':'20_hol_daily', 'Regular':'20_hol_regular'}, inplace=True)\n",
    "\n",
    "df_station=pd.merge(df2019_week_station, df2019_hol_station, left_on='station_id',right_on='station_id',how='outer')\n",
    "df_station=pd.merge(df_station, df2020_week_station, left_on='station_id',right_on='station_id',how='outer')\n",
    "df_station=pd.merge(df_station, df2020_hol_station, left_on='station_id',right_on='station_id',how='outer')"
   ]
  },
  {
   "cell_type": "code",
   "execution_count": 102,
   "metadata": {},
   "outputs": [
    {
     "name": "stdout",
     "output_type": "stream",
     "text": [
      "19년도 주중 :  (1559, 3)\n",
      "19년도 주말 :  (1556, 3)\n",
      "20년도 주중 :  (2164, 3)\n",
      "20년도 주말 :  (2105, 3)\n"
     ]
    }
   ],
   "source": [
    "print('19년도 주중 : ',df2019_week_station.shape)\n",
    "print('19년도 주말 : ',df2019_hol_station.shape)\n",
    "print('20년도 주중 : ',df2020_week_station.shape)\n",
    "print('20년도 주말 : ',df2020_hol_station.shape)"
   ]
  },
  {
   "cell_type": "code",
   "execution_count": 103,
   "metadata": {},
   "outputs": [
    {
     "data": {
      "text/html": [
       "<div>\n",
       "<style scoped>\n",
       "    .dataframe tbody tr th:only-of-type {\n",
       "        vertical-align: middle;\n",
       "    }\n",
       "\n",
       "    .dataframe tbody tr th {\n",
       "        vertical-align: top;\n",
       "    }\n",
       "\n",
       "    .dataframe thead th {\n",
       "        text-align: right;\n",
       "    }\n",
       "</style>\n",
       "<table border=\"1\" class=\"dataframe\">\n",
       "  <thead>\n",
       "    <tr style=\"text-align: right;\">\n",
       "      <th></th>\n",
       "      <th>station_id</th>\n",
       "      <th>19_week_daily</th>\n",
       "      <th>19_week_regular</th>\n",
       "      <th>19_hol_daily</th>\n",
       "      <th>19_hol_regular</th>\n",
       "      <th>20_week_daily</th>\n",
       "      <th>20_week_regular</th>\n",
       "      <th>20_hol_daily</th>\n",
       "      <th>20_hol_regular</th>\n",
       "    </tr>\n",
       "  </thead>\n",
       "  <tbody>\n",
       "    <tr>\n",
       "      <th>0</th>\n",
       "      <td>1001</td>\n",
       "      <td>0.172905</td>\n",
       "      <td>0.827095</td>\n",
       "      <td>0.316646</td>\n",
       "      <td>0.683354</td>\n",
       "      <td>0.258624</td>\n",
       "      <td>0.741376</td>\n",
       "      <td>0.392308</td>\n",
       "      <td>0.607692</td>\n",
       "    </tr>\n",
       "    <tr>\n",
       "      <th>1</th>\n",
       "      <td>1002</td>\n",
       "      <td>0.183894</td>\n",
       "      <td>0.816106</td>\n",
       "      <td>0.356350</td>\n",
       "      <td>0.643650</td>\n",
       "      <td>0.283254</td>\n",
       "      <td>0.716746</td>\n",
       "      <td>0.454603</td>\n",
       "      <td>0.545397</td>\n",
       "    </tr>\n",
       "    <tr>\n",
       "      <th>2</th>\n",
       "      <td>1003</td>\n",
       "      <td>0.154073</td>\n",
       "      <td>0.845927</td>\n",
       "      <td>0.259140</td>\n",
       "      <td>0.740860</td>\n",
       "      <td>0.238314</td>\n",
       "      <td>0.761686</td>\n",
       "      <td>0.364192</td>\n",
       "      <td>0.635808</td>\n",
       "    </tr>\n",
       "    <tr>\n",
       "      <th>3</th>\n",
       "      <td>1004</td>\n",
       "      <td>0.172014</td>\n",
       "      <td>0.827986</td>\n",
       "      <td>0.301563</td>\n",
       "      <td>0.698438</td>\n",
       "      <td>0.272103</td>\n",
       "      <td>0.727897</td>\n",
       "      <td>0.428854</td>\n",
       "      <td>0.571146</td>\n",
       "    </tr>\n",
       "    <tr>\n",
       "      <th>4</th>\n",
       "      <td>1006</td>\n",
       "      <td>0.113201</td>\n",
       "      <td>0.886799</td>\n",
       "      <td>0.241314</td>\n",
       "      <td>0.758686</td>\n",
       "      <td>0.197472</td>\n",
       "      <td>0.802528</td>\n",
       "      <td>0.357414</td>\n",
       "      <td>0.642586</td>\n",
       "    </tr>\n",
       "    <tr>\n",
       "      <th>5</th>\n",
       "      <td>1007</td>\n",
       "      <td>0.212272</td>\n",
       "      <td>0.787728</td>\n",
       "      <td>0.443936</td>\n",
       "      <td>0.556064</td>\n",
       "      <td>0.272926</td>\n",
       "      <td>0.727074</td>\n",
       "      <td>0.541985</td>\n",
       "      <td>0.458015</td>\n",
       "    </tr>\n",
       "    <tr>\n",
       "      <th>6</th>\n",
       "      <td>1008</td>\n",
       "      <td>0.159479</td>\n",
       "      <td>0.840521</td>\n",
       "      <td>0.293281</td>\n",
       "      <td>0.706719</td>\n",
       "      <td>0.242745</td>\n",
       "      <td>0.757255</td>\n",
       "      <td>0.403878</td>\n",
       "      <td>0.596122</td>\n",
       "    </tr>\n",
       "    <tr>\n",
       "      <th>7</th>\n",
       "      <td>1009</td>\n",
       "      <td>0.204528</td>\n",
       "      <td>0.795472</td>\n",
       "      <td>0.341662</td>\n",
       "      <td>0.658338</td>\n",
       "      <td>0.266499</td>\n",
       "      <td>0.733501</td>\n",
       "      <td>0.417925</td>\n",
       "      <td>0.582075</td>\n",
       "    </tr>\n",
       "    <tr>\n",
       "      <th>8</th>\n",
       "      <td>101</td>\n",
       "      <td>0.147218</td>\n",
       "      <td>0.852782</td>\n",
       "      <td>0.248787</td>\n",
       "      <td>0.751213</td>\n",
       "      <td>0.191620</td>\n",
       "      <td>0.808380</td>\n",
       "      <td>0.306781</td>\n",
       "      <td>0.693219</td>\n",
       "    </tr>\n",
       "    <tr>\n",
       "      <th>9</th>\n",
       "      <td>1010</td>\n",
       "      <td>0.142545</td>\n",
       "      <td>0.857455</td>\n",
       "      <td>0.230505</td>\n",
       "      <td>0.769495</td>\n",
       "      <td>0.198139</td>\n",
       "      <td>0.801861</td>\n",
       "      <td>0.319519</td>\n",
       "      <td>0.680481</td>\n",
       "    </tr>\n",
       "    <tr>\n",
       "      <th>10</th>\n",
       "      <td>1011</td>\n",
       "      <td>0.148474</td>\n",
       "      <td>0.851526</td>\n",
       "      <td>0.255840</td>\n",
       "      <td>0.744160</td>\n",
       "      <td>0.190440</td>\n",
       "      <td>0.809560</td>\n",
       "      <td>0.307453</td>\n",
       "      <td>0.692547</td>\n",
       "    </tr>\n",
       "    <tr>\n",
       "      <th>11</th>\n",
       "      <td>1012</td>\n",
       "      <td>0.150731</td>\n",
       "      <td>0.849269</td>\n",
       "      <td>0.280800</td>\n",
       "      <td>0.719200</td>\n",
       "      <td>0.198793</td>\n",
       "      <td>0.801207</td>\n",
       "      <td>0.318497</td>\n",
       "      <td>0.681503</td>\n",
       "    </tr>\n",
       "    <tr>\n",
       "      <th>12</th>\n",
       "      <td>1013</td>\n",
       "      <td>0.130410</td>\n",
       "      <td>0.869590</td>\n",
       "      <td>0.258897</td>\n",
       "      <td>0.741103</td>\n",
       "      <td>0.172259</td>\n",
       "      <td>0.827741</td>\n",
       "      <td>0.287926</td>\n",
       "      <td>0.712074</td>\n",
       "    </tr>\n",
       "    <tr>\n",
       "      <th>13</th>\n",
       "      <td>1014</td>\n",
       "      <td>0.137060</td>\n",
       "      <td>0.862940</td>\n",
       "      <td>0.244817</td>\n",
       "      <td>0.755183</td>\n",
       "      <td>0.179793</td>\n",
       "      <td>0.820207</td>\n",
       "      <td>0.276410</td>\n",
       "      <td>0.723590</td>\n",
       "    </tr>\n",
       "    <tr>\n",
       "      <th>14</th>\n",
       "      <td>1015</td>\n",
       "      <td>0.151385</td>\n",
       "      <td>0.848615</td>\n",
       "      <td>0.239130</td>\n",
       "      <td>0.760870</td>\n",
       "      <td>0.214928</td>\n",
       "      <td>0.785072</td>\n",
       "      <td>0.328938</td>\n",
       "      <td>0.671062</td>\n",
       "    </tr>\n",
       "    <tr>\n",
       "      <th>15</th>\n",
       "      <td>1016</td>\n",
       "      <td>0.157205</td>\n",
       "      <td>0.842795</td>\n",
       "      <td>0.274011</td>\n",
       "      <td>0.725989</td>\n",
       "      <td>0.244992</td>\n",
       "      <td>0.755008</td>\n",
       "      <td>0.408752</td>\n",
       "      <td>0.591248</td>\n",
       "    </tr>\n",
       "    <tr>\n",
       "      <th>16</th>\n",
       "      <td>1017</td>\n",
       "      <td>0.125224</td>\n",
       "      <td>0.874776</td>\n",
       "      <td>0.219096</td>\n",
       "      <td>0.780904</td>\n",
       "      <td>0.170838</td>\n",
       "      <td>0.829162</td>\n",
       "      <td>0.317483</td>\n",
       "      <td>0.682517</td>\n",
       "    </tr>\n",
       "    <tr>\n",
       "      <th>17</th>\n",
       "      <td>1018</td>\n",
       "      <td>0.194099</td>\n",
       "      <td>0.805901</td>\n",
       "      <td>0.319003</td>\n",
       "      <td>0.680997</td>\n",
       "      <td>0.215385</td>\n",
       "      <td>0.784615</td>\n",
       "      <td>0.364322</td>\n",
       "      <td>0.635678</td>\n",
       "    </tr>\n",
       "    <tr>\n",
       "      <th>18</th>\n",
       "      <td>1019</td>\n",
       "      <td>0.128197</td>\n",
       "      <td>0.871803</td>\n",
       "      <td>0.238497</td>\n",
       "      <td>0.761503</td>\n",
       "      <td>0.177659</td>\n",
       "      <td>0.822341</td>\n",
       "      <td>0.293216</td>\n",
       "      <td>0.706784</td>\n",
       "    </tr>\n",
       "    <tr>\n",
       "      <th>19</th>\n",
       "      <td>102</td>\n",
       "      <td>0.174882</td>\n",
       "      <td>0.825118</td>\n",
       "      <td>0.330460</td>\n",
       "      <td>0.669540</td>\n",
       "      <td>0.234449</td>\n",
       "      <td>0.765551</td>\n",
       "      <td>0.390857</td>\n",
       "      <td>0.609143</td>\n",
       "    </tr>\n",
       "  </tbody>\n",
       "</table>\n",
       "</div>"
      ],
      "text/plain": [
       "   station_id  19_week_daily  19_week_regular  19_hol_daily  19_hol_regular  \\\n",
       "0        1001       0.172905         0.827095      0.316646        0.683354   \n",
       "1        1002       0.183894         0.816106      0.356350        0.643650   \n",
       "2        1003       0.154073         0.845927      0.259140        0.740860   \n",
       "3        1004       0.172014         0.827986      0.301563        0.698438   \n",
       "4        1006       0.113201         0.886799      0.241314        0.758686   \n",
       "5        1007       0.212272         0.787728      0.443936        0.556064   \n",
       "6        1008       0.159479         0.840521      0.293281        0.706719   \n",
       "7        1009       0.204528         0.795472      0.341662        0.658338   \n",
       "8         101       0.147218         0.852782      0.248787        0.751213   \n",
       "9        1010       0.142545         0.857455      0.230505        0.769495   \n",
       "10       1011       0.148474         0.851526      0.255840        0.744160   \n",
       "11       1012       0.150731         0.849269      0.280800        0.719200   \n",
       "12       1013       0.130410         0.869590      0.258897        0.741103   \n",
       "13       1014       0.137060         0.862940      0.244817        0.755183   \n",
       "14       1015       0.151385         0.848615      0.239130        0.760870   \n",
       "15       1016       0.157205         0.842795      0.274011        0.725989   \n",
       "16       1017       0.125224         0.874776      0.219096        0.780904   \n",
       "17       1018       0.194099         0.805901      0.319003        0.680997   \n",
       "18       1019       0.128197         0.871803      0.238497        0.761503   \n",
       "19        102       0.174882         0.825118      0.330460        0.669540   \n",
       "\n",
       "    20_week_daily  20_week_regular  20_hol_daily  20_hol_regular  \n",
       "0        0.258624         0.741376      0.392308        0.607692  \n",
       "1        0.283254         0.716746      0.454603        0.545397  \n",
       "2        0.238314         0.761686      0.364192        0.635808  \n",
       "3        0.272103         0.727897      0.428854        0.571146  \n",
       "4        0.197472         0.802528      0.357414        0.642586  \n",
       "5        0.272926         0.727074      0.541985        0.458015  \n",
       "6        0.242745         0.757255      0.403878        0.596122  \n",
       "7        0.266499         0.733501      0.417925        0.582075  \n",
       "8        0.191620         0.808380      0.306781        0.693219  \n",
       "9        0.198139         0.801861      0.319519        0.680481  \n",
       "10       0.190440         0.809560      0.307453        0.692547  \n",
       "11       0.198793         0.801207      0.318497        0.681503  \n",
       "12       0.172259         0.827741      0.287926        0.712074  \n",
       "13       0.179793         0.820207      0.276410        0.723590  \n",
       "14       0.214928         0.785072      0.328938        0.671062  \n",
       "15       0.244992         0.755008      0.408752        0.591248  \n",
       "16       0.170838         0.829162      0.317483        0.682517  \n",
       "17       0.215385         0.784615      0.364322        0.635678  \n",
       "18       0.177659         0.822341      0.293216        0.706784  \n",
       "19       0.234449         0.765551      0.390857        0.609143  "
      ]
     },
     "execution_count": 103,
     "metadata": {},
     "output_type": "execute_result"
    }
   ],
   "source": [
    "df_station=df_station.reset_index(drop=True)\n",
    "df_station.head(20)"
   ]
  },
  {
   "cell_type": "code",
   "execution_count": 96,
   "metadata": {},
   "outputs": [
    {
     "data": {
      "text/html": [
       "<div>\n",
       "<style scoped>\n",
       "    .dataframe tbody tr th:only-of-type {\n",
       "        vertical-align: middle;\n",
       "    }\n",
       "\n",
       "    .dataframe tbody tr th {\n",
       "        vertical-align: top;\n",
       "    }\n",
       "\n",
       "    .dataframe thead th {\n",
       "        text-align: right;\n",
       "    }\n",
       "</style>\n",
       "<table border=\"1\" class=\"dataframe\">\n",
       "  <thead>\n",
       "    <tr style=\"text-align: right;\">\n",
       "      <th></th>\n",
       "      <th>ID</th>\n",
       "      <th>stationName</th>\n",
       "      <th>Y</th>\n",
       "      <th>X</th>\n",
       "      <th>Xn</th>\n",
       "      <th>Yn</th>\n",
       "      <th>Elev</th>\n",
       "      <th>BikeRoadNM</th>\n",
       "      <th>ToBikeRoad</th>\n",
       "    </tr>\n",
       "  </thead>\n",
       "  <tbody>\n",
       "    <tr>\n",
       "      <th>0</th>\n",
       "      <td>101</td>\n",
       "      <td>101. (구)합정동 주민센터</td>\n",
       "      <td>37.549561</td>\n",
       "      <td>126.905754</td>\n",
       "      <td>947509.050934</td>\n",
       "      <td>1.950191e+06</td>\n",
       "      <td>9.152323</td>\n",
       "      <td>한강자전거길</td>\n",
       "      <td>771.0</td>\n",
       "    </tr>\n",
       "    <tr>\n",
       "      <th>1</th>\n",
       "      <td>102</td>\n",
       "      <td>102. 망원역 1번출구 앞</td>\n",
       "      <td>37.555649</td>\n",
       "      <td>126.910629</td>\n",
       "      <td>947943.924406</td>\n",
       "      <td>1.950863e+06</td>\n",
       "      <td>6.963737</td>\n",
       "      <td>홍제천자전거길</td>\n",
       "      <td>1065.0</td>\n",
       "    </tr>\n",
       "    <tr>\n",
       "      <th>2</th>\n",
       "      <td>103</td>\n",
       "      <td>103. 망원역 2번출구 앞</td>\n",
       "      <td>37.554951</td>\n",
       "      <td>126.910835</td>\n",
       "      <td>947961.634042</td>\n",
       "      <td>1.950786e+06</td>\n",
       "      <td>6.865565</td>\n",
       "      <td>한강자전거길</td>\n",
       "      <td>1146.0</td>\n",
       "    </tr>\n",
       "    <tr>\n",
       "      <th>3</th>\n",
       "      <td>104</td>\n",
       "      <td>104. 합정역 1번출구 앞</td>\n",
       "      <td>37.550629</td>\n",
       "      <td>126.914986</td>\n",
       "      <td>948325.239132</td>\n",
       "      <td>1.950304e+06</td>\n",
       "      <td>18.136753</td>\n",
       "      <td>한강자전거길</td>\n",
       "      <td>676.0</td>\n",
       "    </tr>\n",
       "    <tr>\n",
       "      <th>4</th>\n",
       "      <td>105</td>\n",
       "      <td>105. 합정역 5번출구 앞</td>\n",
       "      <td>37.550007</td>\n",
       "      <td>126.914825</td>\n",
       "      <td>948310.657239</td>\n",
       "      <td>1.950235e+06</td>\n",
       "      <td>17.498430</td>\n",
       "      <td>한강자전거길</td>\n",
       "      <td>962.0</td>\n",
       "    </tr>\n",
       "  </tbody>\n",
       "</table>\n",
       "</div>"
      ],
      "text/plain": [
       "    ID       stationName          Y           X             Xn            Yn  \\\n",
       "0  101  101. (구)합정동 주민센터  37.549561  126.905754  947509.050934  1.950191e+06   \n",
       "1  102   102. 망원역 1번출구 앞  37.555649  126.910629  947943.924406  1.950863e+06   \n",
       "2  103   103. 망원역 2번출구 앞  37.554951  126.910835  947961.634042  1.950786e+06   \n",
       "3  104   104. 합정역 1번출구 앞  37.550629  126.914986  948325.239132  1.950304e+06   \n",
       "4  105   105. 합정역 5번출구 앞  37.550007  126.914825  948310.657239  1.950235e+06   \n",
       "\n",
       "        Elev BikeRoadNM  ToBikeRoad  \n",
       "0   9.152323     한강자전거길       771.0  \n",
       "1   6.963737    홍제천자전거길      1065.0  \n",
       "2   6.865565     한강자전거길      1146.0  \n",
       "3  18.136753     한강자전거길       676.0  \n",
       "4  17.498430     한강자전거길       962.0  "
      ]
     },
     "execution_count": 96,
     "metadata": {},
     "output_type": "execute_result"
    }
   ],
   "source": [
    "sta_info=pd.read_csv('../dataset/con_sta_info.csv')\n",
    "sta_info.head()"
   ]
  },
  {
   "cell_type": "code",
   "execution_count": 104,
   "metadata": {},
   "outputs": [
    {
     "data": {
      "text/plain": [
       "['101', '102', '103', '104', '105']"
      ]
     },
     "execution_count": 104,
     "metadata": {},
     "output_type": "execute_result"
    }
   ],
   "source": [
    "id_info=sta_info['ID'].unique().tolist()\n",
    "id_info=[str(i) for i in id_info]\n",
    "id_info[:5]"
   ]
  },
  {
   "cell_type": "code",
   "execution_count": 105,
   "metadata": {},
   "outputs": [
    {
     "data": {
      "text/plain": [
       "str"
      ]
     },
     "execution_count": 105,
     "metadata": {},
     "output_type": "execute_result"
    }
   ],
   "source": [
    "type(id_info[0])"
   ]
  },
  {
   "cell_type": "code",
   "execution_count": 106,
   "metadata": {},
   "outputs": [
    {
     "data": {
      "text/html": [
       "<div>\n",
       "<style scoped>\n",
       "    .dataframe tbody tr th:only-of-type {\n",
       "        vertical-align: middle;\n",
       "    }\n",
       "\n",
       "    .dataframe tbody tr th {\n",
       "        vertical-align: top;\n",
       "    }\n",
       "\n",
       "    .dataframe thead th {\n",
       "        text-align: right;\n",
       "    }\n",
       "</style>\n",
       "<table border=\"1\" class=\"dataframe\">\n",
       "  <thead>\n",
       "    <tr style=\"text-align: right;\">\n",
       "      <th></th>\n",
       "      <th>station_id</th>\n",
       "      <th>19_week_daily</th>\n",
       "      <th>19_week_regular</th>\n",
       "      <th>19_hol_daily</th>\n",
       "      <th>19_hol_regular</th>\n",
       "      <th>20_week_daily</th>\n",
       "      <th>20_week_regular</th>\n",
       "      <th>20_hol_daily</th>\n",
       "      <th>20_hol_regular</th>\n",
       "    </tr>\n",
       "  </thead>\n",
       "  <tbody>\n",
       "    <tr>\n",
       "      <th>0</th>\n",
       "      <td>1001</td>\n",
       "      <td>0.172905</td>\n",
       "      <td>0.827095</td>\n",
       "      <td>0.316646</td>\n",
       "      <td>0.683354</td>\n",
       "      <td>0.258624</td>\n",
       "      <td>0.741376</td>\n",
       "      <td>0.392308</td>\n",
       "      <td>0.607692</td>\n",
       "    </tr>\n",
       "    <tr>\n",
       "      <th>1</th>\n",
       "      <td>1002</td>\n",
       "      <td>0.183894</td>\n",
       "      <td>0.816106</td>\n",
       "      <td>0.356350</td>\n",
       "      <td>0.643650</td>\n",
       "      <td>0.283254</td>\n",
       "      <td>0.716746</td>\n",
       "      <td>0.454603</td>\n",
       "      <td>0.545397</td>\n",
       "    </tr>\n",
       "    <tr>\n",
       "      <th>2</th>\n",
       "      <td>1003</td>\n",
       "      <td>0.154073</td>\n",
       "      <td>0.845927</td>\n",
       "      <td>0.259140</td>\n",
       "      <td>0.740860</td>\n",
       "      <td>0.238314</td>\n",
       "      <td>0.761686</td>\n",
       "      <td>0.364192</td>\n",
       "      <td>0.635808</td>\n",
       "    </tr>\n",
       "    <tr>\n",
       "      <th>3</th>\n",
       "      <td>1004</td>\n",
       "      <td>0.172014</td>\n",
       "      <td>0.827986</td>\n",
       "      <td>0.301563</td>\n",
       "      <td>0.698438</td>\n",
       "      <td>0.272103</td>\n",
       "      <td>0.727897</td>\n",
       "      <td>0.428854</td>\n",
       "      <td>0.571146</td>\n",
       "    </tr>\n",
       "    <tr>\n",
       "      <th>4</th>\n",
       "      <td>1006</td>\n",
       "      <td>0.113201</td>\n",
       "      <td>0.886799</td>\n",
       "      <td>0.241314</td>\n",
       "      <td>0.758686</td>\n",
       "      <td>0.197472</td>\n",
       "      <td>0.802528</td>\n",
       "      <td>0.357414</td>\n",
       "      <td>0.642586</td>\n",
       "    </tr>\n",
       "  </tbody>\n",
       "</table>\n",
       "</div>"
      ],
      "text/plain": [
       "  station_id  19_week_daily  19_week_regular  19_hol_daily  19_hol_regular  \\\n",
       "0       1001       0.172905         0.827095      0.316646        0.683354   \n",
       "1       1002       0.183894         0.816106      0.356350        0.643650   \n",
       "2       1003       0.154073         0.845927      0.259140        0.740860   \n",
       "3       1004       0.172014         0.827986      0.301563        0.698438   \n",
       "4       1006       0.113201         0.886799      0.241314        0.758686   \n",
       "\n",
       "   20_week_daily  20_week_regular  20_hol_daily  20_hol_regular  \n",
       "0       0.258624         0.741376      0.392308        0.607692  \n",
       "1       0.283254         0.716746      0.454603        0.545397  \n",
       "2       0.238314         0.761686      0.364192        0.635808  \n",
       "3       0.272103         0.727897      0.428854        0.571146  \n",
       "4       0.197472         0.802528      0.357414        0.642586  "
      ]
     },
     "execution_count": 106,
     "metadata": {},
     "output_type": "execute_result"
    }
   ],
   "source": [
    "df_station=df_station[df_station['station_id'].isin(id_info)].reset_index(drop=True)\n",
    "df_station.head()"
   ]
  },
  {
   "cell_type": "code",
   "execution_count": 108,
   "metadata": {},
   "outputs": [
    {
     "data": {
      "text/plain": [
       "(1527, 9)"
      ]
     },
     "execution_count": 108,
     "metadata": {},
     "output_type": "execute_result"
    }
   ],
   "source": [
    "df_station.shape"
   ]
  },
  {
   "cell_type": "markdown",
   "metadata": {},
   "source": [
    "## 19->20 차이가 큰 정류소 찾기"
   ]
  },
  {
   "cell_type": "markdown",
   "metadata": {},
   "source": [
    "#### 편하게 보기위해서 정기권만 가지고 확인"
   ]
  },
  {
   "cell_type": "code",
   "execution_count": 110,
   "metadata": {},
   "outputs": [
    {
     "data": {
      "text/html": [
       "<div>\n",
       "<style scoped>\n",
       "    .dataframe tbody tr th:only-of-type {\n",
       "        vertical-align: middle;\n",
       "    }\n",
       "\n",
       "    .dataframe tbody tr th {\n",
       "        vertical-align: top;\n",
       "    }\n",
       "\n",
       "    .dataframe thead th {\n",
       "        text-align: right;\n",
       "    }\n",
       "</style>\n",
       "<table border=\"1\" class=\"dataframe\">\n",
       "  <thead>\n",
       "    <tr style=\"text-align: right;\">\n",
       "      <th></th>\n",
       "      <th>station_id</th>\n",
       "      <th>19_week_regular</th>\n",
       "      <th>19_hol_regular</th>\n",
       "      <th>20_week_regular</th>\n",
       "      <th>20_hol_regular</th>\n",
       "    </tr>\n",
       "  </thead>\n",
       "  <tbody>\n",
       "    <tr>\n",
       "      <th>0</th>\n",
       "      <td>1001</td>\n",
       "      <td>0.827095</td>\n",
       "      <td>0.683354</td>\n",
       "      <td>0.741376</td>\n",
       "      <td>0.607692</td>\n",
       "    </tr>\n",
       "    <tr>\n",
       "      <th>1</th>\n",
       "      <td>1002</td>\n",
       "      <td>0.816106</td>\n",
       "      <td>0.643650</td>\n",
       "      <td>0.716746</td>\n",
       "      <td>0.545397</td>\n",
       "    </tr>\n",
       "    <tr>\n",
       "      <th>2</th>\n",
       "      <td>1003</td>\n",
       "      <td>0.845927</td>\n",
       "      <td>0.740860</td>\n",
       "      <td>0.761686</td>\n",
       "      <td>0.635808</td>\n",
       "    </tr>\n",
       "    <tr>\n",
       "      <th>3</th>\n",
       "      <td>1004</td>\n",
       "      <td>0.827986</td>\n",
       "      <td>0.698438</td>\n",
       "      <td>0.727897</td>\n",
       "      <td>0.571146</td>\n",
       "    </tr>\n",
       "    <tr>\n",
       "      <th>4</th>\n",
       "      <td>1006</td>\n",
       "      <td>0.886799</td>\n",
       "      <td>0.758686</td>\n",
       "      <td>0.802528</td>\n",
       "      <td>0.642586</td>\n",
       "    </tr>\n",
       "  </tbody>\n",
       "</table>\n",
       "</div>"
      ],
      "text/plain": [
       "  station_id  19_week_regular  19_hol_regular  20_week_regular  20_hol_regular\n",
       "0       1001         0.827095        0.683354         0.741376        0.607692\n",
       "1       1002         0.816106        0.643650         0.716746        0.545397\n",
       "2       1003         0.845927        0.740860         0.761686        0.635808\n",
       "3       1004         0.827986        0.698438         0.727897        0.571146\n",
       "4       1006         0.886799        0.758686         0.802528        0.642586"
      ]
     },
     "execution_count": 110,
     "metadata": {},
     "output_type": "execute_result"
    }
   ],
   "source": [
    "df_station_reg=df_station[['station_id','19_week_regular','19_hol_regular','20_week_regular','20_hol_regular']]\n",
    "df_station_reg.head()"
   ]
  },
  {
   "cell_type": "code",
   "execution_count": 112,
   "metadata": {},
   "outputs": [
    {
     "name": "stderr",
     "output_type": "stream",
     "text": [
      "C:\\Users\\river\\anaconda3\\lib\\site-packages\\ipykernel_launcher.py:1: SettingWithCopyWarning: \n",
      "A value is trying to be set on a copy of a slice from a DataFrame.\n",
      "Try using .loc[row_indexer,col_indexer] = value instead\n",
      "\n",
      "See the caveats in the documentation: https://pandas.pydata.org/pandas-docs/stable/user_guide/indexing.html#returning-a-view-versus-a-copy\n",
      "  \"\"\"Entry point for launching an IPython kernel.\n",
      "C:\\Users\\river\\anaconda3\\lib\\site-packages\\ipykernel_launcher.py:2: SettingWithCopyWarning: \n",
      "A value is trying to be set on a copy of a slice from a DataFrame.\n",
      "Try using .loc[row_indexer,col_indexer] = value instead\n",
      "\n",
      "See the caveats in the documentation: https://pandas.pydata.org/pandas-docs/stable/user_guide/indexing.html#returning-a-view-versus-a-copy\n",
      "  \n"
     ]
    },
    {
     "data": {
      "text/html": [
       "<div>\n",
       "<style scoped>\n",
       "    .dataframe tbody tr th:only-of-type {\n",
       "        vertical-align: middle;\n",
       "    }\n",
       "\n",
       "    .dataframe tbody tr th {\n",
       "        vertical-align: top;\n",
       "    }\n",
       "\n",
       "    .dataframe thead th {\n",
       "        text-align: right;\n",
       "    }\n",
       "</style>\n",
       "<table border=\"1\" class=\"dataframe\">\n",
       "  <thead>\n",
       "    <tr style=\"text-align: right;\">\n",
       "      <th></th>\n",
       "      <th>station_id</th>\n",
       "      <th>19_week_regular</th>\n",
       "      <th>19_hol_regular</th>\n",
       "      <th>20_week_regular</th>\n",
       "      <th>20_hol_regular</th>\n",
       "      <th>week diff</th>\n",
       "      <th>hol diff</th>\n",
       "    </tr>\n",
       "  </thead>\n",
       "  <tbody>\n",
       "    <tr>\n",
       "      <th>0</th>\n",
       "      <td>1001</td>\n",
       "      <td>0.827095</td>\n",
       "      <td>0.683354</td>\n",
       "      <td>0.741376</td>\n",
       "      <td>0.607692</td>\n",
       "      <td>0.085718</td>\n",
       "      <td>0.075662</td>\n",
       "    </tr>\n",
       "    <tr>\n",
       "      <th>1</th>\n",
       "      <td>1002</td>\n",
       "      <td>0.816106</td>\n",
       "      <td>0.643650</td>\n",
       "      <td>0.716746</td>\n",
       "      <td>0.545397</td>\n",
       "      <td>0.099361</td>\n",
       "      <td>0.098253</td>\n",
       "    </tr>\n",
       "    <tr>\n",
       "      <th>2</th>\n",
       "      <td>1003</td>\n",
       "      <td>0.845927</td>\n",
       "      <td>0.740860</td>\n",
       "      <td>0.761686</td>\n",
       "      <td>0.635808</td>\n",
       "      <td>0.084241</td>\n",
       "      <td>0.105052</td>\n",
       "    </tr>\n",
       "    <tr>\n",
       "      <th>3</th>\n",
       "      <td>1004</td>\n",
       "      <td>0.827986</td>\n",
       "      <td>0.698438</td>\n",
       "      <td>0.727897</td>\n",
       "      <td>0.571146</td>\n",
       "      <td>0.100089</td>\n",
       "      <td>0.127291</td>\n",
       "    </tr>\n",
       "    <tr>\n",
       "      <th>4</th>\n",
       "      <td>1006</td>\n",
       "      <td>0.886799</td>\n",
       "      <td>0.758686</td>\n",
       "      <td>0.802528</td>\n",
       "      <td>0.642586</td>\n",
       "      <td>0.084271</td>\n",
       "      <td>0.116101</td>\n",
       "    </tr>\n",
       "  </tbody>\n",
       "</table>\n",
       "</div>"
      ],
      "text/plain": [
       "  station_id  19_week_regular  19_hol_regular  20_week_regular  \\\n",
       "0       1001         0.827095        0.683354         0.741376   \n",
       "1       1002         0.816106        0.643650         0.716746   \n",
       "2       1003         0.845927        0.740860         0.761686   \n",
       "3       1004         0.827986        0.698438         0.727897   \n",
       "4       1006         0.886799        0.758686         0.802528   \n",
       "\n",
       "   20_hol_regular  week diff  hol diff  \n",
       "0        0.607692   0.085718  0.075662  \n",
       "1        0.545397   0.099361  0.098253  \n",
       "2        0.635808   0.084241  0.105052  \n",
       "3        0.571146   0.100089  0.127291  \n",
       "4        0.642586   0.084271  0.116101  "
      ]
     },
     "execution_count": 112,
     "metadata": {},
     "output_type": "execute_result"
    }
   ],
   "source": [
    "df_station_reg['week diff']=abs(df_station_reg['20_week_regular']-df_station_reg['19_week_regular'])\n",
    "df_station_reg['hol diff']=abs(df_station_reg['20_hol_regular']-df_station_reg['19_hol_regular'])\n",
    "\n",
    "df_station_reg.head()"
   ]
  },
  {
   "cell_type": "code",
   "execution_count": 113,
   "metadata": {},
   "outputs": [],
   "source": [
    "def make_sign(data1, data2):\n",
    "    if data1 > data2 :\n",
    "        return '-'\n",
    "    elif data2 > data1 :\n",
    "        return '+'\n",
    "    else:\n",
    "        return '0'"
   ]
  },
  {
   "cell_type": "code",
   "execution_count": 115,
   "metadata": {},
   "outputs": [
    {
     "name": "stderr",
     "output_type": "stream",
     "text": [
      "C:\\Users\\river\\anaconda3\\lib\\site-packages\\ipykernel_launcher.py:1: SettingWithCopyWarning: \n",
      "A value is trying to be set on a copy of a slice from a DataFrame.\n",
      "Try using .loc[row_indexer,col_indexer] = value instead\n",
      "\n",
      "See the caveats in the documentation: https://pandas.pydata.org/pandas-docs/stable/user_guide/indexing.html#returning-a-view-versus-a-copy\n",
      "  \"\"\"Entry point for launching an IPython kernel.\n"
     ]
    },
    {
     "data": {
      "text/html": [
       "<div>\n",
       "<style scoped>\n",
       "    .dataframe tbody tr th:only-of-type {\n",
       "        vertical-align: middle;\n",
       "    }\n",
       "\n",
       "    .dataframe tbody tr th {\n",
       "        vertical-align: top;\n",
       "    }\n",
       "\n",
       "    .dataframe thead th {\n",
       "        text-align: right;\n",
       "    }\n",
       "</style>\n",
       "<table border=\"1\" class=\"dataframe\">\n",
       "  <thead>\n",
       "    <tr style=\"text-align: right;\">\n",
       "      <th></th>\n",
       "      <th>station_id</th>\n",
       "      <th>19_week_regular</th>\n",
       "      <th>19_hol_regular</th>\n",
       "      <th>20_week_regular</th>\n",
       "      <th>20_hol_regular</th>\n",
       "      <th>week diff</th>\n",
       "      <th>hol diff</th>\n",
       "      <th>week diff sign</th>\n",
       "      <th>hol diff sign</th>\n",
       "    </tr>\n",
       "  </thead>\n",
       "  <tbody>\n",
       "    <tr>\n",
       "      <th>0</th>\n",
       "      <td>1001</td>\n",
       "      <td>0.827095</td>\n",
       "      <td>0.683354</td>\n",
       "      <td>0.741376</td>\n",
       "      <td>0.607692</td>\n",
       "      <td>0.085718</td>\n",
       "      <td>0.075662</td>\n",
       "      <td>-</td>\n",
       "      <td>-</td>\n",
       "    </tr>\n",
       "    <tr>\n",
       "      <th>1</th>\n",
       "      <td>1002</td>\n",
       "      <td>0.816106</td>\n",
       "      <td>0.643650</td>\n",
       "      <td>0.716746</td>\n",
       "      <td>0.545397</td>\n",
       "      <td>0.099361</td>\n",
       "      <td>0.098253</td>\n",
       "      <td>-</td>\n",
       "      <td>-</td>\n",
       "    </tr>\n",
       "    <tr>\n",
       "      <th>2</th>\n",
       "      <td>1003</td>\n",
       "      <td>0.845927</td>\n",
       "      <td>0.740860</td>\n",
       "      <td>0.761686</td>\n",
       "      <td>0.635808</td>\n",
       "      <td>0.084241</td>\n",
       "      <td>0.105052</td>\n",
       "      <td>-</td>\n",
       "      <td>-</td>\n",
       "    </tr>\n",
       "    <tr>\n",
       "      <th>3</th>\n",
       "      <td>1004</td>\n",
       "      <td>0.827986</td>\n",
       "      <td>0.698438</td>\n",
       "      <td>0.727897</td>\n",
       "      <td>0.571146</td>\n",
       "      <td>0.100089</td>\n",
       "      <td>0.127291</td>\n",
       "      <td>-</td>\n",
       "      <td>-</td>\n",
       "    </tr>\n",
       "    <tr>\n",
       "      <th>4</th>\n",
       "      <td>1006</td>\n",
       "      <td>0.886799</td>\n",
       "      <td>0.758686</td>\n",
       "      <td>0.802528</td>\n",
       "      <td>0.642586</td>\n",
       "      <td>0.084271</td>\n",
       "      <td>0.116101</td>\n",
       "      <td>-</td>\n",
       "      <td>-</td>\n",
       "    </tr>\n",
       "  </tbody>\n",
       "</table>\n",
       "</div>"
      ],
      "text/plain": [
       "  station_id  19_week_regular  19_hol_regular  20_week_regular  \\\n",
       "0       1001         0.827095        0.683354         0.741376   \n",
       "1       1002         0.816106        0.643650         0.716746   \n",
       "2       1003         0.845927        0.740860         0.761686   \n",
       "3       1004         0.827986        0.698438         0.727897   \n",
       "4       1006         0.886799        0.758686         0.802528   \n",
       "\n",
       "   20_hol_regular  week diff  hol diff week diff sign hol diff sign  \n",
       "0        0.607692   0.085718  0.075662              -             -  \n",
       "1        0.545397   0.099361  0.098253              -             -  \n",
       "2        0.635808   0.084241  0.105052              -             -  \n",
       "3        0.571146   0.100089  0.127291              -             -  \n",
       "4        0.642586   0.084271  0.116101              -             -  "
      ]
     },
     "execution_count": 115,
     "metadata": {},
     "output_type": "execute_result"
    }
   ],
   "source": [
    "df_station_reg['week diff sign']=df_station_reg.apply(lambda x:make_sign(x['19_week_regular'], x['20_week_regular']), axis=1)\n",
    "df_station_reg['hol diff sign']=df_station_reg.apply(lambda x:make_sign(x['19_hol_regular'], x['20_hol_regular']), axis=1)\n",
    "\n",
    "df_station_reg.head()"
   ]
  },
  {
   "cell_type": "code",
   "execution_count": 117,
   "metadata": {},
   "outputs": [
    {
     "data": {
      "text/plain": [
       "-    1496\n",
       "+      31\n",
       "Name: week diff sign, dtype: int64"
      ]
     },
     "execution_count": 117,
     "metadata": {},
     "output_type": "execute_result"
    }
   ],
   "source": [
    "df_station_reg['week diff sign'].value_counts()"
   ]
  },
  {
   "cell_type": "code",
   "execution_count": 174,
   "metadata": {},
   "outputs": [
    {
     "name": "stdout",
     "output_type": "stream",
     "text": [
      "['1025', '1101', '1241', '1296', '1304', '1370', '1376', '1424', '1652', '1679', '1910', '198', '2141', '2180', '2225', '2275', '2357', '2364', '2385', '2392', '315', '322', '330', '337', '346', '3527', '447', '449', '462', '575', '802']\n",
      "크기 :  31\n"
     ]
    }
   ],
   "source": [
    "# 정기권의 이용 비율이 증가한 대여소 (주중)\n",
    "\n",
    "station_week_plus=df_station_reg[df_station_reg['week diff sign']=='+']['station_id'].tolist()\n",
    "print(station_week_plus)\n",
    "print('크기 : ',len(station_week_plus))"
   ]
  },
  {
   "cell_type": "code",
   "execution_count": 118,
   "metadata": {},
   "outputs": [
    {
     "data": {
      "text/plain": [
       "-    1472\n",
       "+      55\n",
       "Name: hol diff sign, dtype: int64"
      ]
     },
     "execution_count": 118,
     "metadata": {},
     "output_type": "execute_result"
    }
   ],
   "source": [
    "df_station_reg['hol diff sign'].value_counts()"
   ]
  },
  {
   "cell_type": "code",
   "execution_count": 179,
   "metadata": {},
   "outputs": [
    {
     "name": "stdout",
     "output_type": "stream",
     "text": [
      "['1108', '1220', '127', '1296', '1304', '1316', '136', '1370', '1457', '1510', '1670', '1910', '199', '1993', '2061', '2127', '2130', '2141', '2180', '2233', '2239', '2266', '2272', '2280', '2328', '2333', '2406', '2409', '2502', '2609', '2610', '2612', '307', '315', '322', '330', '336', '346', '3529', '3532', '354', '380', '391', '453', '454', '455', '462', '575', '580', '608', '640', '802', '812', '846', '963']\n",
      "크기 :  55\n"
     ]
    }
   ],
   "source": [
    "# 정기권의 이용 비율이 증가한 대여소 (주말)\n",
    "\n",
    "station_hol_plus=df_station_reg[df_station_reg['hol diff sign']=='+']['station_id'].tolist()\n",
    "print(station_hol_plus)\n",
    "print('크기 : ',len(station_hol_plus))"
   ]
  },
  {
   "cell_type": "code",
   "execution_count": 182,
   "metadata": {},
   "outputs": [
    {
     "name": "stdout",
     "output_type": "stream",
     "text": [
      "{'322', '330', '802', '1304', '2180', '462', '346', '2141', '1296', '1370', '315', '1910', '575'}\n",
      "13\n"
     ]
    }
   ],
   "source": [
    "# 정기권의 이용 비율이 증가한 대여소 교집합 (주중-주말)\n",
    "\n",
    "print(set(station_week_plus).intersection(set(station_hol_plus)))\n",
    "print(len(set(station_week_plus).intersection(set(station_hol_plus))))"
   ]
  },
  {
   "cell_type": "code",
   "execution_count": 120,
   "metadata": {},
   "outputs": [
    {
     "data": {
      "text/plain": [
       "count    1527.000000\n",
       "mean        0.059412\n",
       "std         0.030902\n",
       "min         0.000593\n",
       "25%         0.038381\n",
       "50%         0.055540\n",
       "75%         0.077492\n",
       "max         0.207296\n",
       "Name: week diff, dtype: float64"
      ]
     },
     "execution_count": 120,
     "metadata": {},
     "output_type": "execute_result"
    }
   ],
   "source": [
    "df_station_reg['week diff'].describe()"
   ]
  },
  {
   "cell_type": "code",
   "execution_count": 133,
   "metadata": {},
   "outputs": [
    {
     "data": {
      "text/plain": [
       "count    1527.000000\n",
       "mean        0.072593\n",
       "std         0.039381\n",
       "min         0.000163\n",
       "25%         0.045215\n",
       "50%         0.070242\n",
       "75%         0.095023\n",
       "max         0.284067\n",
       "Name: hol diff, dtype: float64"
      ]
     },
     "execution_count": 133,
     "metadata": {},
     "output_type": "execute_result"
    }
   ],
   "source": [
    "df_station_reg['hol diff'].describe()"
   ]
  },
  {
   "cell_type": "markdown",
   "metadata": {},
   "source": [
    "### Quantile 별 소속 대여소 구분"
   ]
  },
  {
   "cell_type": "markdown",
   "metadata": {},
   "source": [
    "#### 주중"
   ]
  },
  {
   "cell_type": "code",
   "execution_count": 164,
   "metadata": {},
   "outputs": [],
   "source": [
    "week_qt1=df_station_reg['week diff'].quantile(.25)\n",
    "week_qt2=df_station_reg['week diff'].quantile(.5)\n",
    "week_qt3=df_station_reg['week diff'].quantile(.75)"
   ]
  },
  {
   "cell_type": "code",
   "execution_count": 165,
   "metadata": {},
   "outputs": [],
   "source": [
    "station_week_qt1=df_station_reg[df_station_reg['week diff'] < week_qt1]['station_id'].tolist()\n",
    "station_week_qt2=df_station_reg[(df_station_reg['week diff'] >= week_qt1)&(df_station_reg['week diff'] < week_qt2)]['station_id'].tolist()\n",
    "station_week_qt3=df_station_reg[(df_station_reg['week diff'] >= week_qt2)&(df_station_reg['week diff'] < week_qt3)]['station_id'].tolist()\n",
    "station_week_qt4=df_station_reg[df_station_reg['week diff'] >= week_qt3]['station_id'].tolist()"
   ]
  },
  {
   "cell_type": "code",
   "execution_count": 166,
   "metadata": {},
   "outputs": [
    {
     "name": "stdout",
     "output_type": "stream",
     "text": [
      "0.1361574894727374 -0.02028431900019459\n"
     ]
    }
   ],
   "source": [
    "iqr=week_qt3-week_qt1\n",
    "out_up=week_qt3+1.5*iqr\n",
    "out_down=week_qt1-1.5*iqr\n",
    "\n",
    "print(out_up, out_down)"
   ]
  },
  {
   "cell_type": "code",
   "execution_count": 167,
   "metadata": {},
   "outputs": [
    {
     "name": "stdout",
     "output_type": "stream",
     "text": [
      "['1039', '1052', '1056', '1058', '1359', '1445', '1450', '1452', '1664', '1816', '1824', '1825', '1826', '1847', '1857', '1858', '1937', '1951', '1952', '1987', '2038', '2130', '221', '3525', '502', '524', '928', '938', '966']\n",
      "크기 :  29\n"
     ]
    }
   ],
   "source": [
    "# 이상치로 간주된 정류소\n",
    "\n",
    "station_outlier_week=df_station_reg[df_station_reg['week diff'] > out_up]['station_id'].tolist()\n",
    "print(station_outlier_week)\n",
    "print('크기 : ',len(station_outlier_week))"
   ]
  },
  {
   "cell_type": "markdown",
   "metadata": {},
   "source": [
    "#### 주말"
   ]
  },
  {
   "cell_type": "code",
   "execution_count": 168,
   "metadata": {},
   "outputs": [],
   "source": [
    "hol_qt1=df_station_reg['hol diff'].quantile(.25)\n",
    "hol_qt2=df_station_reg['hol diff'].quantile(.5)\n",
    "hol_qt3=df_station_reg['hol diff'].quantile(.75)"
   ]
  },
  {
   "cell_type": "code",
   "execution_count": 169,
   "metadata": {},
   "outputs": [],
   "source": [
    "station_hol_qt1=df_station_reg[df_station_reg['hol diff'] < hol_qt1]['station_id'].tolist()\n",
    "station_hol_qt2=df_station_reg[(df_station_reg['hol diff'] >= hol_qt1)&(df_station_reg['hol diff'] < hol_qt2)]['station_id'].tolist()\n",
    "station_hol_qt3=df_station_reg[(df_station_reg['hol diff'] >= hol_qt2)&(df_station_reg['hol diff'] < hol_qt3)]['station_id'].tolist()\n",
    "station_hol_qt4=df_station_reg[df_station_reg['hol diff'] >= hol_qt3]['station_id'].tolist()"
   ]
  },
  {
   "cell_type": "code",
   "execution_count": 170,
   "metadata": {},
   "outputs": [
    {
     "name": "stdout",
     "output_type": "stream",
     "text": [
      "0.16973560896893147 -0.029498094943539402\n"
     ]
    }
   ],
   "source": [
    "iqr=hol_qt3-hol_qt1\n",
    "out_up=hol_qt3+1.5*iqr\n",
    "out_down=hol_qt1-1.5*iqr\n",
    "\n",
    "print(out_up, out_down)"
   ]
  },
  {
   "cell_type": "code",
   "execution_count": 171,
   "metadata": {},
   "outputs": [
    {
     "name": "stdout",
     "output_type": "stream",
     "text": [
      "['1038', '1057', '1058', '1406', '1421', '1819', '1826', '1835', '1836', '1847', '1857', '1858', '1929', '1952', '1953', '1969', '1999', '206', '2201', '2287', '2309', '2341', '3524', '3528', '3539', '827', '902']\n",
      "크기 :  27\n"
     ]
    }
   ],
   "source": [
    "# 이상치로 간주된 정류소\n",
    "\n",
    "station_outlier_hol=df_station_reg[df_station_reg['hol diff'] > out_up]['station_id'].tolist()\n",
    "print(station_outlier_hol)\n",
    "print('크기 : ',len(station_outlier_hol))"
   ]
  },
  {
   "cell_type": "code",
   "execution_count": 173,
   "metadata": {},
   "outputs": [
    {
     "data": {
      "text/plain": [
       "{'1058', '1826', '1847', '1857', '1858', '1952'}"
      ]
     },
     "execution_count": 173,
     "metadata": {},
     "output_type": "execute_result"
    }
   ],
   "source": [
    "# 주중/주말 모두 변화가 큰 대여소\n",
    "\n",
    "set(station_outlier_week).intersection(set(station_outlier_hol))"
   ]
  }
 ],
 "metadata": {
  "kernelspec": {
   "display_name": "Python 3",
   "language": "python",
   "name": "python3"
  },
  "language_info": {
   "codemirror_mode": {
    "name": "ipython",
    "version": 3
   },
   "file_extension": ".py",
   "mimetype": "text/x-python",
   "name": "python",
   "nbconvert_exporter": "python",
   "pygments_lexer": "ipython3",
   "version": "3.7.6"
  }
 },
 "nbformat": 4,
 "nbformat_minor": 4
}
