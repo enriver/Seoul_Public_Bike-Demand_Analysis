{
 "cells": [
  {
   "cell_type": "code",
   "execution_count": 2,
   "metadata": {},
   "outputs": [],
   "source": [
    "import pandas as pd\n",
    "import numpy as np\n",
    "import seaborn as sns\n",
    "import pickle\n",
    "import matplotlib.pyplot as plt"
   ]
  },
  {
   "cell_type": "markdown",
   "metadata": {},
   "source": [
    "### 19-20 주중/주말 pickle 파일 불러오기"
   ]
  },
  {
   "cell_type": "code",
   "execution_count": 3,
   "metadata": {},
   "outputs": [],
   "source": [
    "with open(\"../dataset/2019_week.pkl\",\"rb\") as fw:\n",
    "    df2019_week=pickle.load(fw)\n",
    "\n",
    "with open(\"../dataset/2019_hol.pkl\",\"rb\") as fw:\n",
    "    df2019_hol=pickle.load(fw)\n",
    "    \n",
    "with open(\"../dataset/2020_week.pkl\",\"rb\") as fw:\n",
    "    df2020_week=pickle.load(fw)\n",
    "    \n",
    "with open(\"../dataset/2020_hol.pkl\",\"rb\") as fw:\n",
    "    df2020_hol=pickle.load(fw)"
   ]
  },
  {
   "cell_type": "code",
   "execution_count": 24,
   "metadata": {},
   "outputs": [
    {
     "data": {
      "text/html": [
       "<div>\n",
       "<style scoped>\n",
       "    .dataframe tbody tr th:only-of-type {\n",
       "        vertical-align: middle;\n",
       "    }\n",
       "\n",
       "    .dataframe tbody tr th {\n",
       "        vertical-align: top;\n",
       "    }\n",
       "\n",
       "    .dataframe thead th {\n",
       "        text-align: right;\n",
       "    }\n",
       "</style>\n",
       "<table border=\"1\" class=\"dataframe\">\n",
       "  <thead>\n",
       "    <tr style=\"text-align: right;\">\n",
       "      <th></th>\n",
       "      <th>rent_id</th>\n",
       "      <th>rent_time</th>\n",
       "      <th>return_id</th>\n",
       "      <th>return_time</th>\n",
       "      <th>travel_time</th>\n",
       "      <th>travel_distance</th>\n",
       "      <th>fare</th>\n",
       "      <th>sex</th>\n",
       "      <th>age</th>\n",
       "      <th>type</th>\n",
       "      <th>times</th>\n",
       "      <th>year</th>\n",
       "      <th>month</th>\n",
       "      <th>day</th>\n",
       "      <th>dayofweek</th>\n",
       "      <th>hour</th>\n",
       "    </tr>\n",
       "  </thead>\n",
       "  <tbody>\n",
       "    <tr>\n",
       "      <th>0</th>\n",
       "      <td>1421</td>\n",
       "      <td>2019-01-01 00:00:44</td>\n",
       "      <td>1420</td>\n",
       "      <td>2019-01-01 00:03:53</td>\n",
       "      <td>189.0</td>\n",
       "      <td>580.0</td>\n",
       "      <td>BIL_004</td>\n",
       "      <td>\\N</td>\n",
       "      <td>AGE_002</td>\n",
       "      <td>Regular</td>\n",
       "      <td>1H</td>\n",
       "      <td>2019</td>\n",
       "      <td>1</td>\n",
       "      <td>1</td>\n",
       "      <td>Tue</td>\n",
       "      <td>0</td>\n",
       "    </tr>\n",
       "    <tr>\n",
       "      <th>1</th>\n",
       "      <td>1408</td>\n",
       "      <td>2019-01-01 00:02:16</td>\n",
       "      <td>1433</td>\n",
       "      <td>2019-01-01 00:07:07</td>\n",
       "      <td>291.0</td>\n",
       "      <td>1020.0</td>\n",
       "      <td>BIL_002</td>\n",
       "      <td>F</td>\n",
       "      <td>AGE_005</td>\n",
       "      <td>Regular</td>\n",
       "      <td>1H</td>\n",
       "      <td>2019</td>\n",
       "      <td>1</td>\n",
       "      <td>1</td>\n",
       "      <td>Tue</td>\n",
       "      <td>0</td>\n",
       "    </tr>\n",
       "    <tr>\n",
       "      <th>2</th>\n",
       "      <td>347</td>\n",
       "      <td>2019-01-01 00:04:12</td>\n",
       "      <td>387</td>\n",
       "      <td>2019-01-01 00:07:07</td>\n",
       "      <td>175.0</td>\n",
       "      <td>550.0</td>\n",
       "      <td>BIL_014</td>\n",
       "      <td>M</td>\n",
       "      <td>AGE_003</td>\n",
       "      <td>Regular</td>\n",
       "      <td>2H</td>\n",
       "      <td>2019</td>\n",
       "      <td>1</td>\n",
       "      <td>1</td>\n",
       "      <td>Tue</td>\n",
       "      <td>0</td>\n",
       "    </tr>\n",
       "    <tr>\n",
       "      <th>3</th>\n",
       "      <td>615</td>\n",
       "      <td>2019-01-01 00:03:09</td>\n",
       "      <td>612</td>\n",
       "      <td>2019-01-01 00:07:27</td>\n",
       "      <td>258.0</td>\n",
       "      <td>700.0</td>\n",
       "      <td>BIL_002</td>\n",
       "      <td>\\N</td>\n",
       "      <td>AGE_002</td>\n",
       "      <td>Regular</td>\n",
       "      <td>1H</td>\n",
       "      <td>2019</td>\n",
       "      <td>1</td>\n",
       "      <td>1</td>\n",
       "      <td>Tue</td>\n",
       "      <td>0</td>\n",
       "    </tr>\n",
       "    <tr>\n",
       "      <th>4</th>\n",
       "      <td>1177</td>\n",
       "      <td>2019-01-01 00:01:44</td>\n",
       "      <td>1152</td>\n",
       "      <td>2019-01-01 00:08:09</td>\n",
       "      <td>385.0</td>\n",
       "      <td>1090.0</td>\n",
       "      <td>BIL_006</td>\n",
       "      <td>\\N</td>\n",
       "      <td>AGE_002</td>\n",
       "      <td>Daily</td>\n",
       "      <td>1H</td>\n",
       "      <td>2019</td>\n",
       "      <td>1</td>\n",
       "      <td>1</td>\n",
       "      <td>Tue</td>\n",
       "      <td>0</td>\n",
       "    </tr>\n",
       "  </tbody>\n",
       "</table>\n",
       "</div>"
      ],
      "text/plain": [
       "  rent_id           rent_time return_id         return_time  travel_time  \\\n",
       "0    1421 2019-01-01 00:00:44      1420 2019-01-01 00:03:53        189.0   \n",
       "1    1408 2019-01-01 00:02:16      1433 2019-01-01 00:07:07        291.0   \n",
       "2     347 2019-01-01 00:04:12       387 2019-01-01 00:07:07        175.0   \n",
       "3     615 2019-01-01 00:03:09       612 2019-01-01 00:07:27        258.0   \n",
       "4    1177 2019-01-01 00:01:44      1152 2019-01-01 00:08:09        385.0   \n",
       "\n",
       "   travel_distance     fare sex      age     type times  year  month  day  \\\n",
       "0            580.0  BIL_004  \\N  AGE_002  Regular    1H  2019      1    1   \n",
       "1           1020.0  BIL_002   F  AGE_005  Regular    1H  2019      1    1   \n",
       "2            550.0  BIL_014   M  AGE_003  Regular    2H  2019      1    1   \n",
       "3            700.0  BIL_002  \\N  AGE_002  Regular    1H  2019      1    1   \n",
       "4           1090.0  BIL_006  \\N  AGE_002    Daily    1H  2019      1    1   \n",
       "\n",
       "  dayofweek  hour  \n",
       "0       Tue     0  \n",
       "1       Tue     0  \n",
       "2       Tue     0  \n",
       "3       Tue     0  \n",
       "4       Tue     0  "
      ]
     },
     "execution_count": 24,
     "metadata": {},
     "output_type": "execute_result"
    }
   ],
   "source": [
    "df2019_week.head()"
   ]
  },
  {
   "cell_type": "code",
   "execution_count": 38,
   "metadata": {},
   "outputs": [
    {
     "data": {
      "text/html": [
       "<div>\n",
       "<style scoped>\n",
       "    .dataframe tbody tr th:only-of-type {\n",
       "        vertical-align: middle;\n",
       "    }\n",
       "\n",
       "    .dataframe tbody tr th {\n",
       "        vertical-align: top;\n",
       "    }\n",
       "\n",
       "    .dataframe thead th {\n",
       "        text-align: right;\n",
       "    }\n",
       "</style>\n",
       "<table border=\"1\" class=\"dataframe\">\n",
       "  <thead>\n",
       "    <tr style=\"text-align: right;\">\n",
       "      <th>type</th>\n",
       "      <th>Daily</th>\n",
       "      <th>Regular</th>\n",
       "    </tr>\n",
       "    <tr>\n",
       "      <th>rent_id</th>\n",
       "      <th></th>\n",
       "      <th></th>\n",
       "    </tr>\n",
       "  </thead>\n",
       "  <tbody>\n",
       "    <tr>\n",
       "      <th>1001</th>\n",
       "      <td>0.178073</td>\n",
       "      <td>0.821927</td>\n",
       "    </tr>\n",
       "    <tr>\n",
       "      <th>1002</th>\n",
       "      <td>0.190514</td>\n",
       "      <td>0.809486</td>\n",
       "    </tr>\n",
       "    <tr>\n",
       "      <th>1003</th>\n",
       "      <td>0.158406</td>\n",
       "      <td>0.841594</td>\n",
       "    </tr>\n",
       "    <tr>\n",
       "      <th>1004</th>\n",
       "      <td>0.176554</td>\n",
       "      <td>0.823446</td>\n",
       "    </tr>\n",
       "    <tr>\n",
       "      <th>1006</th>\n",
       "      <td>0.115788</td>\n",
       "      <td>0.884212</td>\n",
       "    </tr>\n",
       "    <tr>\n",
       "      <th>...</th>\n",
       "      <td>...</td>\n",
       "      <td>...</td>\n",
       "    </tr>\n",
       "    <tr>\n",
       "      <th>9993</th>\n",
       "      <td>0.059322</td>\n",
       "      <td>0.940678</td>\n",
       "    </tr>\n",
       "    <tr>\n",
       "      <th>9997</th>\n",
       "      <td>0.625000</td>\n",
       "      <td>0.375000</td>\n",
       "    </tr>\n",
       "    <tr>\n",
       "      <th>9998</th>\n",
       "      <td>0.357143</td>\n",
       "      <td>0.642857</td>\n",
       "    </tr>\n",
       "    <tr>\n",
       "      <th>99998</th>\n",
       "      <td>NaN</td>\n",
       "      <td>1.000000</td>\n",
       "    </tr>\n",
       "    <tr>\n",
       "      <th>99999</th>\n",
       "      <td>0.132919</td>\n",
       "      <td>0.867081</td>\n",
       "    </tr>\n",
       "  </tbody>\n",
       "</table>\n",
       "<p>1559 rows × 2 columns</p>\n",
       "</div>"
      ],
      "text/plain": [
       "type        Daily   Regular\n",
       "rent_id                    \n",
       "1001     0.178073  0.821927\n",
       "1002     0.190514  0.809486\n",
       "1003     0.158406  0.841594\n",
       "1004     0.176554  0.823446\n",
       "1006     0.115788  0.884212\n",
       "...           ...       ...\n",
       "9993     0.059322  0.940678\n",
       "9997     0.625000  0.375000\n",
       "9998     0.357143  0.642857\n",
       "99998         NaN  1.000000\n",
       "99999    0.132919  0.867081\n",
       "\n",
       "[1559 rows x 2 columns]"
      ]
     },
     "execution_count": 38,
     "metadata": {},
     "output_type": "execute_result"
    }
   ],
   "source": [
    "df2019_week.groupby('rent_id')['type'].value_counts(normalize=True).unstack()"
   ]
  },
  {
   "cell_type": "code",
   "execution_count": 6,
   "metadata": {},
   "outputs": [],
   "source": [
    "# 대여소 기준 연도에 따른 주중/주말 이용권 비율 데이터프레임 생성\n",
    "\n",
    "def ratio_by_station(df):\n",
    "    grouped=df.groupby('rent_id')['type'].value_counts(normalize=True).unstack()\n",
    "    \n",
    "    station_id=grouped.index\n",
    "    daily=grouped['Daily'].values\n",
    "    regular=grouped['Regular'].values\n",
    "    \n",
    "    new_df=pd.DataFrame()\n",
    "    new_df['station_id']=station_id\n",
    "    new_df['Daily']=daily\n",
    "    new_df['Regular']=regular\n",
    "    \n",
    "    return new_df"
   ]
  },
  {
   "cell_type": "code",
   "execution_count": 33,
   "metadata": {},
   "outputs": [],
   "source": [
    "df2019_week_station=ratio_by_station(df2019_week)\n",
    "df2019_week_station.rename(columns={'Daily':'19_week_daily', 'Regular':'19_week_regular'}, inplace=True)\n",
    "df2019_hol_station=ratio_by_station(df2019_hol)\n",
    "df2019_hol_station.rename(columns={'Daily':'19_hol_daily', 'Regular':'19_hol_regular'}, inplace=True)\n",
    "df2020_week_station=ratio_by_station(df2020_week)\n",
    "df2020_week_station.rename(columns={'Daily':'20_week_daily', 'Regular':'20_week_regular'}, inplace=True)\n",
    "df2020_hol_station=ratio_by_station(df2020_hol)\n",
    "df2020_hol_station.rename(columns={'Daily':'20_hol_daily', 'Regular':'20_hol_regular'}, inplace=True)\n",
    "\n",
    "df_station=pd.merge(df2019_week_station, df2019_hol_station, left_on='station_id',right_on='station_id',how='outer')\n",
    "df_station=pd.merge(df_station, df2020_week_station, left_on='station_id',right_on='station_id',how='outer')\n",
    "df_station=pd.merge(df_station, df2020_hol_station, left_on='station_id',right_on='station_id',how='outer')"
   ]
  },
  {
   "cell_type": "code",
   "execution_count": 54,
   "metadata": {},
   "outputs": [
    {
     "name": "stdout",
     "output_type": "stream",
     "text": [
      "19년도 주중 :  (1559, 3)\n",
      "19년도 주말 :  (1556, 3)\n",
      "20년도 주중 :  (2164, 3)\n",
      "20년도 주말 :  (2105, 3)\n"
     ]
    }
   ],
   "source": [
    "print('19년도 주중 : ',df2019_week_station.shape)\n",
    "print('19년도 주말 : ',df2019_hol_station.shape)\n",
    "print('20년도 주중 : ',df2020_week_station.shape)\n",
    "print('20년도 주말 : ',df2020_hol_station.shape)"
   ]
  },
  {
   "cell_type": "code",
   "execution_count": 55,
   "metadata": {},
   "outputs": [
    {
     "data": {
      "text/html": [
       "<div>\n",
       "<style scoped>\n",
       "    .dataframe tbody tr th:only-of-type {\n",
       "        vertical-align: middle;\n",
       "    }\n",
       "\n",
       "    .dataframe tbody tr th {\n",
       "        vertical-align: top;\n",
       "    }\n",
       "\n",
       "    .dataframe thead th {\n",
       "        text-align: right;\n",
       "    }\n",
       "</style>\n",
       "<table border=\"1\" class=\"dataframe\">\n",
       "  <thead>\n",
       "    <tr style=\"text-align: right;\">\n",
       "      <th></th>\n",
       "      <th>station_id</th>\n",
       "      <th>19_week_daily</th>\n",
       "      <th>19_week_regular</th>\n",
       "      <th>19_hol_daily</th>\n",
       "      <th>19_hol_regular</th>\n",
       "      <th>20_week_daily</th>\n",
       "      <th>20_week_regular</th>\n",
       "      <th>20_hol_daily</th>\n",
       "      <th>20_hol_regular</th>\n",
       "    </tr>\n",
       "  </thead>\n",
       "  <tbody>\n",
       "    <tr>\n",
       "      <th>0</th>\n",
       "      <td>1001</td>\n",
       "      <td>0.172905</td>\n",
       "      <td>0.827095</td>\n",
       "      <td>0.316646</td>\n",
       "      <td>0.683354</td>\n",
       "      <td>0.258624</td>\n",
       "      <td>0.741376</td>\n",
       "      <td>0.392308</td>\n",
       "      <td>0.607692</td>\n",
       "    </tr>\n",
       "    <tr>\n",
       "      <th>1</th>\n",
       "      <td>1002</td>\n",
       "      <td>0.183894</td>\n",
       "      <td>0.816106</td>\n",
       "      <td>0.356350</td>\n",
       "      <td>0.643650</td>\n",
       "      <td>0.283254</td>\n",
       "      <td>0.716746</td>\n",
       "      <td>0.454603</td>\n",
       "      <td>0.545397</td>\n",
       "    </tr>\n",
       "    <tr>\n",
       "      <th>2</th>\n",
       "      <td>1003</td>\n",
       "      <td>0.154073</td>\n",
       "      <td>0.845927</td>\n",
       "      <td>0.259140</td>\n",
       "      <td>0.740860</td>\n",
       "      <td>0.238314</td>\n",
       "      <td>0.761686</td>\n",
       "      <td>0.364192</td>\n",
       "      <td>0.635808</td>\n",
       "    </tr>\n",
       "    <tr>\n",
       "      <th>3</th>\n",
       "      <td>1004</td>\n",
       "      <td>0.172014</td>\n",
       "      <td>0.827986</td>\n",
       "      <td>0.301563</td>\n",
       "      <td>0.698438</td>\n",
       "      <td>0.272103</td>\n",
       "      <td>0.727897</td>\n",
       "      <td>0.428854</td>\n",
       "      <td>0.571146</td>\n",
       "    </tr>\n",
       "    <tr>\n",
       "      <th>4</th>\n",
       "      <td>1006</td>\n",
       "      <td>0.113201</td>\n",
       "      <td>0.886799</td>\n",
       "      <td>0.241314</td>\n",
       "      <td>0.758686</td>\n",
       "      <td>0.197472</td>\n",
       "      <td>0.802528</td>\n",
       "      <td>0.357414</td>\n",
       "      <td>0.642586</td>\n",
       "    </tr>\n",
       "    <tr>\n",
       "      <th>5</th>\n",
       "      <td>1007</td>\n",
       "      <td>0.212272</td>\n",
       "      <td>0.787728</td>\n",
       "      <td>0.443936</td>\n",
       "      <td>0.556064</td>\n",
       "      <td>0.272926</td>\n",
       "      <td>0.727074</td>\n",
       "      <td>0.541985</td>\n",
       "      <td>0.458015</td>\n",
       "    </tr>\n",
       "    <tr>\n",
       "      <th>6</th>\n",
       "      <td>1008</td>\n",
       "      <td>0.159479</td>\n",
       "      <td>0.840521</td>\n",
       "      <td>0.293281</td>\n",
       "      <td>0.706719</td>\n",
       "      <td>0.242745</td>\n",
       "      <td>0.757255</td>\n",
       "      <td>0.403878</td>\n",
       "      <td>0.596122</td>\n",
       "    </tr>\n",
       "    <tr>\n",
       "      <th>7</th>\n",
       "      <td>1009</td>\n",
       "      <td>0.204528</td>\n",
       "      <td>0.795472</td>\n",
       "      <td>0.341662</td>\n",
       "      <td>0.658338</td>\n",
       "      <td>0.266499</td>\n",
       "      <td>0.733501</td>\n",
       "      <td>0.417925</td>\n",
       "      <td>0.582075</td>\n",
       "    </tr>\n",
       "    <tr>\n",
       "      <th>8</th>\n",
       "      <td>101</td>\n",
       "      <td>0.147218</td>\n",
       "      <td>0.852782</td>\n",
       "      <td>0.248787</td>\n",
       "      <td>0.751213</td>\n",
       "      <td>0.191620</td>\n",
       "      <td>0.808380</td>\n",
       "      <td>0.306781</td>\n",
       "      <td>0.693219</td>\n",
       "    </tr>\n",
       "    <tr>\n",
       "      <th>9</th>\n",
       "      <td>1010</td>\n",
       "      <td>0.142545</td>\n",
       "      <td>0.857455</td>\n",
       "      <td>0.230505</td>\n",
       "      <td>0.769495</td>\n",
       "      <td>0.198139</td>\n",
       "      <td>0.801861</td>\n",
       "      <td>0.319519</td>\n",
       "      <td>0.680481</td>\n",
       "    </tr>\n",
       "    <tr>\n",
       "      <th>10</th>\n",
       "      <td>1011</td>\n",
       "      <td>0.148474</td>\n",
       "      <td>0.851526</td>\n",
       "      <td>0.255840</td>\n",
       "      <td>0.744160</td>\n",
       "      <td>0.190440</td>\n",
       "      <td>0.809560</td>\n",
       "      <td>0.307453</td>\n",
       "      <td>0.692547</td>\n",
       "    </tr>\n",
       "    <tr>\n",
       "      <th>11</th>\n",
       "      <td>1012</td>\n",
       "      <td>0.150731</td>\n",
       "      <td>0.849269</td>\n",
       "      <td>0.280800</td>\n",
       "      <td>0.719200</td>\n",
       "      <td>0.198793</td>\n",
       "      <td>0.801207</td>\n",
       "      <td>0.318497</td>\n",
       "      <td>0.681503</td>\n",
       "    </tr>\n",
       "    <tr>\n",
       "      <th>12</th>\n",
       "      <td>1013</td>\n",
       "      <td>0.130410</td>\n",
       "      <td>0.869590</td>\n",
       "      <td>0.258897</td>\n",
       "      <td>0.741103</td>\n",
       "      <td>0.172259</td>\n",
       "      <td>0.827741</td>\n",
       "      <td>0.287926</td>\n",
       "      <td>0.712074</td>\n",
       "    </tr>\n",
       "    <tr>\n",
       "      <th>13</th>\n",
       "      <td>1014</td>\n",
       "      <td>0.137060</td>\n",
       "      <td>0.862940</td>\n",
       "      <td>0.244817</td>\n",
       "      <td>0.755183</td>\n",
       "      <td>0.179793</td>\n",
       "      <td>0.820207</td>\n",
       "      <td>0.276410</td>\n",
       "      <td>0.723590</td>\n",
       "    </tr>\n",
       "    <tr>\n",
       "      <th>14</th>\n",
       "      <td>1015</td>\n",
       "      <td>0.151385</td>\n",
       "      <td>0.848615</td>\n",
       "      <td>0.239130</td>\n",
       "      <td>0.760870</td>\n",
       "      <td>0.214928</td>\n",
       "      <td>0.785072</td>\n",
       "      <td>0.328938</td>\n",
       "      <td>0.671062</td>\n",
       "    </tr>\n",
       "    <tr>\n",
       "      <th>15</th>\n",
       "      <td>1016</td>\n",
       "      <td>0.157205</td>\n",
       "      <td>0.842795</td>\n",
       "      <td>0.274011</td>\n",
       "      <td>0.725989</td>\n",
       "      <td>0.244992</td>\n",
       "      <td>0.755008</td>\n",
       "      <td>0.408752</td>\n",
       "      <td>0.591248</td>\n",
       "    </tr>\n",
       "    <tr>\n",
       "      <th>16</th>\n",
       "      <td>1017</td>\n",
       "      <td>0.125224</td>\n",
       "      <td>0.874776</td>\n",
       "      <td>0.219096</td>\n",
       "      <td>0.780904</td>\n",
       "      <td>0.170838</td>\n",
       "      <td>0.829162</td>\n",
       "      <td>0.317483</td>\n",
       "      <td>0.682517</td>\n",
       "    </tr>\n",
       "    <tr>\n",
       "      <th>17</th>\n",
       "      <td>1018</td>\n",
       "      <td>0.194099</td>\n",
       "      <td>0.805901</td>\n",
       "      <td>0.319003</td>\n",
       "      <td>0.680997</td>\n",
       "      <td>0.215385</td>\n",
       "      <td>0.784615</td>\n",
       "      <td>0.364322</td>\n",
       "      <td>0.635678</td>\n",
       "    </tr>\n",
       "    <tr>\n",
       "      <th>18</th>\n",
       "      <td>1019</td>\n",
       "      <td>0.128197</td>\n",
       "      <td>0.871803</td>\n",
       "      <td>0.238497</td>\n",
       "      <td>0.761503</td>\n",
       "      <td>0.177659</td>\n",
       "      <td>0.822341</td>\n",
       "      <td>0.293216</td>\n",
       "      <td>0.706784</td>\n",
       "    </tr>\n",
       "    <tr>\n",
       "      <th>19</th>\n",
       "      <td>102</td>\n",
       "      <td>0.174882</td>\n",
       "      <td>0.825118</td>\n",
       "      <td>0.330460</td>\n",
       "      <td>0.669540</td>\n",
       "      <td>0.234449</td>\n",
       "      <td>0.765551</td>\n",
       "      <td>0.390857</td>\n",
       "      <td>0.609143</td>\n",
       "    </tr>\n",
       "  </tbody>\n",
       "</table>\n",
       "</div>"
      ],
      "text/plain": [
       "   station_id  19_week_daily  19_week_regular  19_hol_daily  19_hol_regular  \\\n",
       "0        1001       0.172905         0.827095      0.316646        0.683354   \n",
       "1        1002       0.183894         0.816106      0.356350        0.643650   \n",
       "2        1003       0.154073         0.845927      0.259140        0.740860   \n",
       "3        1004       0.172014         0.827986      0.301563        0.698438   \n",
       "4        1006       0.113201         0.886799      0.241314        0.758686   \n",
       "5        1007       0.212272         0.787728      0.443936        0.556064   \n",
       "6        1008       0.159479         0.840521      0.293281        0.706719   \n",
       "7        1009       0.204528         0.795472      0.341662        0.658338   \n",
       "8         101       0.147218         0.852782      0.248787        0.751213   \n",
       "9        1010       0.142545         0.857455      0.230505        0.769495   \n",
       "10       1011       0.148474         0.851526      0.255840        0.744160   \n",
       "11       1012       0.150731         0.849269      0.280800        0.719200   \n",
       "12       1013       0.130410         0.869590      0.258897        0.741103   \n",
       "13       1014       0.137060         0.862940      0.244817        0.755183   \n",
       "14       1015       0.151385         0.848615      0.239130        0.760870   \n",
       "15       1016       0.157205         0.842795      0.274011        0.725989   \n",
       "16       1017       0.125224         0.874776      0.219096        0.780904   \n",
       "17       1018       0.194099         0.805901      0.319003        0.680997   \n",
       "18       1019       0.128197         0.871803      0.238497        0.761503   \n",
       "19        102       0.174882         0.825118      0.330460        0.669540   \n",
       "\n",
       "    20_week_daily  20_week_regular  20_hol_daily  20_hol_regular  \n",
       "0        0.258624         0.741376      0.392308        0.607692  \n",
       "1        0.283254         0.716746      0.454603        0.545397  \n",
       "2        0.238314         0.761686      0.364192        0.635808  \n",
       "3        0.272103         0.727897      0.428854        0.571146  \n",
       "4        0.197472         0.802528      0.357414        0.642586  \n",
       "5        0.272926         0.727074      0.541985        0.458015  \n",
       "6        0.242745         0.757255      0.403878        0.596122  \n",
       "7        0.266499         0.733501      0.417925        0.582075  \n",
       "8        0.191620         0.808380      0.306781        0.693219  \n",
       "9        0.198139         0.801861      0.319519        0.680481  \n",
       "10       0.190440         0.809560      0.307453        0.692547  \n",
       "11       0.198793         0.801207      0.318497        0.681503  \n",
       "12       0.172259         0.827741      0.287926        0.712074  \n",
       "13       0.179793         0.820207      0.276410        0.723590  \n",
       "14       0.214928         0.785072      0.328938        0.671062  \n",
       "15       0.244992         0.755008      0.408752        0.591248  \n",
       "16       0.170838         0.829162      0.317483        0.682517  \n",
       "17       0.215385         0.784615      0.364322        0.635678  \n",
       "18       0.177659         0.822341      0.293216        0.706784  \n",
       "19       0.234449         0.765551      0.390857        0.609143  "
      ]
     },
     "execution_count": 55,
     "metadata": {},
     "output_type": "execute_result"
    }
   ],
   "source": [
    "df_station=df_station.reset_index(drop=True)\n",
    "df_station.head(20)"
   ]
  },
  {
   "cell_type": "code",
   "execution_count": 56,
   "metadata": {},
   "outputs": [
    {
     "name": "stdout",
     "output_type": "stream",
     "text": [
      "Outer join 이후, 대여소 목록 :  (1527, 9)\n"
     ]
    }
   ],
   "source": [
    "print('Outer join 이후, 대여소 목록 : ',df_station.shape)"
   ]
  },
  {
   "cell_type": "code",
   "execution_count": 57,
   "metadata": {},
   "outputs": [
    {
     "data": {
      "text/html": [
       "<div>\n",
       "<style scoped>\n",
       "    .dataframe tbody tr th:only-of-type {\n",
       "        vertical-align: middle;\n",
       "    }\n",
       "\n",
       "    .dataframe tbody tr th {\n",
       "        vertical-align: top;\n",
       "    }\n",
       "\n",
       "    .dataframe thead th {\n",
       "        text-align: right;\n",
       "    }\n",
       "</style>\n",
       "<table border=\"1\" class=\"dataframe\">\n",
       "  <thead>\n",
       "    <tr style=\"text-align: right;\">\n",
       "      <th></th>\n",
       "      <th>ID</th>\n",
       "      <th>stationName</th>\n",
       "      <th>Y</th>\n",
       "      <th>X</th>\n",
       "      <th>Xn</th>\n",
       "      <th>Yn</th>\n",
       "      <th>Elev</th>\n",
       "      <th>BikeRoadNM</th>\n",
       "      <th>ToBikeRoad</th>\n",
       "    </tr>\n",
       "  </thead>\n",
       "  <tbody>\n",
       "    <tr>\n",
       "      <th>0</th>\n",
       "      <td>101</td>\n",
       "      <td>101. (구)합정동 주민센터</td>\n",
       "      <td>37.549561</td>\n",
       "      <td>126.905754</td>\n",
       "      <td>947509.050934</td>\n",
       "      <td>1.950191e+06</td>\n",
       "      <td>9.152323</td>\n",
       "      <td>한강자전거길</td>\n",
       "      <td>771.0</td>\n",
       "    </tr>\n",
       "    <tr>\n",
       "      <th>1</th>\n",
       "      <td>102</td>\n",
       "      <td>102. 망원역 1번출구 앞</td>\n",
       "      <td>37.555649</td>\n",
       "      <td>126.910629</td>\n",
       "      <td>947943.924406</td>\n",
       "      <td>1.950863e+06</td>\n",
       "      <td>6.963737</td>\n",
       "      <td>홍제천자전거길</td>\n",
       "      <td>1065.0</td>\n",
       "    </tr>\n",
       "    <tr>\n",
       "      <th>2</th>\n",
       "      <td>103</td>\n",
       "      <td>103. 망원역 2번출구 앞</td>\n",
       "      <td>37.554951</td>\n",
       "      <td>126.910835</td>\n",
       "      <td>947961.634042</td>\n",
       "      <td>1.950786e+06</td>\n",
       "      <td>6.865565</td>\n",
       "      <td>한강자전거길</td>\n",
       "      <td>1146.0</td>\n",
       "    </tr>\n",
       "    <tr>\n",
       "      <th>3</th>\n",
       "      <td>104</td>\n",
       "      <td>104. 합정역 1번출구 앞</td>\n",
       "      <td>37.550629</td>\n",
       "      <td>126.914986</td>\n",
       "      <td>948325.239132</td>\n",
       "      <td>1.950304e+06</td>\n",
       "      <td>18.136753</td>\n",
       "      <td>한강자전거길</td>\n",
       "      <td>676.0</td>\n",
       "    </tr>\n",
       "    <tr>\n",
       "      <th>4</th>\n",
       "      <td>105</td>\n",
       "      <td>105. 합정역 5번출구 앞</td>\n",
       "      <td>37.550007</td>\n",
       "      <td>126.914825</td>\n",
       "      <td>948310.657239</td>\n",
       "      <td>1.950235e+06</td>\n",
       "      <td>17.498430</td>\n",
       "      <td>한강자전거길</td>\n",
       "      <td>962.0</td>\n",
       "    </tr>\n",
       "  </tbody>\n",
       "</table>\n",
       "</div>"
      ],
      "text/plain": [
       "    ID       stationName          Y           X             Xn            Yn  \\\n",
       "0  101  101. (구)합정동 주민센터  37.549561  126.905754  947509.050934  1.950191e+06   \n",
       "1  102   102. 망원역 1번출구 앞  37.555649  126.910629  947943.924406  1.950863e+06   \n",
       "2  103   103. 망원역 2번출구 앞  37.554951  126.910835  947961.634042  1.950786e+06   \n",
       "3  104   104. 합정역 1번출구 앞  37.550629  126.914986  948325.239132  1.950304e+06   \n",
       "4  105   105. 합정역 5번출구 앞  37.550007  126.914825  948310.657239  1.950235e+06   \n",
       "\n",
       "        Elev BikeRoadNM  ToBikeRoad  \n",
       "0   9.152323     한강자전거길       771.0  \n",
       "1   6.963737    홍제천자전거길      1065.0  \n",
       "2   6.865565     한강자전거길      1146.0  \n",
       "3  18.136753     한강자전거길       676.0  \n",
       "4  17.498430     한강자전거길       962.0  "
      ]
     },
     "execution_count": 57,
     "metadata": {},
     "output_type": "execute_result"
    }
   ],
   "source": [
    "sta_info=pd.read_csv('../dataset/con_sta_info.csv')\n",
    "sta_info.head()"
   ]
  },
  {
   "cell_type": "code",
   "execution_count": 58,
   "metadata": {},
   "outputs": [
    {
     "name": "stdout",
     "output_type": "stream",
     "text": [
      "대여소 정보 dataset :  (1527, 9)\n"
     ]
    }
   ],
   "source": [
    "print('대여소 정보 dataset : ',sta_info.shape)"
   ]
  },
  {
   "cell_type": "code",
   "execution_count": 59,
   "metadata": {},
   "outputs": [
    {
     "data": {
      "text/plain": [
       "['101', '102', '103', '104', '105']"
      ]
     },
     "execution_count": 59,
     "metadata": {},
     "output_type": "execute_result"
    }
   ],
   "source": [
    "id_info=sta_info['ID'].unique().tolist()\n",
    "id_info=[str(i) for i in id_info]\n",
    "id_info[:5]"
   ]
  },
  {
   "cell_type": "code",
   "execution_count": 60,
   "metadata": {},
   "outputs": [
    {
     "data": {
      "text/plain": [
       "str"
      ]
     },
     "execution_count": 60,
     "metadata": {},
     "output_type": "execute_result"
    }
   ],
   "source": [
    "type(id_info[0])"
   ]
  },
  {
   "cell_type": "code",
   "execution_count": 61,
   "metadata": {},
   "outputs": [
    {
     "data": {
      "text/html": [
       "<div>\n",
       "<style scoped>\n",
       "    .dataframe tbody tr th:only-of-type {\n",
       "        vertical-align: middle;\n",
       "    }\n",
       "\n",
       "    .dataframe tbody tr th {\n",
       "        vertical-align: top;\n",
       "    }\n",
       "\n",
       "    .dataframe thead th {\n",
       "        text-align: right;\n",
       "    }\n",
       "</style>\n",
       "<table border=\"1\" class=\"dataframe\">\n",
       "  <thead>\n",
       "    <tr style=\"text-align: right;\">\n",
       "      <th></th>\n",
       "      <th>station_id</th>\n",
       "      <th>19_week_daily</th>\n",
       "      <th>19_week_regular</th>\n",
       "      <th>19_hol_daily</th>\n",
       "      <th>19_hol_regular</th>\n",
       "      <th>20_week_daily</th>\n",
       "      <th>20_week_regular</th>\n",
       "      <th>20_hol_daily</th>\n",
       "      <th>20_hol_regular</th>\n",
       "    </tr>\n",
       "  </thead>\n",
       "  <tbody>\n",
       "    <tr>\n",
       "      <th>0</th>\n",
       "      <td>1001</td>\n",
       "      <td>0.172905</td>\n",
       "      <td>0.827095</td>\n",
       "      <td>0.316646</td>\n",
       "      <td>0.683354</td>\n",
       "      <td>0.258624</td>\n",
       "      <td>0.741376</td>\n",
       "      <td>0.392308</td>\n",
       "      <td>0.607692</td>\n",
       "    </tr>\n",
       "    <tr>\n",
       "      <th>1</th>\n",
       "      <td>1002</td>\n",
       "      <td>0.183894</td>\n",
       "      <td>0.816106</td>\n",
       "      <td>0.356350</td>\n",
       "      <td>0.643650</td>\n",
       "      <td>0.283254</td>\n",
       "      <td>0.716746</td>\n",
       "      <td>0.454603</td>\n",
       "      <td>0.545397</td>\n",
       "    </tr>\n",
       "    <tr>\n",
       "      <th>2</th>\n",
       "      <td>1003</td>\n",
       "      <td>0.154073</td>\n",
       "      <td>0.845927</td>\n",
       "      <td>0.259140</td>\n",
       "      <td>0.740860</td>\n",
       "      <td>0.238314</td>\n",
       "      <td>0.761686</td>\n",
       "      <td>0.364192</td>\n",
       "      <td>0.635808</td>\n",
       "    </tr>\n",
       "    <tr>\n",
       "      <th>3</th>\n",
       "      <td>1004</td>\n",
       "      <td>0.172014</td>\n",
       "      <td>0.827986</td>\n",
       "      <td>0.301563</td>\n",
       "      <td>0.698438</td>\n",
       "      <td>0.272103</td>\n",
       "      <td>0.727897</td>\n",
       "      <td>0.428854</td>\n",
       "      <td>0.571146</td>\n",
       "    </tr>\n",
       "    <tr>\n",
       "      <th>4</th>\n",
       "      <td>1006</td>\n",
       "      <td>0.113201</td>\n",
       "      <td>0.886799</td>\n",
       "      <td>0.241314</td>\n",
       "      <td>0.758686</td>\n",
       "      <td>0.197472</td>\n",
       "      <td>0.802528</td>\n",
       "      <td>0.357414</td>\n",
       "      <td>0.642586</td>\n",
       "    </tr>\n",
       "  </tbody>\n",
       "</table>\n",
       "</div>"
      ],
      "text/plain": [
       "  station_id  19_week_daily  19_week_regular  19_hol_daily  19_hol_regular  \\\n",
       "0       1001       0.172905         0.827095      0.316646        0.683354   \n",
       "1       1002       0.183894         0.816106      0.356350        0.643650   \n",
       "2       1003       0.154073         0.845927      0.259140        0.740860   \n",
       "3       1004       0.172014         0.827986      0.301563        0.698438   \n",
       "4       1006       0.113201         0.886799      0.241314        0.758686   \n",
       "\n",
       "   20_week_daily  20_week_regular  20_hol_daily  20_hol_regular  \n",
       "0       0.258624         0.741376      0.392308        0.607692  \n",
       "1       0.283254         0.716746      0.454603        0.545397  \n",
       "2       0.238314         0.761686      0.364192        0.635808  \n",
       "3       0.272103         0.727897      0.428854        0.571146  \n",
       "4       0.197472         0.802528      0.357414        0.642586  "
      ]
     },
     "execution_count": 61,
     "metadata": {},
     "output_type": "execute_result"
    }
   ],
   "source": [
    "df_station=df_station[df_station['station_id'].isin(id_info)].reset_index(drop=True)\n",
    "df_station.head()"
   ]
  },
  {
   "cell_type": "code",
   "execution_count": 62,
   "metadata": {},
   "outputs": [
    {
     "name": "stdout",
     "output_type": "stream",
     "text": [
      "이용권 비율을 확인 할 대여소 목록 : (1527, 9)\n"
     ]
    }
   ],
   "source": [
    "print('이용권 비율을 확인 할 대여소 목록 :',df_station.shape)"
   ]
  },
  {
   "cell_type": "markdown",
   "metadata": {},
   "source": [
    "## 19->20 차이가 큰 정류소 찾기"
   ]
  },
  {
   "cell_type": "markdown",
   "metadata": {},
   "source": [
    "#### 편하게 보기위해서 정기권만 가지고 확인"
   ]
  },
  {
   "cell_type": "code",
   "execution_count": 63,
   "metadata": {},
   "outputs": [
    {
     "data": {
      "text/html": [
       "<div>\n",
       "<style scoped>\n",
       "    .dataframe tbody tr th:only-of-type {\n",
       "        vertical-align: middle;\n",
       "    }\n",
       "\n",
       "    .dataframe tbody tr th {\n",
       "        vertical-align: top;\n",
       "    }\n",
       "\n",
       "    .dataframe thead th {\n",
       "        text-align: right;\n",
       "    }\n",
       "</style>\n",
       "<table border=\"1\" class=\"dataframe\">\n",
       "  <thead>\n",
       "    <tr style=\"text-align: right;\">\n",
       "      <th></th>\n",
       "      <th>station_id</th>\n",
       "      <th>19_week_regular</th>\n",
       "      <th>19_hol_regular</th>\n",
       "      <th>20_week_regular</th>\n",
       "      <th>20_hol_regular</th>\n",
       "    </tr>\n",
       "  </thead>\n",
       "  <tbody>\n",
       "    <tr>\n",
       "      <th>0</th>\n",
       "      <td>1001</td>\n",
       "      <td>0.827095</td>\n",
       "      <td>0.683354</td>\n",
       "      <td>0.741376</td>\n",
       "      <td>0.607692</td>\n",
       "    </tr>\n",
       "    <tr>\n",
       "      <th>1</th>\n",
       "      <td>1002</td>\n",
       "      <td>0.816106</td>\n",
       "      <td>0.643650</td>\n",
       "      <td>0.716746</td>\n",
       "      <td>0.545397</td>\n",
       "    </tr>\n",
       "    <tr>\n",
       "      <th>2</th>\n",
       "      <td>1003</td>\n",
       "      <td>0.845927</td>\n",
       "      <td>0.740860</td>\n",
       "      <td>0.761686</td>\n",
       "      <td>0.635808</td>\n",
       "    </tr>\n",
       "    <tr>\n",
       "      <th>3</th>\n",
       "      <td>1004</td>\n",
       "      <td>0.827986</td>\n",
       "      <td>0.698438</td>\n",
       "      <td>0.727897</td>\n",
       "      <td>0.571146</td>\n",
       "    </tr>\n",
       "    <tr>\n",
       "      <th>4</th>\n",
       "      <td>1006</td>\n",
       "      <td>0.886799</td>\n",
       "      <td>0.758686</td>\n",
       "      <td>0.802528</td>\n",
       "      <td>0.642586</td>\n",
       "    </tr>\n",
       "  </tbody>\n",
       "</table>\n",
       "</div>"
      ],
      "text/plain": [
       "  station_id  19_week_regular  19_hol_regular  20_week_regular  20_hol_regular\n",
       "0       1001         0.827095        0.683354         0.741376        0.607692\n",
       "1       1002         0.816106        0.643650         0.716746        0.545397\n",
       "2       1003         0.845927        0.740860         0.761686        0.635808\n",
       "3       1004         0.827986        0.698438         0.727897        0.571146\n",
       "4       1006         0.886799        0.758686         0.802528        0.642586"
      ]
     },
     "execution_count": 63,
     "metadata": {},
     "output_type": "execute_result"
    }
   ],
   "source": [
    "df_station_reg=df_station[['station_id','19_week_regular','19_hol_regular','20_week_regular','20_hol_regular']]\n",
    "df_station_reg.head()"
   ]
  },
  {
   "cell_type": "code",
   "execution_count": 64,
   "metadata": {},
   "outputs": [
    {
     "data": {
      "text/plain": [
       "(1527, 5)"
      ]
     },
     "execution_count": 64,
     "metadata": {},
     "output_type": "execute_result"
    }
   ],
   "source": [
    "df_station_reg.shape"
   ]
  },
  {
   "cell_type": "code",
   "execution_count": 65,
   "metadata": {},
   "outputs": [
    {
     "name": "stderr",
     "output_type": "stream",
     "text": [
      "C:\\Users\\river\\anaconda3\\lib\\site-packages\\ipykernel_launcher.py:1: SettingWithCopyWarning: \n",
      "A value is trying to be set on a copy of a slice from a DataFrame.\n",
      "Try using .loc[row_indexer,col_indexer] = value instead\n",
      "\n",
      "See the caveats in the documentation: https://pandas.pydata.org/pandas-docs/stable/user_guide/indexing.html#returning-a-view-versus-a-copy\n",
      "  \"\"\"Entry point for launching an IPython kernel.\n",
      "C:\\Users\\river\\anaconda3\\lib\\site-packages\\ipykernel_launcher.py:2: SettingWithCopyWarning: \n",
      "A value is trying to be set on a copy of a slice from a DataFrame.\n",
      "Try using .loc[row_indexer,col_indexer] = value instead\n",
      "\n",
      "See the caveats in the documentation: https://pandas.pydata.org/pandas-docs/stable/user_guide/indexing.html#returning-a-view-versus-a-copy\n",
      "  \n"
     ]
    },
    {
     "data": {
      "text/html": [
       "<div>\n",
       "<style scoped>\n",
       "    .dataframe tbody tr th:only-of-type {\n",
       "        vertical-align: middle;\n",
       "    }\n",
       "\n",
       "    .dataframe tbody tr th {\n",
       "        vertical-align: top;\n",
       "    }\n",
       "\n",
       "    .dataframe thead th {\n",
       "        text-align: right;\n",
       "    }\n",
       "</style>\n",
       "<table border=\"1\" class=\"dataframe\">\n",
       "  <thead>\n",
       "    <tr style=\"text-align: right;\">\n",
       "      <th></th>\n",
       "      <th>station_id</th>\n",
       "      <th>19_week_regular</th>\n",
       "      <th>19_hol_regular</th>\n",
       "      <th>20_week_regular</th>\n",
       "      <th>20_hol_regular</th>\n",
       "      <th>week diff</th>\n",
       "      <th>hol diff</th>\n",
       "    </tr>\n",
       "  </thead>\n",
       "  <tbody>\n",
       "    <tr>\n",
       "      <th>0</th>\n",
       "      <td>1001</td>\n",
       "      <td>0.827095</td>\n",
       "      <td>0.683354</td>\n",
       "      <td>0.741376</td>\n",
       "      <td>0.607692</td>\n",
       "      <td>0.085718</td>\n",
       "      <td>0.075662</td>\n",
       "    </tr>\n",
       "    <tr>\n",
       "      <th>1</th>\n",
       "      <td>1002</td>\n",
       "      <td>0.816106</td>\n",
       "      <td>0.643650</td>\n",
       "      <td>0.716746</td>\n",
       "      <td>0.545397</td>\n",
       "      <td>0.099361</td>\n",
       "      <td>0.098253</td>\n",
       "    </tr>\n",
       "    <tr>\n",
       "      <th>2</th>\n",
       "      <td>1003</td>\n",
       "      <td>0.845927</td>\n",
       "      <td>0.740860</td>\n",
       "      <td>0.761686</td>\n",
       "      <td>0.635808</td>\n",
       "      <td>0.084241</td>\n",
       "      <td>0.105052</td>\n",
       "    </tr>\n",
       "    <tr>\n",
       "      <th>3</th>\n",
       "      <td>1004</td>\n",
       "      <td>0.827986</td>\n",
       "      <td>0.698438</td>\n",
       "      <td>0.727897</td>\n",
       "      <td>0.571146</td>\n",
       "      <td>0.100089</td>\n",
       "      <td>0.127291</td>\n",
       "    </tr>\n",
       "    <tr>\n",
       "      <th>4</th>\n",
       "      <td>1006</td>\n",
       "      <td>0.886799</td>\n",
       "      <td>0.758686</td>\n",
       "      <td>0.802528</td>\n",
       "      <td>0.642586</td>\n",
       "      <td>0.084271</td>\n",
       "      <td>0.116101</td>\n",
       "    </tr>\n",
       "  </tbody>\n",
       "</table>\n",
       "</div>"
      ],
      "text/plain": [
       "  station_id  19_week_regular  19_hol_regular  20_week_regular  \\\n",
       "0       1001         0.827095        0.683354         0.741376   \n",
       "1       1002         0.816106        0.643650         0.716746   \n",
       "2       1003         0.845927        0.740860         0.761686   \n",
       "3       1004         0.827986        0.698438         0.727897   \n",
       "4       1006         0.886799        0.758686         0.802528   \n",
       "\n",
       "   20_hol_regular  week diff  hol diff  \n",
       "0        0.607692   0.085718  0.075662  \n",
       "1        0.545397   0.099361  0.098253  \n",
       "2        0.635808   0.084241  0.105052  \n",
       "3        0.571146   0.100089  0.127291  \n",
       "4        0.642586   0.084271  0.116101  "
      ]
     },
     "execution_count": 65,
     "metadata": {},
     "output_type": "execute_result"
    }
   ],
   "source": [
    "df_station_reg['week diff']=abs(df_station_reg['20_week_regular']-df_station_reg['19_week_regular'])\n",
    "df_station_reg['hol diff']=abs(df_station_reg['20_hol_regular']-df_station_reg['19_hol_regular'])\n",
    "\n",
    "df_station_reg.head()"
   ]
  },
  {
   "cell_type": "code",
   "execution_count": 97,
   "metadata": {},
   "outputs": [],
   "source": [
    "def make_sign(data1, data2):\n",
    "    if data1 > data2 :\n",
    "        return '-'\n",
    "    elif data2 > data1 :\n",
    "        return '+'\n",
    "    else:\n",
    "        return '0'"
   ]
  },
  {
   "cell_type": "code",
   "execution_count": 67,
   "metadata": {},
   "outputs": [
    {
     "name": "stderr",
     "output_type": "stream",
     "text": [
      "C:\\Users\\river\\anaconda3\\lib\\site-packages\\ipykernel_launcher.py:1: SettingWithCopyWarning: \n",
      "A value is trying to be set on a copy of a slice from a DataFrame.\n",
      "Try using .loc[row_indexer,col_indexer] = value instead\n",
      "\n",
      "See the caveats in the documentation: https://pandas.pydata.org/pandas-docs/stable/user_guide/indexing.html#returning-a-view-versus-a-copy\n",
      "  \"\"\"Entry point for launching an IPython kernel.\n"
     ]
    },
    {
     "data": {
      "text/html": [
       "<div>\n",
       "<style scoped>\n",
       "    .dataframe tbody tr th:only-of-type {\n",
       "        vertical-align: middle;\n",
       "    }\n",
       "\n",
       "    .dataframe tbody tr th {\n",
       "        vertical-align: top;\n",
       "    }\n",
       "\n",
       "    .dataframe thead th {\n",
       "        text-align: right;\n",
       "    }\n",
       "</style>\n",
       "<table border=\"1\" class=\"dataframe\">\n",
       "  <thead>\n",
       "    <tr style=\"text-align: right;\">\n",
       "      <th></th>\n",
       "      <th>station_id</th>\n",
       "      <th>19_week_regular</th>\n",
       "      <th>19_hol_regular</th>\n",
       "      <th>20_week_regular</th>\n",
       "      <th>20_hol_regular</th>\n",
       "      <th>week diff</th>\n",
       "      <th>hol diff</th>\n",
       "      <th>week diff sign</th>\n",
       "      <th>hol diff sign</th>\n",
       "    </tr>\n",
       "  </thead>\n",
       "  <tbody>\n",
       "    <tr>\n",
       "      <th>0</th>\n",
       "      <td>1001</td>\n",
       "      <td>0.827095</td>\n",
       "      <td>0.683354</td>\n",
       "      <td>0.741376</td>\n",
       "      <td>0.607692</td>\n",
       "      <td>0.085718</td>\n",
       "      <td>0.075662</td>\n",
       "      <td>-</td>\n",
       "      <td>-</td>\n",
       "    </tr>\n",
       "    <tr>\n",
       "      <th>1</th>\n",
       "      <td>1002</td>\n",
       "      <td>0.816106</td>\n",
       "      <td>0.643650</td>\n",
       "      <td>0.716746</td>\n",
       "      <td>0.545397</td>\n",
       "      <td>0.099361</td>\n",
       "      <td>0.098253</td>\n",
       "      <td>-</td>\n",
       "      <td>-</td>\n",
       "    </tr>\n",
       "    <tr>\n",
       "      <th>2</th>\n",
       "      <td>1003</td>\n",
       "      <td>0.845927</td>\n",
       "      <td>0.740860</td>\n",
       "      <td>0.761686</td>\n",
       "      <td>0.635808</td>\n",
       "      <td>0.084241</td>\n",
       "      <td>0.105052</td>\n",
       "      <td>-</td>\n",
       "      <td>-</td>\n",
       "    </tr>\n",
       "    <tr>\n",
       "      <th>3</th>\n",
       "      <td>1004</td>\n",
       "      <td>0.827986</td>\n",
       "      <td>0.698438</td>\n",
       "      <td>0.727897</td>\n",
       "      <td>0.571146</td>\n",
       "      <td>0.100089</td>\n",
       "      <td>0.127291</td>\n",
       "      <td>-</td>\n",
       "      <td>-</td>\n",
       "    </tr>\n",
       "    <tr>\n",
       "      <th>4</th>\n",
       "      <td>1006</td>\n",
       "      <td>0.886799</td>\n",
       "      <td>0.758686</td>\n",
       "      <td>0.802528</td>\n",
       "      <td>0.642586</td>\n",
       "      <td>0.084271</td>\n",
       "      <td>0.116101</td>\n",
       "      <td>-</td>\n",
       "      <td>-</td>\n",
       "    </tr>\n",
       "  </tbody>\n",
       "</table>\n",
       "</div>"
      ],
      "text/plain": [
       "  station_id  19_week_regular  19_hol_regular  20_week_regular  \\\n",
       "0       1001         0.827095        0.683354         0.741376   \n",
       "1       1002         0.816106        0.643650         0.716746   \n",
       "2       1003         0.845927        0.740860         0.761686   \n",
       "3       1004         0.827986        0.698438         0.727897   \n",
       "4       1006         0.886799        0.758686         0.802528   \n",
       "\n",
       "   20_hol_regular  week diff  hol diff week diff sign hol diff sign  \n",
       "0        0.607692   0.085718  0.075662              -             -  \n",
       "1        0.545397   0.099361  0.098253              -             -  \n",
       "2        0.635808   0.084241  0.105052              -             -  \n",
       "3        0.571146   0.100089  0.127291              -             -  \n",
       "4        0.642586   0.084271  0.116101              -             -  "
      ]
     },
     "execution_count": 67,
     "metadata": {},
     "output_type": "execute_result"
    }
   ],
   "source": [
    "df_station_reg['week diff sign']=df_station_reg.apply(lambda x:make_sign(x['19_week_regular'], x['20_week_regular']), axis=1)\n",
    "df_station_reg['hol diff sign']=df_station_reg.apply(lambda x:make_sign(x['19_hol_regular'], x['20_hol_regular']), axis=1)\n",
    "\n",
    "df_station_reg.head()"
   ]
  },
  {
   "cell_type": "code",
   "execution_count": 68,
   "metadata": {},
   "outputs": [
    {
     "data": {
      "text/plain": [
       "-    1496\n",
       "+      31\n",
       "Name: week diff sign, dtype: int64"
      ]
     },
     "execution_count": 68,
     "metadata": {},
     "output_type": "execute_result"
    }
   ],
   "source": [
    "df_station_reg['week diff sign'].value_counts()"
   ]
  },
  {
   "cell_type": "code",
   "execution_count": 69,
   "metadata": {},
   "outputs": [
    {
     "name": "stdout",
     "output_type": "stream",
     "text": [
      "['1025', '1101', '1241', '1296', '1304', '1370', '1376', '1424', '1652', '1679', '1910', '198', '2141', '2180', '2225', '2275', '2357', '2364', '2385', '2392', '315', '322', '330', '337', '346', '3527', '447', '449', '462', '575', '802']\n",
      "크기 :  31\n"
     ]
    }
   ],
   "source": [
    "# 정기권의 이용 비율이 증가한 대여소 (주중)\n",
    "\n",
    "station_week_plus=df_station_reg[df_station_reg['week diff sign']=='+']['station_id'].tolist()\n",
    "print(station_week_plus)\n",
    "print('크기 : ',len(station_week_plus))"
   ]
  },
  {
   "cell_type": "code",
   "execution_count": 70,
   "metadata": {},
   "outputs": [
    {
     "data": {
      "text/plain": [
       "0.008513425016371971"
      ]
     },
     "execution_count": 70,
     "metadata": {},
     "output_type": "execute_result"
    }
   ],
   "source": [
    "13/1527"
   ]
  },
  {
   "cell_type": "code",
   "execution_count": 71,
   "metadata": {},
   "outputs": [
    {
     "data": {
      "text/plain": [
       "-    1472\n",
       "+      55\n",
       "Name: hol diff sign, dtype: int64"
      ]
     },
     "execution_count": 71,
     "metadata": {},
     "output_type": "execute_result"
    }
   ],
   "source": [
    "df_station_reg['hol diff sign'].value_counts()"
   ]
  },
  {
   "cell_type": "code",
   "execution_count": 72,
   "metadata": {},
   "outputs": [
    {
     "name": "stdout",
     "output_type": "stream",
     "text": [
      "['1108', '1220', '127', '1296', '1304', '1316', '136', '1370', '1457', '1510', '1670', '1910', '199', '1993', '2061', '2127', '2130', '2141', '2180', '2233', '2239', '2266', '2272', '2280', '2328', '2333', '2406', '2409', '2502', '2609', '2610', '2612', '307', '315', '322', '330', '336', '346', '3529', '3532', '354', '380', '391', '453', '454', '455', '462', '575', '580', '608', '640', '802', '812', '846', '963']\n",
      "크기 :  55\n"
     ]
    }
   ],
   "source": [
    "# 정기권의 이용 비율이 증가한 대여소 (주말)\n",
    "\n",
    "station_hol_plus=df_station_reg[df_station_reg['hol diff sign']=='+']['station_id'].tolist()\n",
    "print(station_hol_plus)\n",
    "print('크기 : ',len(station_hol_plus))"
   ]
  },
  {
   "cell_type": "code",
   "execution_count": 75,
   "metadata": {},
   "outputs": [
    {
     "name": "stdout",
     "output_type": "stream",
     "text": [
      "{'1296', '2180', '322', '315', '330', '2141', '802', '1910', '1370', '1304', '575', '462', '346'}\n",
      "크기 :  13\n"
     ]
    }
   ],
   "source": [
    "# 정기권의 이용 비율이 증가한 대여소 교집합 (주중-주말)\n",
    "\n",
    "plus_intersection=set(station_week_plus).intersection(set(station_hol_plus))\n",
    "print(plus_intersection)\n",
    "print('크기 : ',len(plus_intersection))"
   ]
  },
  {
   "cell_type": "code",
   "execution_count": 24,
   "metadata": {},
   "outputs": [
    {
     "data": {
      "text/plain": [
       "count    1527.000000\n",
       "mean        0.059412\n",
       "std         0.030902\n",
       "min         0.000593\n",
       "25%         0.038381\n",
       "50%         0.055540\n",
       "75%         0.077492\n",
       "max         0.207296\n",
       "Name: week diff, dtype: float64"
      ]
     },
     "execution_count": 24,
     "metadata": {},
     "output_type": "execute_result"
    }
   ],
   "source": [
    "df_station_reg['week diff'].describe()"
   ]
  },
  {
   "cell_type": "code",
   "execution_count": 25,
   "metadata": {},
   "outputs": [
    {
     "data": {
      "text/plain": [
       "count    1527.000000\n",
       "mean        0.072593\n",
       "std         0.039381\n",
       "min         0.000163\n",
       "25%         0.045215\n",
       "50%         0.070242\n",
       "75%         0.095023\n",
       "max         0.284067\n",
       "Name: hol diff, dtype: float64"
      ]
     },
     "execution_count": 25,
     "metadata": {},
     "output_type": "execute_result"
    }
   ],
   "source": [
    "df_station_reg['hol diff'].describe()"
   ]
  },
  {
   "cell_type": "markdown",
   "metadata": {},
   "source": [
    "### Quantile 별 소속 대여소 구분"
   ]
  },
  {
   "cell_type": "markdown",
   "metadata": {},
   "source": [
    "#### 주중"
   ]
  },
  {
   "cell_type": "code",
   "execution_count": 164,
   "metadata": {},
   "outputs": [],
   "source": [
    "week_qt1=df_station_reg['week diff'].quantile(.25)\n",
    "week_qt2=df_station_reg['week diff'].quantile(.5)\n",
    "week_qt3=df_station_reg['week diff'].quantile(.75)"
   ]
  },
  {
   "cell_type": "code",
   "execution_count": 165,
   "metadata": {},
   "outputs": [],
   "source": [
    "station_week_qt1=df_station_reg[df_station_reg['week diff'] < week_qt1]['station_id'].tolist()\n",
    "station_week_qt2=df_station_reg[(df_station_reg['week diff'] >= week_qt1)&(df_station_reg['week diff'] < week_qt2)]['station_id'].tolist()\n",
    "station_week_qt3=df_station_reg[(df_station_reg['week diff'] >= week_qt2)&(df_station_reg['week diff'] < week_qt3)]['station_id'].tolist()\n",
    "station_week_qt4=df_station_reg[df_station_reg['week diff'] >= week_qt3]['station_id'].tolist()"
   ]
  },
  {
   "cell_type": "code",
   "execution_count": 166,
   "metadata": {},
   "outputs": [
    {
     "name": "stdout",
     "output_type": "stream",
     "text": [
      "0.1361574894727374 -0.02028431900019459\n"
     ]
    }
   ],
   "source": [
    "iqr=week_qt3-week_qt1\n",
    "out_up=week_qt3+1.5*iqr\n",
    "out_down=week_qt1-1.5*iqr\n",
    "\n",
    "print(out_up, out_down)"
   ]
  },
  {
   "cell_type": "code",
   "execution_count": 167,
   "metadata": {},
   "outputs": [
    {
     "name": "stdout",
     "output_type": "stream",
     "text": [
      "['1039', '1052', '1056', '1058', '1359', '1445', '1450', '1452', '1664', '1816', '1824', '1825', '1826', '1847', '1857', '1858', '1937', '1951', '1952', '1987', '2038', '2130', '221', '3525', '502', '524', '928', '938', '966']\n",
      "크기 :  29\n"
     ]
    }
   ],
   "source": [
    "# 이상치로 간주된 정류소\n",
    "\n",
    "station_outlier_week=df_station_reg[df_station_reg['week diff'] > out_up]['station_id'].tolist()\n",
    "print(station_outlier_week)\n",
    "print('크기 : ',len(station_outlier_week))"
   ]
  },
  {
   "cell_type": "markdown",
   "metadata": {},
   "source": [
    "#### 주말"
   ]
  },
  {
   "cell_type": "code",
   "execution_count": 168,
   "metadata": {},
   "outputs": [],
   "source": [
    "hol_qt1=df_station_reg['hol diff'].quantile(.25)\n",
    "hol_qt2=df_station_reg['hol diff'].quantile(.5)\n",
    "hol_qt3=df_station_reg['hol diff'].quantile(.75)"
   ]
  },
  {
   "cell_type": "code",
   "execution_count": 169,
   "metadata": {},
   "outputs": [],
   "source": [
    "station_hol_qt1=df_station_reg[df_station_reg['hol diff'] < hol_qt1]['station_id'].tolist()\n",
    "station_hol_qt2=df_station_reg[(df_station_reg['hol diff'] >= hol_qt1)&(df_station_reg['hol diff'] < hol_qt2)]['station_id'].tolist()\n",
    "station_hol_qt3=df_station_reg[(df_station_reg['hol diff'] >= hol_qt2)&(df_station_reg['hol diff'] < hol_qt3)]['station_id'].tolist()\n",
    "station_hol_qt4=df_station_reg[df_station_reg['hol diff'] >= hol_qt3]['station_id'].tolist()"
   ]
  },
  {
   "cell_type": "code",
   "execution_count": 170,
   "metadata": {},
   "outputs": [
    {
     "name": "stdout",
     "output_type": "stream",
     "text": [
      "0.16973560896893147 -0.029498094943539402\n"
     ]
    }
   ],
   "source": [
    "iqr=hol_qt3-hol_qt1\n",
    "out_up=hol_qt3+1.5*iqr\n",
    "out_down=hol_qt1-1.5*iqr\n",
    "\n",
    "print(out_up, out_down)"
   ]
  },
  {
   "cell_type": "code",
   "execution_count": 171,
   "metadata": {},
   "outputs": [
    {
     "name": "stdout",
     "output_type": "stream",
     "text": [
      "['1038', '1057', '1058', '1406', '1421', '1819', '1826', '1835', '1836', '1847', '1857', '1858', '1929', '1952', '1953', '1969', '1999', '206', '2201', '2287', '2309', '2341', '3524', '3528', '3539', '827', '902']\n",
      "크기 :  27\n"
     ]
    }
   ],
   "source": [
    "# 이상치로 간주된 정류소\n",
    "\n",
    "station_outlier_hol=df_station_reg[df_station_reg['hol diff'] > out_up]['station_id'].tolist()\n",
    "print(station_outlier_hol)\n",
    "print('크기 : ',len(station_outlier_hol))"
   ]
  },
  {
   "cell_type": "code",
   "execution_count": 173,
   "metadata": {},
   "outputs": [
    {
     "data": {
      "text/plain": [
       "{'1058', '1826', '1847', '1857', '1858', '1952'}"
      ]
     },
     "execution_count": 173,
     "metadata": {},
     "output_type": "execute_result"
    }
   ],
   "source": [
    "# 주중/주말 모두 변화가 큰 대여소\n",
    "\n",
    "set(station_outlier_week).intersection(set(station_outlier_hol))"
   ]
  },
  {
   "cell_type": "markdown",
   "metadata": {},
   "source": [
    "### 10% 이상 이용비율의 변화가 있는 대여소 목록"
   ]
  },
  {
   "cell_type": "markdown",
   "metadata": {},
   "source": [
    "#### 주중"
   ]
  },
  {
   "cell_type": "code",
   "execution_count": 26,
   "metadata": {},
   "outputs": [
    {
     "name": "stdout",
     "output_type": "stream",
     "text": [
      "['1004', '1037', '1038', '1039', '1052', '1053', '1056', '1057', '1058', '1122', '1161', '117', '119', '123', '1271', '1275', '1291', '131', '1315', '1332', '1347', '1357', '1359', '1373', '1413', '1420', '1434', '1437', '1438', '1445', '1450', '1452', '1453', '1512', '152', '1533', '1534', '1548', '1620', '1640', '1641', '1659', '1661', '1664', '1667', '1677', '1691', '1715', '1717', '1720', '1726', '1730', '1735', '1736', '1738', '1814', '1816', '182', '1820', '1821', '1824', '1825', '1826', '1827', '1836', '1846', '1847', '1855', '1857', '1858', '186', '1925', '1928', '1929', '1937', '1951', '1952', '1981', '1987', '1996', '2024', '2038', '205', '2054', '207', '209', '2103', '2107', '2130', '215', '2159', '221', '2214', '2215', '2217', '2220', '2262', '2265', '227', '2308', '2309', '2344', '2351', '2356', '2373', '2389', '2403', '2411', '248', '249', '2603', '2605', '2616', '272', '3525', '418', '502', '510', '511', '523', '524', '534', '544', '556', '564', '565', '581', '606', '607', '647', '663', '711', '712', '714', '766', '803', '808', '825', '902', '907', '914', '915', '922', '923', '928', '937', '938', '966']\n",
      "크기 :  148\n"
     ]
    }
   ],
   "source": [
    "station_over10_week=df_station_reg[df_station_reg['week diff'] >= 0.1]['station_id'].tolist()\n",
    "print(station_over10_week)\n",
    "print('크기 : ',len(station_over10_week))"
   ]
  },
  {
   "cell_type": "markdown",
   "metadata": {},
   "source": [
    "#### 주말"
   ]
  },
  {
   "cell_type": "code",
   "execution_count": 27,
   "metadata": {},
   "outputs": [
    {
     "name": "stdout",
     "output_type": "stream",
     "text": [
      "['1003', '1004', '1006', '1008', '1016', '1023', '1031', '1032', '1033', '1037', '1038', '1039', '1041', '1042', '1052', '1054', '1056', '1057', '1058', '1062', '1105', '111', '1120', '1152', '1155', '1160', '1178', '1188', '119', '1207', '121', '1226', '1249', '1250', '1263', '1271', '1280', '1291', '131', '1314', '1318', '1319', '1323', '1325', '1334', '1347', '1366', '1377', '1406', '1413', '1416', '1418', '1420', '1421', '1422', '1426', '1428', '1429', '1434', '1438', '1450', '1452', '148', '1511', '1512', '1513', '1514', '1528', '1533', '1539', '1605', '1606', '1610', '1620', '1634', '1639', '1640', '1646', '165', '1654', '1659', '166', '1661', '1664', '1668', '1671', '1672', '1674', '1678', '1679', '1680', '1685', '1703', '1714', '1715', '1717', '1722', '1723', '1726', '1727', '1728', '1729', '1730', '1734', '1736', '1738', '1742', '175', '1804', '1805', '1806', '1809', '1814', '1819', '1820', '1822', '1823', '1824', '1825', '1826', '1827', '1828', '1830', '1831', '1833', '1834', '1835', '1836', '1842', '1845', '1846', '1847', '185', '1851', '1852', '1854', '1855', '1857', '1858', '1859', '1907', '1911', '1916', '1924', '1925', '1929', '1930', '1937', '194', '1941', '1951', '1952', '1953', '1957', '1965', '1969', '1971', '1973', '1977', '1979', '1981', '1985', '1987', '1988', '1994', '1999', '2008', '201', '2024', '2027', '203', '2038', '205', '2056', '206', '2065', '209', '2103', '2107', '2116', '2137', '2144', '2148', '216', '2177', '218', '2201', '2206', '2207', '221', '2212', '2214', '2215', '224', '2247', '2248', '225', '2256', '226', '2264', '2265', '2269', '227', '2282', '2286', '2287', '2288', '2307', '2309', '231', '2311', '2314', '2317', '233', '2339', '2341', '2344', '2347', '2351', '2352', '2354', '2356', '2368', '2376', '2383', '2387', '2388', '2389', '2401', '249', '2501', '2506', '2508', '252', '259', '2603', '2611', '2616', '263', '271', '272', '278', '281', '290', '3106', '327', '330', '348', '3503', '3524', '3528', '3539', '369', '371', '405', '439', '450', '524', '534', '544', '548', '569', '581', '585', '591', '592', '594', '606', '607', '626', '627', '638', '641', '643', '647', '650', '652', '654', '658', '663', '711', '712', '714', '716', '724', '729', '735', '739', '740', '747', '749', '756', '757', '827', '838', '902', '905', '907', '909', '911', '912', '915', '919', '923', '928', '937', '938', '941', '947', '954', '958', '959', '960', '966', '967']\n",
      "크기 :  315\n"
     ]
    }
   ],
   "source": [
    "station_over10_hol=df_station_reg[df_station_reg['hol diff'] >= 0.1]['station_id'].tolist()\n",
    "print(station_over10_hol)\n",
    "print('크기 : ',len(station_over10_hol))"
   ]
  },
  {
   "cell_type": "code",
   "execution_count": 29,
   "metadata": {},
   "outputs": [
    {
     "name": "stdout",
     "output_type": "stream",
     "text": [
      "{'1037', '902', '2351', '606', '272', '1730', '1664', '1438', '1925', '1937', '1413', '1846', '1661', '1056', '2215', '1039', '2344', '607', '1824', '1058', '1533', '938', '1814', '1858', '1640', '209', '249', '221', '2103', '711', '2616', '1827', '227', '1836', '2107', '119', '712', '1004', '1726', '1929', '205', '1420', '2038', '1855', '2265', '524', '1825', '1736', '1987', '1434', '915', '2024', '928', '581', '1826', '2356', '1952', '2603', '544', '2389', '1450', '1738', '923', '1857', '714', '1347', '1452', '1659', '1291', '1052', '1847', '1715', '2214', '937', '534', '1981', '131', '2309', '1620', '1951', '663', '1271', '1820', '1512', '1038', '1057', '1717', '647', '966', '907'}\n",
      "크기 :  90\n"
     ]
    }
   ],
   "source": [
    "# 교집합\n",
    "\n",
    "station_over10_intersection=set(station_over10_week).intersection(set(station_over10_hol))\n",
    "print(station_over10_intersection)\n",
    "print('크기 : ',len(station_over10_intersection))"
   ]
  },
  {
   "cell_type": "markdown",
   "metadata": {},
   "source": [
    "## 반기에 따른 대여소 이용권 비율변화 확인"
   ]
  },
  {
   "cell_type": "markdown",
   "metadata": {},
   "source": [
    "#### 반기"
   ]
  },
  {
   "cell_type": "code",
   "execution_count": 77,
   "metadata": {},
   "outputs": [
    {
     "data": {
      "text/html": [
       "<div>\n",
       "<style scoped>\n",
       "    .dataframe tbody tr th:only-of-type {\n",
       "        vertical-align: middle;\n",
       "    }\n",
       "\n",
       "    .dataframe tbody tr th {\n",
       "        vertical-align: top;\n",
       "    }\n",
       "\n",
       "    .dataframe thead th {\n",
       "        text-align: right;\n",
       "    }\n",
       "</style>\n",
       "<table border=\"1\" class=\"dataframe\">\n",
       "  <thead>\n",
       "    <tr style=\"text-align: right;\">\n",
       "      <th></th>\n",
       "      <th>rent_id</th>\n",
       "      <th>rent_time</th>\n",
       "      <th>return_id</th>\n",
       "      <th>return_time</th>\n",
       "      <th>travel_time</th>\n",
       "      <th>travel_distance</th>\n",
       "      <th>fare</th>\n",
       "      <th>sex</th>\n",
       "      <th>age</th>\n",
       "      <th>type</th>\n",
       "      <th>times</th>\n",
       "      <th>year</th>\n",
       "      <th>month</th>\n",
       "      <th>day</th>\n",
       "      <th>dayofweek</th>\n",
       "      <th>hour</th>\n",
       "      <th>month-day</th>\n",
       "    </tr>\n",
       "  </thead>\n",
       "  <tbody>\n",
       "    <tr>\n",
       "      <th>0</th>\n",
       "      <td>437</td>\n",
       "      <td>2019-01-02 00:02:29</td>\n",
       "      <td>126</td>\n",
       "      <td>2019-01-02 00:04:44</td>\n",
       "      <td>135.0</td>\n",
       "      <td>410.0</td>\n",
       "      <td>BIL_004</td>\n",
       "      <td>M</td>\n",
       "      <td>AGE_003</td>\n",
       "      <td>Regular</td>\n",
       "      <td>1H</td>\n",
       "      <td>2019</td>\n",
       "      <td>1</td>\n",
       "      <td>2</td>\n",
       "      <td>Wed</td>\n",
       "      <td>0</td>\n",
       "      <td>0            1\\n1            1\\n2            1...</td>\n",
       "    </tr>\n",
       "    <tr>\n",
       "      <th>1</th>\n",
       "      <td>747</td>\n",
       "      <td>2019-01-02 00:00:41</td>\n",
       "      <td>726</td>\n",
       "      <td>2019-01-02 00:05:15</td>\n",
       "      <td>274.0</td>\n",
       "      <td>660.0</td>\n",
       "      <td>BIL_006</td>\n",
       "      <td>\\N</td>\n",
       "      <td>AGE_002</td>\n",
       "      <td>Daily</td>\n",
       "      <td>1H</td>\n",
       "      <td>2019</td>\n",
       "      <td>1</td>\n",
       "      <td>2</td>\n",
       "      <td>Wed</td>\n",
       "      <td>0</td>\n",
       "      <td>0            1\\n1            1\\n2            1...</td>\n",
       "    </tr>\n",
       "    <tr>\n",
       "      <th>2</th>\n",
       "      <td>1149</td>\n",
       "      <td>2019-01-02 00:01:25</td>\n",
       "      <td>1112</td>\n",
       "      <td>2019-01-02 00:05:41</td>\n",
       "      <td>256.0</td>\n",
       "      <td>800.0</td>\n",
       "      <td>BIL_006</td>\n",
       "      <td>\\N</td>\n",
       "      <td>AGE_002</td>\n",
       "      <td>Daily</td>\n",
       "      <td>1H</td>\n",
       "      <td>2019</td>\n",
       "      <td>1</td>\n",
       "      <td>2</td>\n",
       "      <td>Wed</td>\n",
       "      <td>0</td>\n",
       "      <td>0            1\\n1            1\\n2            1...</td>\n",
       "    </tr>\n",
       "    <tr>\n",
       "      <th>3</th>\n",
       "      <td>2025</td>\n",
       "      <td>2019-01-02 00:02:27</td>\n",
       "      <td>2040</td>\n",
       "      <td>2019-01-02 00:05:50</td>\n",
       "      <td>203.0</td>\n",
       "      <td>590.0</td>\n",
       "      <td>BIL_014</td>\n",
       "      <td>M</td>\n",
       "      <td>AGE_002</td>\n",
       "      <td>Regular</td>\n",
       "      <td>2H</td>\n",
       "      <td>2019</td>\n",
       "      <td>1</td>\n",
       "      <td>2</td>\n",
       "      <td>Wed</td>\n",
       "      <td>0</td>\n",
       "      <td>0            1\\n1            1\\n2            1...</td>\n",
       "    </tr>\n",
       "    <tr>\n",
       "      <th>4</th>\n",
       "      <td>1448</td>\n",
       "      <td>2019-01-02 00:01:08</td>\n",
       "      <td>1442</td>\n",
       "      <td>2019-01-02 00:05:57</td>\n",
       "      <td>289.0</td>\n",
       "      <td>1350.0</td>\n",
       "      <td>BIL_005</td>\n",
       "      <td>M</td>\n",
       "      <td>AGE_002</td>\n",
       "      <td>Regular</td>\n",
       "      <td>1H</td>\n",
       "      <td>2019</td>\n",
       "      <td>1</td>\n",
       "      <td>2</td>\n",
       "      <td>Wed</td>\n",
       "      <td>0</td>\n",
       "      <td>0            1\\n1            1\\n2            1...</td>\n",
       "    </tr>\n",
       "  </tbody>\n",
       "</table>\n",
       "</div>"
      ],
      "text/plain": [
       "  rent_id           rent_time return_id         return_time  travel_time  \\\n",
       "0     437 2019-01-02 00:02:29       126 2019-01-02 00:04:44        135.0   \n",
       "1     747 2019-01-02 00:00:41       726 2019-01-02 00:05:15        274.0   \n",
       "2    1149 2019-01-02 00:01:25      1112 2019-01-02 00:05:41        256.0   \n",
       "3    2025 2019-01-02 00:02:27      2040 2019-01-02 00:05:50        203.0   \n",
       "4    1448 2019-01-02 00:01:08      1442 2019-01-02 00:05:57        289.0   \n",
       "\n",
       "   travel_distance     fare sex      age     type times  year  month  day  \\\n",
       "0            410.0  BIL_004   M  AGE_003  Regular    1H  2019      1    2   \n",
       "1            660.0  BIL_006  \\N  AGE_002    Daily    1H  2019      1    2   \n",
       "2            800.0  BIL_006  \\N  AGE_002    Daily    1H  2019      1    2   \n",
       "3            590.0  BIL_014   M  AGE_002  Regular    2H  2019      1    2   \n",
       "4           1350.0  BIL_005   M  AGE_002  Regular    1H  2019      1    2   \n",
       "\n",
       "  dayofweek  hour                                          month-day  \n",
       "0       Wed     0  0            1\\n1            1\\n2            1...  \n",
       "1       Wed     0  0            1\\n1            1\\n2            1...  \n",
       "2       Wed     0  0            1\\n1            1\\n2            1...  \n",
       "3       Wed     0  0            1\\n1            1\\n2            1...  \n",
       "4       Wed     0  0            1\\n1            1\\n2            1...  "
      ]
     },
     "execution_count": 77,
     "metadata": {},
     "output_type": "execute_result"
    }
   ],
   "source": [
    "def make_half(df):\n",
    "    first=[1,2,3,4,5,6]\n",
    "    second=[7,8,9,10,11,12]\n",
    "    \n",
    "    df_first=df[df['month'].isin(first)].reset_index(drop=True)\n",
    "    df_second=df[df['month'].isin(second)].reset_index(drop=True)\n",
    "    \n",
    "    return df_first, df_second"
   ]
  },
  {
   "cell_type": "code",
   "execution_count": 78,
   "metadata": {},
   "outputs": [],
   "source": [
    "df2019_week_one, df2019_week_two=make_half(df2019_week)\n",
    "df2020_week_one, df2020_week_two=make_half(df2020_week)"
   ]
  },
  {
   "cell_type": "code",
   "execution_count": 82,
   "metadata": {},
   "outputs": [
    {
     "name": "stdout",
     "output_type": "stream",
     "text": [
      "19 주중 상반기 :  (5412075, 17)\n",
      "19 주중 하반기 :  (7588630, 17)\n",
      "20 주중 상반기 :  (3991300, 16)\n",
      "20 주중 하반기 :  (1589180, 16)\n"
     ]
    }
   ],
   "source": [
    "print('19 주중 상반기 : ',df2019_week_one.shape)\n",
    "print('19 주중 하반기 : ',df2019_week_two.shape)\n",
    "print('20 주중 상반기 : ',df2020_week_one.shape)\n",
    "print('20 주중 하반기 : ',df2020_week_two.shape)"
   ]
  },
  {
   "cell_type": "code",
   "execution_count": 84,
   "metadata": {},
   "outputs": [],
   "source": [
    "df2019_hol_one, df2019_hol_two=make_half(df2019_hol)\n",
    "df2020_hol_one, df2020_hol_two=make_half(df2020_hol)"
   ]
  },
  {
   "cell_type": "code",
   "execution_count": 85,
   "metadata": {},
   "outputs": [
    {
     "name": "stdout",
     "output_type": "stream",
     "text": [
      "19 주말 상반기 :  (2126506, 17)\n",
      "19 주말 하반기 :  (2988974, 17)\n",
      "20 주말 상반기 :  (1663405, 16)\n",
      "20 주말 하반기 :  (702857, 16)\n"
     ]
    }
   ],
   "source": [
    "print('19 주말 상반기 : ',df2019_hol_one.shape)\n",
    "print('19 주말 하반기 : ',df2019_hol_two.shape)\n",
    "print('20 주말 상반기 : ',df2020_hol_one.shape)\n",
    "print('20 주말 하반기 : ',df2020_hol_two.shape)"
   ]
  },
  {
   "cell_type": "code",
   "execution_count": 80,
   "metadata": {},
   "outputs": [
    {
     "data": {
      "text/html": [
       "<div>\n",
       "<style scoped>\n",
       "    .dataframe tbody tr th:only-of-type {\n",
       "        vertical-align: middle;\n",
       "    }\n",
       "\n",
       "    .dataframe tbody tr th {\n",
       "        vertical-align: top;\n",
       "    }\n",
       "\n",
       "    .dataframe thead th {\n",
       "        text-align: right;\n",
       "    }\n",
       "</style>\n",
       "<table border=\"1\" class=\"dataframe\">\n",
       "  <thead>\n",
       "    <tr style=\"text-align: right;\">\n",
       "      <th></th>\n",
       "      <th>rent_id</th>\n",
       "      <th>rent_time</th>\n",
       "      <th>return_id</th>\n",
       "      <th>return_time</th>\n",
       "      <th>travel_time</th>\n",
       "      <th>travel_distance</th>\n",
       "      <th>fare</th>\n",
       "      <th>sex</th>\n",
       "      <th>age</th>\n",
       "      <th>type</th>\n",
       "      <th>times</th>\n",
       "      <th>year</th>\n",
       "      <th>month</th>\n",
       "      <th>day</th>\n",
       "      <th>dayofweek</th>\n",
       "      <th>hour</th>\n",
       "      <th>month-day</th>\n",
       "    </tr>\n",
       "  </thead>\n",
       "  <tbody>\n",
       "    <tr>\n",
       "      <th>0</th>\n",
       "      <td>437</td>\n",
       "      <td>2019-01-02 00:02:29</td>\n",
       "      <td>126</td>\n",
       "      <td>2019-01-02 00:04:44</td>\n",
       "      <td>135.0</td>\n",
       "      <td>410.0</td>\n",
       "      <td>BIL_004</td>\n",
       "      <td>M</td>\n",
       "      <td>AGE_003</td>\n",
       "      <td>Regular</td>\n",
       "      <td>1H</td>\n",
       "      <td>2019</td>\n",
       "      <td>1</td>\n",
       "      <td>2</td>\n",
       "      <td>Wed</td>\n",
       "      <td>0</td>\n",
       "      <td>0            1\\n1            1\\n2            1...</td>\n",
       "    </tr>\n",
       "    <tr>\n",
       "      <th>1</th>\n",
       "      <td>747</td>\n",
       "      <td>2019-01-02 00:00:41</td>\n",
       "      <td>726</td>\n",
       "      <td>2019-01-02 00:05:15</td>\n",
       "      <td>274.0</td>\n",
       "      <td>660.0</td>\n",
       "      <td>BIL_006</td>\n",
       "      <td>\\N</td>\n",
       "      <td>AGE_002</td>\n",
       "      <td>Daily</td>\n",
       "      <td>1H</td>\n",
       "      <td>2019</td>\n",
       "      <td>1</td>\n",
       "      <td>2</td>\n",
       "      <td>Wed</td>\n",
       "      <td>0</td>\n",
       "      <td>0            1\\n1            1\\n2            1...</td>\n",
       "    </tr>\n",
       "    <tr>\n",
       "      <th>2</th>\n",
       "      <td>1149</td>\n",
       "      <td>2019-01-02 00:01:25</td>\n",
       "      <td>1112</td>\n",
       "      <td>2019-01-02 00:05:41</td>\n",
       "      <td>256.0</td>\n",
       "      <td>800.0</td>\n",
       "      <td>BIL_006</td>\n",
       "      <td>\\N</td>\n",
       "      <td>AGE_002</td>\n",
       "      <td>Daily</td>\n",
       "      <td>1H</td>\n",
       "      <td>2019</td>\n",
       "      <td>1</td>\n",
       "      <td>2</td>\n",
       "      <td>Wed</td>\n",
       "      <td>0</td>\n",
       "      <td>0            1\\n1            1\\n2            1...</td>\n",
       "    </tr>\n",
       "    <tr>\n",
       "      <th>3</th>\n",
       "      <td>2025</td>\n",
       "      <td>2019-01-02 00:02:27</td>\n",
       "      <td>2040</td>\n",
       "      <td>2019-01-02 00:05:50</td>\n",
       "      <td>203.0</td>\n",
       "      <td>590.0</td>\n",
       "      <td>BIL_014</td>\n",
       "      <td>M</td>\n",
       "      <td>AGE_002</td>\n",
       "      <td>Regular</td>\n",
       "      <td>2H</td>\n",
       "      <td>2019</td>\n",
       "      <td>1</td>\n",
       "      <td>2</td>\n",
       "      <td>Wed</td>\n",
       "      <td>0</td>\n",
       "      <td>0            1\\n1            1\\n2            1...</td>\n",
       "    </tr>\n",
       "    <tr>\n",
       "      <th>4</th>\n",
       "      <td>1448</td>\n",
       "      <td>2019-01-02 00:01:08</td>\n",
       "      <td>1442</td>\n",
       "      <td>2019-01-02 00:05:57</td>\n",
       "      <td>289.0</td>\n",
       "      <td>1350.0</td>\n",
       "      <td>BIL_005</td>\n",
       "      <td>M</td>\n",
       "      <td>AGE_002</td>\n",
       "      <td>Regular</td>\n",
       "      <td>1H</td>\n",
       "      <td>2019</td>\n",
       "      <td>1</td>\n",
       "      <td>2</td>\n",
       "      <td>Wed</td>\n",
       "      <td>0</td>\n",
       "      <td>0            1\\n1            1\\n2            1...</td>\n",
       "    </tr>\n",
       "  </tbody>\n",
       "</table>\n",
       "</div>"
      ],
      "text/plain": [
       "  rent_id           rent_time return_id         return_time  travel_time  \\\n",
       "0     437 2019-01-02 00:02:29       126 2019-01-02 00:04:44        135.0   \n",
       "1     747 2019-01-02 00:00:41       726 2019-01-02 00:05:15        274.0   \n",
       "2    1149 2019-01-02 00:01:25      1112 2019-01-02 00:05:41        256.0   \n",
       "3    2025 2019-01-02 00:02:27      2040 2019-01-02 00:05:50        203.0   \n",
       "4    1448 2019-01-02 00:01:08      1442 2019-01-02 00:05:57        289.0   \n",
       "\n",
       "   travel_distance     fare sex      age     type times  year  month  day  \\\n",
       "0            410.0  BIL_004   M  AGE_003  Regular    1H  2019      1    2   \n",
       "1            660.0  BIL_006  \\N  AGE_002    Daily    1H  2019      1    2   \n",
       "2            800.0  BIL_006  \\N  AGE_002    Daily    1H  2019      1    2   \n",
       "3            590.0  BIL_014   M  AGE_002  Regular    2H  2019      1    2   \n",
       "4           1350.0  BIL_005   M  AGE_002  Regular    1H  2019      1    2   \n",
       "\n",
       "  dayofweek  hour                                          month-day  \n",
       "0       Wed     0  0            1\\n1            1\\n2            1...  \n",
       "1       Wed     0  0            1\\n1            1\\n2            1...  \n",
       "2       Wed     0  0            1\\n1            1\\n2            1...  \n",
       "3       Wed     0  0            1\\n1            1\\n2            1...  \n",
       "4       Wed     0  0            1\\n1            1\\n2            1...  "
      ]
     },
     "execution_count": 80,
     "metadata": {},
     "output_type": "execute_result"
    }
   ],
   "source": [
    "df2019_week_one.head()"
   ]
  },
  {
   "cell_type": "code",
   "execution_count": 86,
   "metadata": {},
   "outputs": [],
   "source": [
    "# 대여소 기준 연도에 따른 주중/주말 이용권 비율 데이터프레임 생성\n",
    "\n",
    "def ratio_by_station(df):\n",
    "    grouped=df.groupby('rent_id')['type'].value_counts(normalize=True).unstack()\n",
    "    \n",
    "    station_id=grouped.index\n",
    "    #daily=grouped['Daily'].values\n",
    "    regular=grouped['Regular'].values\n",
    "    \n",
    "    new_df=pd.DataFrame()\n",
    "    new_df['station_id']=station_id\n",
    "    #new_df['Daily']=daily\n",
    "    new_df['Regular']=regular\n",
    "    \n",
    "    return new_df"
   ]
  },
  {
   "cell_type": "code",
   "execution_count": 89,
   "metadata": {},
   "outputs": [],
   "source": [
    "df2019_week_station_one=ratio_by_station(df2019_week_one)\n",
    "df2019_week_station_one.rename(columns={'Regular':'19_week_one'}, inplace=True)\n",
    "df2019_week_station_two=ratio_by_station(df2019_week_two)\n",
    "df2019_week_station_two.rename(columns={'Regular':'19_week_two'}, inplace=True)\n",
    "\n",
    "df2020_week_station_one=ratio_by_station(df2020_week_one)\n",
    "df2020_week_station_one.rename(columns={'Regular':'20_week_one'}, inplace=True)\n",
    "df2020_week_station_two=ratio_by_station(df2020_week_two)\n",
    "df2020_week_station_two.rename(columns={'Regular':'20_week_two'}, inplace=True)\n",
    "\n",
    "df2019_hol_station_one=ratio_by_station(df2019_hol_one)\n",
    "df2019_hol_station_one.rename(columns={'Regular':'19_hol_one'}, inplace=True)\n",
    "df2019_hol_station_two=ratio_by_station(df2019_hol_two)\n",
    "df2019_hol_station_two.rename(columns={'Regular':'19_hol_two'}, inplace=True)\n",
    "\n",
    "df2020_hol_station_one=ratio_by_station(df2020_hol_one)\n",
    "df2020_hol_station_one.rename(columns={'Regular':'20_hol_one'}, inplace=True)\n",
    "df2020_hol_station_two=ratio_by_station(df2020_hol_two)\n",
    "df2020_hol_station_two.rename(columns={'Regular':'20_hol_two'}, inplace=True)\n",
    "\n",
    "\n",
    "\n",
    "df_station=pd.merge(df2019_week_station_one, df2019_week_station_two, left_on='station_id',right_on='station_id',how='outer')\n",
    "df_station=pd.merge(df_station, df2020_week_station_one, left_on='station_id',right_on='station_id',how='outer')\n",
    "df_station=pd.merge(df_station, df2020_week_station_two, left_on='station_id',right_on='station_id',how='outer')\n",
    "df_station=pd.merge(df_station, df2019_hol_station_one, left_on='station_id',right_on='station_id',how='outer')\n",
    "df_station=pd.merge(df_station, df2019_hol_station_two, left_on='station_id',right_on='station_id',how='outer')\n",
    "df_station=pd.merge(df_station, df2020_hol_station_one, left_on='station_id',right_on='station_id',how='outer')\n",
    "df_station=pd.merge(df_station, df2020_hol_station_two, left_on='station_id',right_on='station_id',how='outer')"
   ]
  },
  {
   "cell_type": "code",
   "execution_count": 90,
   "metadata": {},
   "outputs": [
    {
     "data": {
      "text/html": [
       "<div>\n",
       "<style scoped>\n",
       "    .dataframe tbody tr th:only-of-type {\n",
       "        vertical-align: middle;\n",
       "    }\n",
       "\n",
       "    .dataframe tbody tr th {\n",
       "        vertical-align: top;\n",
       "    }\n",
       "\n",
       "    .dataframe thead th {\n",
       "        text-align: right;\n",
       "    }\n",
       "</style>\n",
       "<table border=\"1\" class=\"dataframe\">\n",
       "  <thead>\n",
       "    <tr style=\"text-align: right;\">\n",
       "      <th></th>\n",
       "      <th>station_id</th>\n",
       "      <th>19_week_one</th>\n",
       "      <th>19_week_two</th>\n",
       "      <th>20_week_one</th>\n",
       "      <th>20_week_two</th>\n",
       "      <th>19_hol_one</th>\n",
       "      <th>19_hol_two</th>\n",
       "      <th>20_hol_one</th>\n",
       "      <th>20_hol_two</th>\n",
       "    </tr>\n",
       "  </thead>\n",
       "  <tbody>\n",
       "    <tr>\n",
       "      <th>0</th>\n",
       "      <td>1001</td>\n",
       "      <td>0.807945</td>\n",
       "      <td>0.839880</td>\n",
       "      <td>0.733678</td>\n",
       "      <td>0.760291</td>\n",
       "      <td>0.652327</td>\n",
       "      <td>0.704371</td>\n",
       "      <td>0.590000</td>\n",
       "      <td>0.649438</td>\n",
       "    </tr>\n",
       "    <tr>\n",
       "      <th>1</th>\n",
       "      <td>1002</td>\n",
       "      <td>0.782372</td>\n",
       "      <td>0.835476</td>\n",
       "      <td>0.704082</td>\n",
       "      <td>0.746063</td>\n",
       "      <td>0.587016</td>\n",
       "      <td>0.676923</td>\n",
       "      <td>0.538212</td>\n",
       "      <td>0.560711</td>\n",
       "    </tr>\n",
       "    <tr>\n",
       "      <th>2</th>\n",
       "      <td>1003</td>\n",
       "      <td>0.850483</td>\n",
       "      <td>0.842604</td>\n",
       "      <td>0.759312</td>\n",
       "      <td>0.768049</td>\n",
       "      <td>0.731156</td>\n",
       "      <td>0.748120</td>\n",
       "      <td>0.633615</td>\n",
       "      <td>0.641509</td>\n",
       "    </tr>\n",
       "    <tr>\n",
       "      <th>3</th>\n",
       "      <td>1004</td>\n",
       "      <td>0.805674</td>\n",
       "      <td>0.842854</td>\n",
       "      <td>0.718178</td>\n",
       "      <td>0.751351</td>\n",
       "      <td>0.693945</td>\n",
       "      <td>0.701326</td>\n",
       "      <td>0.558379</td>\n",
       "      <td>0.603873</td>\n",
       "    </tr>\n",
       "    <tr>\n",
       "      <th>4</th>\n",
       "      <td>1006</td>\n",
       "      <td>0.878187</td>\n",
       "      <td>0.892407</td>\n",
       "      <td>0.805315</td>\n",
       "      <td>0.791111</td>\n",
       "      <td>0.752126</td>\n",
       "      <td>0.762911</td>\n",
       "      <td>0.647128</td>\n",
       "      <td>0.623116</td>\n",
       "    </tr>\n",
       "  </tbody>\n",
       "</table>\n",
       "</div>"
      ],
      "text/plain": [
       "  station_id  19_week_one  19_week_two  20_week_one  20_week_two  19_hol_one  \\\n",
       "0       1001     0.807945     0.839880     0.733678     0.760291    0.652327   \n",
       "1       1002     0.782372     0.835476     0.704082     0.746063    0.587016   \n",
       "2       1003     0.850483     0.842604     0.759312     0.768049    0.731156   \n",
       "3       1004     0.805674     0.842854     0.718178     0.751351    0.693945   \n",
       "4       1006     0.878187     0.892407     0.805315     0.791111    0.752126   \n",
       "\n",
       "   19_hol_two  20_hol_one  20_hol_two  \n",
       "0    0.704371    0.590000    0.649438  \n",
       "1    0.676923    0.538212    0.560711  \n",
       "2    0.748120    0.633615    0.641509  \n",
       "3    0.701326    0.558379    0.603873  \n",
       "4    0.762911    0.647128    0.623116  "
      ]
     },
     "execution_count": 90,
     "metadata": {},
     "output_type": "execute_result"
    }
   ],
   "source": [
    "df_station.head()"
   ]
  },
  {
   "cell_type": "code",
   "execution_count": 91,
   "metadata": {},
   "outputs": [
    {
     "data": {
      "text/plain": [
       "(2183, 9)"
      ]
     },
     "execution_count": 91,
     "metadata": {},
     "output_type": "execute_result"
    }
   ],
   "source": [
    "df_station.shape"
   ]
  },
  {
   "cell_type": "code",
   "execution_count": 92,
   "metadata": {},
   "outputs": [
    {
     "data": {
      "text/html": [
       "<div>\n",
       "<style scoped>\n",
       "    .dataframe tbody tr th:only-of-type {\n",
       "        vertical-align: middle;\n",
       "    }\n",
       "\n",
       "    .dataframe tbody tr th {\n",
       "        vertical-align: top;\n",
       "    }\n",
       "\n",
       "    .dataframe thead th {\n",
       "        text-align: right;\n",
       "    }\n",
       "</style>\n",
       "<table border=\"1\" class=\"dataframe\">\n",
       "  <thead>\n",
       "    <tr style=\"text-align: right;\">\n",
       "      <th></th>\n",
       "      <th>station_id</th>\n",
       "      <th>19_week_one</th>\n",
       "      <th>19_week_two</th>\n",
       "      <th>20_week_one</th>\n",
       "      <th>20_week_two</th>\n",
       "      <th>19_hol_one</th>\n",
       "      <th>19_hol_two</th>\n",
       "      <th>20_hol_one</th>\n",
       "      <th>20_hol_two</th>\n",
       "    </tr>\n",
       "  </thead>\n",
       "  <tbody>\n",
       "    <tr>\n",
       "      <th>0</th>\n",
       "      <td>1001</td>\n",
       "      <td>0.807945</td>\n",
       "      <td>0.839880</td>\n",
       "      <td>0.733678</td>\n",
       "      <td>0.760291</td>\n",
       "      <td>0.652327</td>\n",
       "      <td>0.704371</td>\n",
       "      <td>0.590000</td>\n",
       "      <td>0.649438</td>\n",
       "    </tr>\n",
       "    <tr>\n",
       "      <th>1</th>\n",
       "      <td>1002</td>\n",
       "      <td>0.782372</td>\n",
       "      <td>0.835476</td>\n",
       "      <td>0.704082</td>\n",
       "      <td>0.746063</td>\n",
       "      <td>0.587016</td>\n",
       "      <td>0.676923</td>\n",
       "      <td>0.538212</td>\n",
       "      <td>0.560711</td>\n",
       "    </tr>\n",
       "    <tr>\n",
       "      <th>2</th>\n",
       "      <td>1003</td>\n",
       "      <td>0.850483</td>\n",
       "      <td>0.842604</td>\n",
       "      <td>0.759312</td>\n",
       "      <td>0.768049</td>\n",
       "      <td>0.731156</td>\n",
       "      <td>0.748120</td>\n",
       "      <td>0.633615</td>\n",
       "      <td>0.641509</td>\n",
       "    </tr>\n",
       "    <tr>\n",
       "      <th>3</th>\n",
       "      <td>1004</td>\n",
       "      <td>0.805674</td>\n",
       "      <td>0.842854</td>\n",
       "      <td>0.718178</td>\n",
       "      <td>0.751351</td>\n",
       "      <td>0.693945</td>\n",
       "      <td>0.701326</td>\n",
       "      <td>0.558379</td>\n",
       "      <td>0.603873</td>\n",
       "    </tr>\n",
       "    <tr>\n",
       "      <th>4</th>\n",
       "      <td>1006</td>\n",
       "      <td>0.878187</td>\n",
       "      <td>0.892407</td>\n",
       "      <td>0.805315</td>\n",
       "      <td>0.791111</td>\n",
       "      <td>0.752126</td>\n",
       "      <td>0.762911</td>\n",
       "      <td>0.647128</td>\n",
       "      <td>0.623116</td>\n",
       "    </tr>\n",
       "  </tbody>\n",
       "</table>\n",
       "</div>"
      ],
      "text/plain": [
       "  station_id  19_week_one  19_week_two  20_week_one  20_week_two  19_hol_one  \\\n",
       "0       1001     0.807945     0.839880     0.733678     0.760291    0.652327   \n",
       "1       1002     0.782372     0.835476     0.704082     0.746063    0.587016   \n",
       "2       1003     0.850483     0.842604     0.759312     0.768049    0.731156   \n",
       "3       1004     0.805674     0.842854     0.718178     0.751351    0.693945   \n",
       "4       1006     0.878187     0.892407     0.805315     0.791111    0.752126   \n",
       "\n",
       "   19_hol_two  20_hol_one  20_hol_two  \n",
       "0    0.704371    0.590000    0.649438  \n",
       "1    0.676923    0.538212    0.560711  \n",
       "2    0.748120    0.633615    0.641509  \n",
       "3    0.701326    0.558379    0.603873  \n",
       "4    0.762911    0.647128    0.623116  "
      ]
     },
     "execution_count": 92,
     "metadata": {},
     "output_type": "execute_result"
    }
   ],
   "source": [
    "df_station=df_station[df_station['station_id'].isin(id_info)].reset_index(drop=True)\n",
    "df_station.head()"
   ]
  },
  {
   "cell_type": "code",
   "execution_count": 93,
   "metadata": {},
   "outputs": [
    {
     "data": {
      "text/plain": [
       "(1527, 9)"
      ]
     },
     "execution_count": 93,
     "metadata": {},
     "output_type": "execute_result"
    }
   ],
   "source": [
    "df_station.shape"
   ]
  },
  {
   "cell_type": "code",
   "execution_count": 95,
   "metadata": {},
   "outputs": [
    {
     "data": {
      "text/html": [
       "<div>\n",
       "<style scoped>\n",
       "    .dataframe tbody tr th:only-of-type {\n",
       "        vertical-align: middle;\n",
       "    }\n",
       "\n",
       "    .dataframe tbody tr th {\n",
       "        vertical-align: top;\n",
       "    }\n",
       "\n",
       "    .dataframe thead th {\n",
       "        text-align: right;\n",
       "    }\n",
       "</style>\n",
       "<table border=\"1\" class=\"dataframe\">\n",
       "  <thead>\n",
       "    <tr style=\"text-align: right;\">\n",
       "      <th></th>\n",
       "      <th>station_id</th>\n",
       "      <th>19_week_one</th>\n",
       "      <th>19_week_two</th>\n",
       "      <th>20_week_one</th>\n",
       "      <th>20_week_two</th>\n",
       "      <th>19_hol_one</th>\n",
       "      <th>19_hol_two</th>\n",
       "      <th>20_hol_one</th>\n",
       "      <th>20_hol_two</th>\n",
       "      <th>week_one_diff</th>\n",
       "      <th>week_two_diff</th>\n",
       "      <th>hol_one_diff</th>\n",
       "      <th>hol_two_diff</th>\n",
       "    </tr>\n",
       "  </thead>\n",
       "  <tbody>\n",
       "    <tr>\n",
       "      <th>0</th>\n",
       "      <td>1001</td>\n",
       "      <td>0.807945</td>\n",
       "      <td>0.839880</td>\n",
       "      <td>0.733678</td>\n",
       "      <td>0.760291</td>\n",
       "      <td>0.652327</td>\n",
       "      <td>0.704371</td>\n",
       "      <td>0.590000</td>\n",
       "      <td>0.649438</td>\n",
       "      <td>0.074266</td>\n",
       "      <td>0.079589</td>\n",
       "      <td>0.062327</td>\n",
       "      <td>0.054933</td>\n",
       "    </tr>\n",
       "    <tr>\n",
       "      <th>1</th>\n",
       "      <td>1002</td>\n",
       "      <td>0.782372</td>\n",
       "      <td>0.835476</td>\n",
       "      <td>0.704082</td>\n",
       "      <td>0.746063</td>\n",
       "      <td>0.587016</td>\n",
       "      <td>0.676923</td>\n",
       "      <td>0.538212</td>\n",
       "      <td>0.560711</td>\n",
       "      <td>0.078290</td>\n",
       "      <td>0.089413</td>\n",
       "      <td>0.048804</td>\n",
       "      <td>0.116212</td>\n",
       "    </tr>\n",
       "    <tr>\n",
       "      <th>2</th>\n",
       "      <td>1003</td>\n",
       "      <td>0.850483</td>\n",
       "      <td>0.842604</td>\n",
       "      <td>0.759312</td>\n",
       "      <td>0.768049</td>\n",
       "      <td>0.731156</td>\n",
       "      <td>0.748120</td>\n",
       "      <td>0.633615</td>\n",
       "      <td>0.641509</td>\n",
       "      <td>0.091171</td>\n",
       "      <td>0.074555</td>\n",
       "      <td>0.097540</td>\n",
       "      <td>0.106611</td>\n",
       "    </tr>\n",
       "    <tr>\n",
       "      <th>3</th>\n",
       "      <td>1004</td>\n",
       "      <td>0.805674</td>\n",
       "      <td>0.842854</td>\n",
       "      <td>0.718178</td>\n",
       "      <td>0.751351</td>\n",
       "      <td>0.693945</td>\n",
       "      <td>0.701326</td>\n",
       "      <td>0.558379</td>\n",
       "      <td>0.603873</td>\n",
       "      <td>0.087496</td>\n",
       "      <td>0.091503</td>\n",
       "      <td>0.135566</td>\n",
       "      <td>0.097453</td>\n",
       "    </tr>\n",
       "    <tr>\n",
       "      <th>4</th>\n",
       "      <td>1006</td>\n",
       "      <td>0.878187</td>\n",
       "      <td>0.892407</td>\n",
       "      <td>0.805315</td>\n",
       "      <td>0.791111</td>\n",
       "      <td>0.752126</td>\n",
       "      <td>0.762911</td>\n",
       "      <td>0.647128</td>\n",
       "      <td>0.623116</td>\n",
       "      <td>0.072872</td>\n",
       "      <td>0.101296</td>\n",
       "      <td>0.104999</td>\n",
       "      <td>0.139795</td>\n",
       "    </tr>\n",
       "  </tbody>\n",
       "</table>\n",
       "</div>"
      ],
      "text/plain": [
       "  station_id  19_week_one  19_week_two  20_week_one  20_week_two  19_hol_one  \\\n",
       "0       1001     0.807945     0.839880     0.733678     0.760291    0.652327   \n",
       "1       1002     0.782372     0.835476     0.704082     0.746063    0.587016   \n",
       "2       1003     0.850483     0.842604     0.759312     0.768049    0.731156   \n",
       "3       1004     0.805674     0.842854     0.718178     0.751351    0.693945   \n",
       "4       1006     0.878187     0.892407     0.805315     0.791111    0.752126   \n",
       "\n",
       "   19_hol_two  20_hol_one  20_hol_two  week_one_diff  week_two_diff  \\\n",
       "0    0.704371    0.590000    0.649438       0.074266       0.079589   \n",
       "1    0.676923    0.538212    0.560711       0.078290       0.089413   \n",
       "2    0.748120    0.633615    0.641509       0.091171       0.074555   \n",
       "3    0.701326    0.558379    0.603873       0.087496       0.091503   \n",
       "4    0.762911    0.647128    0.623116       0.072872       0.101296   \n",
       "\n",
       "   hol_one_diff  hol_two_diff  \n",
       "0      0.062327      0.054933  \n",
       "1      0.048804      0.116212  \n",
       "2      0.097540      0.106611  \n",
       "3      0.135566      0.097453  \n",
       "4      0.104999      0.139795  "
      ]
     },
     "execution_count": 95,
     "metadata": {},
     "output_type": "execute_result"
    }
   ],
   "source": [
    "df_station['week_one_diff']=abs(df_station['20_week_one']-df_station['19_week_one'])\n",
    "df_station['week_two_diff']=abs(df_station['20_week_two']-df_station['19_week_two'])\n",
    "df_station['hol_one_diff']=abs(df_station['20_hol_one']-df_station['19_hol_one'])\n",
    "df_station['hol_two_diff']=abs(df_station['20_hol_two']-df_station['19_hol_two'])\n",
    "\n",
    "df_station.head()"
   ]
  },
  {
   "cell_type": "code",
   "execution_count": 98,
   "metadata": {},
   "outputs": [
    {
     "data": {
      "text/html": [
       "<div>\n",
       "<style scoped>\n",
       "    .dataframe tbody tr th:only-of-type {\n",
       "        vertical-align: middle;\n",
       "    }\n",
       "\n",
       "    .dataframe tbody tr th {\n",
       "        vertical-align: top;\n",
       "    }\n",
       "\n",
       "    .dataframe thead th {\n",
       "        text-align: right;\n",
       "    }\n",
       "</style>\n",
       "<table border=\"1\" class=\"dataframe\">\n",
       "  <thead>\n",
       "    <tr style=\"text-align: right;\">\n",
       "      <th></th>\n",
       "      <th>station_id</th>\n",
       "      <th>19_week_one</th>\n",
       "      <th>19_week_two</th>\n",
       "      <th>20_week_one</th>\n",
       "      <th>20_week_two</th>\n",
       "      <th>19_hol_one</th>\n",
       "      <th>19_hol_two</th>\n",
       "      <th>20_hol_one</th>\n",
       "      <th>20_hol_two</th>\n",
       "      <th>week_one_diff</th>\n",
       "      <th>week_two_diff</th>\n",
       "      <th>hol_one_diff</th>\n",
       "      <th>hol_two_diff</th>\n",
       "      <th>week one diff sign</th>\n",
       "      <th>week two diff sign</th>\n",
       "      <th>hol one diff sign</th>\n",
       "      <th>hol two diff sign</th>\n",
       "    </tr>\n",
       "  </thead>\n",
       "  <tbody>\n",
       "    <tr>\n",
       "      <th>0</th>\n",
       "      <td>1001</td>\n",
       "      <td>0.807945</td>\n",
       "      <td>0.839880</td>\n",
       "      <td>0.733678</td>\n",
       "      <td>0.760291</td>\n",
       "      <td>0.652327</td>\n",
       "      <td>0.704371</td>\n",
       "      <td>0.590000</td>\n",
       "      <td>0.649438</td>\n",
       "      <td>0.074266</td>\n",
       "      <td>0.079589</td>\n",
       "      <td>0.062327</td>\n",
       "      <td>0.054933</td>\n",
       "      <td>-</td>\n",
       "      <td>-</td>\n",
       "      <td>-</td>\n",
       "      <td>-</td>\n",
       "    </tr>\n",
       "    <tr>\n",
       "      <th>1</th>\n",
       "      <td>1002</td>\n",
       "      <td>0.782372</td>\n",
       "      <td>0.835476</td>\n",
       "      <td>0.704082</td>\n",
       "      <td>0.746063</td>\n",
       "      <td>0.587016</td>\n",
       "      <td>0.676923</td>\n",
       "      <td>0.538212</td>\n",
       "      <td>0.560711</td>\n",
       "      <td>0.078290</td>\n",
       "      <td>0.089413</td>\n",
       "      <td>0.048804</td>\n",
       "      <td>0.116212</td>\n",
       "      <td>-</td>\n",
       "      <td>-</td>\n",
       "      <td>-</td>\n",
       "      <td>-</td>\n",
       "    </tr>\n",
       "    <tr>\n",
       "      <th>2</th>\n",
       "      <td>1003</td>\n",
       "      <td>0.850483</td>\n",
       "      <td>0.842604</td>\n",
       "      <td>0.759312</td>\n",
       "      <td>0.768049</td>\n",
       "      <td>0.731156</td>\n",
       "      <td>0.748120</td>\n",
       "      <td>0.633615</td>\n",
       "      <td>0.641509</td>\n",
       "      <td>0.091171</td>\n",
       "      <td>0.074555</td>\n",
       "      <td>0.097540</td>\n",
       "      <td>0.106611</td>\n",
       "      <td>-</td>\n",
       "      <td>-</td>\n",
       "      <td>-</td>\n",
       "      <td>-</td>\n",
       "    </tr>\n",
       "    <tr>\n",
       "      <th>3</th>\n",
       "      <td>1004</td>\n",
       "      <td>0.805674</td>\n",
       "      <td>0.842854</td>\n",
       "      <td>0.718178</td>\n",
       "      <td>0.751351</td>\n",
       "      <td>0.693945</td>\n",
       "      <td>0.701326</td>\n",
       "      <td>0.558379</td>\n",
       "      <td>0.603873</td>\n",
       "      <td>0.087496</td>\n",
       "      <td>0.091503</td>\n",
       "      <td>0.135566</td>\n",
       "      <td>0.097453</td>\n",
       "      <td>-</td>\n",
       "      <td>-</td>\n",
       "      <td>-</td>\n",
       "      <td>-</td>\n",
       "    </tr>\n",
       "    <tr>\n",
       "      <th>4</th>\n",
       "      <td>1006</td>\n",
       "      <td>0.878187</td>\n",
       "      <td>0.892407</td>\n",
       "      <td>0.805315</td>\n",
       "      <td>0.791111</td>\n",
       "      <td>0.752126</td>\n",
       "      <td>0.762911</td>\n",
       "      <td>0.647128</td>\n",
       "      <td>0.623116</td>\n",
       "      <td>0.072872</td>\n",
       "      <td>0.101296</td>\n",
       "      <td>0.104999</td>\n",
       "      <td>0.139795</td>\n",
       "      <td>-</td>\n",
       "      <td>-</td>\n",
       "      <td>-</td>\n",
       "      <td>-</td>\n",
       "    </tr>\n",
       "  </tbody>\n",
       "</table>\n",
       "</div>"
      ],
      "text/plain": [
       "  station_id  19_week_one  19_week_two  20_week_one  20_week_two  19_hol_one  \\\n",
       "0       1001     0.807945     0.839880     0.733678     0.760291    0.652327   \n",
       "1       1002     0.782372     0.835476     0.704082     0.746063    0.587016   \n",
       "2       1003     0.850483     0.842604     0.759312     0.768049    0.731156   \n",
       "3       1004     0.805674     0.842854     0.718178     0.751351    0.693945   \n",
       "4       1006     0.878187     0.892407     0.805315     0.791111    0.752126   \n",
       "\n",
       "   19_hol_two  20_hol_one  20_hol_two  week_one_diff  week_two_diff  \\\n",
       "0    0.704371    0.590000    0.649438       0.074266       0.079589   \n",
       "1    0.676923    0.538212    0.560711       0.078290       0.089413   \n",
       "2    0.748120    0.633615    0.641509       0.091171       0.074555   \n",
       "3    0.701326    0.558379    0.603873       0.087496       0.091503   \n",
       "4    0.762911    0.647128    0.623116       0.072872       0.101296   \n",
       "\n",
       "   hol_one_diff  hol_two_diff week one diff sign week two diff sign  \\\n",
       "0      0.062327      0.054933                  -                  -   \n",
       "1      0.048804      0.116212                  -                  -   \n",
       "2      0.097540      0.106611                  -                  -   \n",
       "3      0.135566      0.097453                  -                  -   \n",
       "4      0.104999      0.139795                  -                  -   \n",
       "\n",
       "  hol one diff sign hol two diff sign  \n",
       "0                 -                 -  \n",
       "1                 -                 -  \n",
       "2                 -                 -  \n",
       "3                 -                 -  \n",
       "4                 -                 -  "
      ]
     },
     "execution_count": 98,
     "metadata": {},
     "output_type": "execute_result"
    }
   ],
   "source": [
    "df_station['week one diff sign']=df_station.apply(lambda x:make_sign(x['19_week_one'], x['20_week_one']), axis=1)\n",
    "df_station['week two diff sign']=df_station.apply(lambda x:make_sign(x['19_week_two'], x['20_week_two']), axis=1)\n",
    "df_station['hol one diff sign']=df_station.apply(lambda x:make_sign(x['19_hol_one'], x['20_hol_one']), axis=1)\n",
    "df_station['hol two diff sign']=df_station.apply(lambda x:make_sign(x['19_hol_two'], x['20_hol_two']), axis=1)\n",
    "\n",
    "df_station.head()"
   ]
  },
  {
   "cell_type": "code",
   "execution_count": 100,
   "metadata": {},
   "outputs": [
    {
     "name": "stdout",
     "output_type": "stream",
     "text": [
      "['1007', '1025', '1101', '1177', '1186', '1187', '1194', '1195', '1196', '1211', '1220', '1241', '1293', '1296', '1297', '1304', '135', '1369', '1370', '1376', '1377', '140', '1501', '1513', '1536', '1546', '1646', '1652', '1662', '1679', '1693', '1731', '1806', '1910', '198', '1993', '2036', '2041', '2104', '2106', '2141', '2180', '2225', '2233', '2245', '2270', '2275', '2279', '2289', '2292', '2297', '2299', '2302', '2318', '2319', '2329', '2330', '2348', '2352', '2357', '2364', '2371', '2385', '2392', '2407', '2505', '2510', '2607', '2610', '2619', '315', '324', '330', '337', '346', '3504', '3527', '3529', '3536', '354', '379', '391', '411', '424', '428', '449', '462', '507', '508', '575', '639', '640', '656', '748', '802', '817', '846', '925', '963', '968', '972']\n",
      "크기 :  101\n"
     ]
    }
   ],
   "source": [
    "# 정기권의 이용 비율이 증가한 대여소 (주중 상반기)\n",
    "\n",
    "station_week_one_plus=df_station[df_station['week one diff sign']=='+']['station_id'].tolist()\n",
    "print(station_week_one_plus)\n",
    "print('크기 : ',len(station_week_one_plus))"
   ]
  },
  {
   "cell_type": "code",
   "execution_count": 101,
   "metadata": {},
   "outputs": [
    {
     "name": "stdout",
     "output_type": "stream",
     "text": [
      "['1025', '1054', '1239', '1241', '1267', '1268', '1297', '1304', '1376', '1510', '1511', '1513', '1547', '1652', '1680', '1714', '1728', '1943', '196', '1969', '2064', '218', '2226', '2242', '2333', '2343', '2391', '2392', '2609', '320', '331', '346', '3510', '394', '430', '455', '543', '575', '710', '831']\n",
      "크기 :  40\n"
     ]
    }
   ],
   "source": [
    "# 정기권의 이용 비율이 증가한 대여소 (주중 하반기)\n",
    "\n",
    "station_week_two_plus=df_station[df_station['week two diff sign']=='+']['station_id'].tolist()\n",
    "print(station_week_two_plus)\n",
    "print('크기 : ',len(station_week_two_plus))"
   ]
  },
  {
   "cell_type": "code",
   "execution_count": 103,
   "metadata": {},
   "outputs": [
    {
     "name": "stdout",
     "output_type": "stream",
     "text": [
      "['1027', '1061', '1108', '1109', '1114', '1117', '1135', '1168', '1182', '1186', '1190', '1191', '1194', '120', '1203', '1204', '1211', '1220', '1221', '1224', '1241', '1251', '1260', '1269', '127', '1283', '1293', '1296', '1297', '1302', '1304', '1316', '1321', '1326', '1333', '1338', '135', '1368', '137', '1370', '1376', '1377', '141', '1412', '1435', '1457', '1501', '1510', '1529', '1546', '1630', '1650', '1652', '1670', '1693', '1707', '1731', '181', '1843', '1910', '1913', '1946', '1967', '199', '1992', '1993', '200', '2036', '2058', '2061', '2068', '2104', '2127', '2141', '2180', '2210', '2231', '2233', '2239', '2244', '2255', '2258', '2266', '2271', '2272', '2277', '2280', '2292', '2297', '2299', '2302', '2303', '2315', '2319', '2323', '2328', '2333', '2335', '2357', '2360', '2362', '2369', '2371', '2380', '2385', '2390', '2392', '2395', '2406', '2409', '2502', '2503', '2601', '2606', '2608', '2610', '2612', '2619', '285', '307', '310', '315', '322', '330', '336', '346', '3502', '3506', '3507', '3529', '3532', '354', '3541', '380', '391', '397', '452', '453', '455', '456', '523', '535', '571', '573', '575', '580', '587', '605', '613', '636', '640', '736', '741', '742', '750', '759', '806', '810', '812', '839', '845', '846', '900', '908', '922', '925', '932', '963', '972']\n",
      "크기 :  169\n"
     ]
    }
   ],
   "source": [
    "# 정기권의 이용 비율이 증가한 대여소 (주말 상반기)\n",
    "\n",
    "station_hol_one_plus=df_station[df_station['hol one diff sign']=='+']['station_id'].tolist()\n",
    "print(station_hol_one_plus)\n",
    "print('크기 : ',len(station_hol_one_plus))"
   ]
  },
  {
   "cell_type": "code",
   "execution_count": 104,
   "metadata": {},
   "outputs": [
    {
     "name": "stdout",
     "output_type": "stream",
     "text": [
      "['1018', '1027', '1029', '1056', '1102', '1151', '1183', '1210', '1220', '1229', '1231', '1233', '1242', '1268', '1304', '1316', '136', '1362', '1365', '1370', '1444', '1457', '1510', '1534', '1545', '160', '1670', '1675', '171', '1731', '179', '1859', '196', '199', '2016', '2041', '2061', '2062', '2064', '2111', '2127', '2130', '2165', '2203', '2225', '2229', '2233', '2239', '2249', '2259', '2280', '2284', '2288', '2306', '2343', '2350', '2362', '2371', '2381', '2391', '2406', '242', '244', '2502', '2605', '2609', '267', '322', '331', '337', '3527', '3529', '354', '356', '368', '375', '380', '389', '394', '398', '406', '410', '447', '449', '454', '455', '462', '522', '543', '555', '564', '608', '610', '633', '634', '710', '746', '748', '802', '803', '806', '839', '845', '948']\n",
      "크기 :  104\n"
     ]
    }
   ],
   "source": [
    "# 정기권의 이용 비율이 증가한 대여소 (주말 하반기)\n",
    "\n",
    "station_hol_two_plus=df_station[df_station['hol two diff sign']=='+']['station_id'].tolist()\n",
    "print(station_hol_two_plus)\n",
    "print('크기 : ',len(station_hol_two_plus))"
   ]
  },
  {
   "cell_type": "code",
   "execution_count": 107,
   "metadata": {},
   "outputs": [
    {
     "name": "stdout",
     "output_type": "stream",
     "text": [
      "{'1546', '1297', '330', '1241', '2319', '1304', '2619', '925', '575', '1652', '1186', '2385', '1693', '2299', '135', '2180', '1293', '3529', '972', '315', '963', '1993', '1377', '354', '1194', '2233', '2302', '2104', '391', '1376', '2141', '2357', '1910', '1370', '2610', '1220', '1296', '1731', '846', '1501', '2392', '2292', '1211', '2297', '2036', '640', '2371', '346'}\n",
      "크기 :  48\n"
     ]
    }
   ],
   "source": [
    "# 상반기 교집합\n",
    "\n",
    "print(set(station_week_one_plus).intersection(set(station_hol_one_plus)))\n",
    "print('크기 : ',len(set(station_week_one_plus).intersection(set(station_hol_one_plus))))"
   ]
  },
  {
   "cell_type": "code",
   "execution_count": 108,
   "metadata": {},
   "outputs": [
    {
     "name": "stdout",
     "output_type": "stream",
     "text": [
      "{'1268', '455', '710', '1510', '196', '2064', '2343', '1304', '2391', '2609', '394', '331', '543'}\n",
      "크기 :  13\n"
     ]
    }
   ],
   "source": [
    "# 하반기 교집합\n",
    "\n",
    "print(set(station_week_two_plus).intersection(set(station_hol_two_plus)))\n",
    "print('크기 : ',len(set(station_week_two_plus).intersection(set(station_hol_two_plus))))"
   ]
  },
  {
   "cell_type": "markdown",
   "metadata": {},
   "source": [
    "#### 10% 이상의 비율변화"
   ]
  },
  {
   "cell_type": "code",
   "execution_count": 109,
   "metadata": {},
   "outputs": [
    {
     "name": "stdout",
     "output_type": "stream",
     "text": [
      "['1016', '1037', '1039', '1052', '1053', '1054', '1056', '1057', '1058', '1122', '119', '1271', '1275', '1291', '1315', '1332', '1359', '1373', '1413', '1428', '1438', '1450', '1452', '1453', '1511', '152', '1545', '1548', '1602', '1620', '1628', '1641', '1654', '1659', '1661', '1664', '1667', '1672', '1677', '1715', '1717', '1720', '1723', '1726', '1730', '1735', '1816', '182', '1820', '1821', '1822', '1824', '1825', '1826', '1835', '1846', '1855', '1857', '1858', '1929', '1937', '1951', '1952', '1953', '1969', '1977', '1981', '1987', '199', '1996', '2024', '2038', '205', '2054', '207', '209', '2103', '2130', '2159', '2175', '2203', '2207', '221', '2214', '2229', '2262', '2265', '227', '2288', '2308', '2309', '2323', '2343', '2344', '2351', '2356', '2376', '2389', '2403', '248', '3525', '373', '418', '422', '429', '462', '502', '523', '524', '534', '536', '544', '556', '581', '606', '607', '711', '714', '803', '808', '825', '902', '922', '923', '928', '959', '966']\n",
      "크기 :  127\n"
     ]
    }
   ],
   "source": [
    "station_over10_week_one=df_station[df_station['week_one_diff'] >= 0.1]['station_id'].tolist()\n",
    "print(station_over10_week_one)\n",
    "print('크기 : ',len(station_over10_week_one))"
   ]
  },
  {
   "cell_type": "code",
   "execution_count": 111,
   "metadata": {},
   "outputs": [
    {
     "name": "stdout",
     "output_type": "stream",
     "text": [
      "['1006', '1007', '1038', '1049', '1053', '1057', '1058', '106', '1161', '117', '1170', '1181', '1188', '119', '123', '1271', '1318', '1325', '133', '1332', '1334', '1346', '1347', '1348', '1349', '1353', '1355', '1357', '1359', '1366', '1367', '1373', '1407', '1413', '1418', '1420', '1421', '1429', '1434', '1435', '1436', '1437', '1438', '1441', '1445', '1450', '1452', '1512', '152', '1528', '1534', '1537', '1541', '1548', '1640', '1641', '1659', '166', '1663', '1664', '1668', '1677', '1691', '170', '1702', '1708', '1715', '1720', '1722', '1726', '1734', '1736', '1738', '1741', '1742', '175', '178', '1805', '1814', '1819', '182', '1824', '1825', '1826', '1827', '1830', '1831', '1833', '1836', '1846', '1847', '1850', '1853', '1857', '1858', '1925', '1928', '1937', '194', '1951', '1952', '1965', '1967', '1987', '1988', '1991', '1992', '201', '2012', '2024', '2025', '2034', '2038', '2054', '2056', '2065', '207', '2102', '2103', '2107', '2128', '2130', '2135', '2140', '2159', '2169', '2172', '2177', '2214', '2215', '2220', '2241', '2258', '2265', '2269', '227', '2272', '2277', '2286', '2287', '2289', '2307', '2309', '2310', '2311', '2320', '2321', '2329', '2339', '2341', '2358', '2363', '2368', '2372', '2388', '2393', '2395', '2403', '2411', '2501', '2509', '2603', '2606', '2616', '272', '3101', '314', '3525', '3528', '3532', '407', '418', '432', '434', '439', '446', '502', '511', '523', '524', '534', '544', '556', '557', '564', '569', '579', '586', '592', '604', '606', '608', '609', '621', '643', '647', '650', '652', '663', '706', '711', '712', '759', '815', '819', '839', '902', '907', '914', '915', '922', '923', '928', '937', '938', '941', '947', '966', '967']\n",
      "크기 :  219\n"
     ]
    }
   ],
   "source": [
    "station_over10_week_two=df_station[df_station['week_two_diff'] >= 0.1]['station_id'].tolist()\n",
    "print(station_over10_week_two)\n",
    "print('크기 : ',len(station_over10_week_two))"
   ]
  },
  {
   "cell_type": "code",
   "execution_count": 112,
   "metadata": {},
   "outputs": [
    {
     "name": "stdout",
     "output_type": "stream",
     "text": [
      "['1004', '1006', '1008', '1015', '1016', '1017', '1023', '1031', '1032', '1033', '1038', '1039', '1041', '1052', '1053', '1054', '1056', '1057', '1058', '1105', '1120', '1161', '1172', '1178', '1183', '1188', '119', '1207', '121', '1226', '1228', '1250', '1263', '1266', '1271', '1280', '1285', '1291', '131', '1318', '1323', '1347', '1357', '1376', '1405', '1406', '1413', '1416', '1418', '1420', '1421', '1422', '1426', '1428', '1429', '1438', '1443', '1444', '1450', '148', '1511', '1528', '1617', '1620', '1639', '1640', '165', '1654', '1659', '1661', '1668', '1675', '1677', '1678', '1714', '1715', '1717', '1722', '1723', '1726', '1728', '1730', '1734', '1805', '1806', '1809', '1814', '1819', '1820', '1822', '1825', '1826', '1828', '1830', '1831', '1833', '1834', '1835', '1836', '1842', '1847', '185', '1851', '1852', '1855', '1857', '1858', '1859', '1907', '1916', '1924', '1929', '1930', '194', '1941', '1951', '1952', '1953', '1965', '1969', '1977', '1979', '1981', '1985', '1987', '1993', '1994', '1999', '2008', '2027', '2048', '205', '206', '2064', '2065', '209', '2103', '2141', '2144', '2148', '216', '2165', '218', '2201', '2203', '2207', '221', '2211', '2215', '222', '2225', '2226', '2229', '2247', '2248', '2249', '2257', '226', '227', '2284', '2285', '2286', '2287', '2288', '2304', '2307', '2308', '2309', '231', '2311', '2317', '2341', '2343', '2344', '235', '2351', '2352', '2354', '2356', '2368', '237', '2376', '238', '2382', '2383', '2387', '2389', '2401', '249', '2501', '2506', '252', '259', '2603', '2612', '263', '266', '271', '290', '3106', '330', '348', '3503', '3524', '3528', '3539', '371', '384', '394', '406', '449', '524', '533', '544', '548', '564', '581', '594', '606', '626', '627', '638', '641', '643', '647', '652', '654', '658', '714', '716', '723', '724', '729', '739', '740', '749', '755', '803', '808', '827', '830', '838', '902', '905', '909', '912', '915', '916', '921', '923', '924', '928', '937', '941', '952', '954', '958', '959', '960', '962', '966', '967']\n",
      "크기 :  262\n"
     ]
    }
   ],
   "source": [
    "station_over10_hol_one=df_station[df_station['hol_one_diff'] >= 0.1]['station_id'].tolist()\n",
    "print(station_over10_hol_one)\n",
    "print('크기 : ',len(station_over10_hol_one))"
   ]
  },
  {
   "cell_type": "code",
   "execution_count": 116,
   "metadata": {},
   "outputs": [
    {
     "data": {
      "text/plain": [
       "count    1519.000000\n",
       "mean        0.079000\n",
       "std         0.050338\n",
       "min         0.000071\n",
       "25%         0.043249\n",
       "50%         0.073211\n",
       "75%         0.107261\n",
       "max         0.462097\n",
       "Name: hol_two_diff, dtype: float64"
      ]
     },
     "execution_count": 116,
     "metadata": {},
     "output_type": "execute_result"
    }
   ],
   "source": [
    "df_station['hol_two_diff'].describe()"
   ]
  },
  {
   "cell_type": "code",
   "execution_count": 113,
   "metadata": {},
   "outputs": [
    {
     "name": "stdout",
     "output_type": "stream",
     "text": [
      "['1002', '1003', '1006', '1007', '1010', '1016', '1031', '1032', '1033', '1037', '1038', '1042', '1049', '1051', '1052', '1057', '1058', '1061', '1062', '108', '1105', '111', '1115', '1124', '1137', '1145', '1148', '1152', '1155', '1160', '1177', '1178', '1181', '1187', '1188', '119', '1192', '1196', '1198', '1200', '121', '1226', '123', '1239', '1249', '1253', '1258', '126', '1277', '1279', '1283', '1285', '1302', '1303', '131', '1314', '1318', '1323', '1325', '133', '1332', '1334', '1336', '1346', '1347', '1348', '1353', '1366', '1367', '1373', '1377', '1408', '1413', '1420', '1421', '1422', '1425', '1427', '1428', '1430', '1433', '1434', '1435', '1438', '1440', '1441', '1445', '1450', '1452', '150', '1503', '1512', '1514', '1519', '1520', '1525', '1528', '153', '1530', '1533', '1536', '1539', '1546', '1547', '155', '1601', '1605', '1606', '1610', '1620', '1634', '1640', '1641', '165', '1655', '1659', '166', '1663', '1664', '1667', '1668', '167', '1671', '1672', '1679', '1680', '1685', '169', '1691', '1693', '1703', '1715', '1717', '1722', '1723', '1726', '1727', '1728', '1729', '1734', '1736', '1738', '1741', '1742', '175', '177', '180', '1804', '1805', '1806', '1809', '1814', '1819', '182', '1821', '1823', '1824', '1825', '1826', '1827', '1828', '1830', '1831', '1833', '1834', '1835', '1836', '1845', '1846', '1847', '185', '1850', '1851', '1852', '1854', '1855', '1858', '1906', '1907', '191', '1911', '1916', '192', '1920', '1924', '1925', '1928', '1929', '1930', '1933', '1937', '1943', '1951', '1952', '1953', '1957', '1958', '1959', '1962', '1965', '1966', '1967', '1968', '1969', '1971', '1973', '1981', '1986', '1987', '1988', '1991', '1992', '1999', '200', '2008', '201', '2012', '2024', '2027', '203', '2033', '2040', '205', '2054', '2056', '206', '2065', '2066', '2067', '2068', '209', '2105', '2107', '211', '2110', '2113', '2116', '212', '2137', '2144', '2148', '2156', '2170', '2173', '2177', '2179', '220', '2201', '2202', '2205', '2206', '221', '2210', '2212', '2213', '2214', '2215', '2245', '2246', '2247', '2248', '225', '2251', '2252', '2255', '2256', '2263', '2264', '2265', '2268', '2269', '2274', '2281', '2282', '2283', '2286', '2287', '2293', '2294', '2307', '2309', '2310', '2311', '2313', '2324', '2326', '233', '2339', '2341', '2344', '2347', '2351', '2356', '2357', '236', '2360', '2368', '2372', '2373', '2376', '2383', '2384', '2388', '2389', '239', '2392', '2395', '2396', '2398', '2401', '2403', '2404', '2405', '241', '2411', '2501', '2508', '2509', '251', '2511', '253', '259', '2603', '2611', '270', '281', '300', '302', '306', '3101', '3105', '3106', '311', '312', '314', '326', '327', '348', '3503', '3516', '3517', '3518', '352', '3521', '3523', '3524', '3528', '353', '3537', '3539', '364', '369', '373', '381', '394', '401', '403', '411', '415', '425', '427', '428', '429', '432', '433', '436', '438', '439', '447', '450', '451', '461', '462', '515', '516', '523', '524', '526', '534', '538', '539', '564', '568', '569', '581', '585', '589', '590', '591', '593', '604', '605', '606', '616', '625', '636', '642', '643', '650', '652', '656', '658', '700', '701', '702', '706', '712', '714', '720', '724', '732', '733', '735', '739', '741', '747', '756', '757', '760', '826', '827', '828', '832', '844', '902', '903', '905', '907', '911', '912', '914', '915', '919', '925', '928', '937', '938', '941', '947', '954', '956', '959', '960', '964', '965', '966', '967']\n",
      "크기 :  447\n"
     ]
    }
   ],
   "source": [
    "station_over10_hol_two=df_station[df_station['hol_two_diff'] >= 0.1]['station_id'].tolist()\n",
    "print(station_over10_hol_two)\n",
    "print('크기 : ',len(station_over10_hol_two))"
   ]
  },
  {
   "cell_type": "code",
   "execution_count": 114,
   "metadata": {},
   "outputs": [
    {
     "name": "stdout",
     "output_type": "stream",
     "text": [
      "{'1822', '227', '902', '2351', '119', '1969', '1659', '1291', '606', '1726', '1730', '928', '1438', '1929', '1723', '1052', '1016', '1715', '205', '1413', '1661', '1428', '581', '1826', '1056', '808', '2356', '1039', '1855', '1952', '2344', '1054', '544', '1981', '2389', '1058', '1450', '2309', '1977', '2288', '1620', '1951', '2203', '1858', '923', '1953', '1053', '209', '2229', '1271', '1820', '966', '1511', '524', '1057', '1677', '1654', '221', '803', '2376', '2103', '1825', '1857', '1987', '959', '714', '2343', '1717', '2207', '1835', '2308'}\n",
      "크기 :  71\n"
     ]
    }
   ],
   "source": [
    "station_over10_one=set(station_over10_week_one).intersection(set(station_over10_hol_one))\n",
    "print(station_over10_one)\n",
    "print('크기 : ',len(station_over10_one))"
   ]
  },
  {
   "cell_type": "code",
   "execution_count": 115,
   "metadata": {},
   "outputs": [
    {
     "name": "stdout",
     "output_type": "stream",
     "text": [
      "{'1722', '902', '606', '1664', '914', '1438', '1925', '2411', '1937', '3101', '1413', '1846', '2215', '1049', '652', '2368', '432', '1824', '1058', '1831', '1992', '938', '1366', '1814', '1830', '1850', '1858', '1640', '1641', '439', '1833', '314', '123', '1827', '1991', '1663', '175', '604', '1836', '2107', '119', '712', '2509', '650', '1726', '1181', '1420', '569', '1734', '1348', '1007', '2395', '1332', '133', '2339', '1188', '1691', '3528', '2265', '2501', '941', '1346', '2388', '524', '2311', '1825', '1736', '1987', '2012', '1434', '1373', '1421', '2372', '1435', '523', '915', '2024', '1325', '928', '1819', '1805', '1528', '2065', '1826', '1952', '2603', '166', '201', '2056', '1450', '1741', '1441', '2269', '1738', '1353', '2177', '564', '2287', '2403', '1347', '1367', '1452', '706', '1659', '1334', '1742', '1847', '1715', '2214', '937', '1445', '534', '2286', '182', '2307', '2309', '967', '1951', '1668', '1988', '2341', '947', '1512', '1006', '1038', '1057', '1967', '1928', '1318', '2054', '643', '1965', '966', '2310', '907'}\n",
      "크기 :  135\n"
     ]
    }
   ],
   "source": [
    "station_over10_two=set(station_over10_week_two).intersection(set(station_over10_hol_two))\n",
    "print(station_over10_two)\n",
    "print('크기 : ',len(station_over10_two))"
   ]
  },
  {
   "cell_type": "markdown",
   "metadata": {},
   "source": [
    "### 분기별 대여소 이용권 비율 변화 확인"
   ]
  },
  {
   "cell_type": "code",
   "execution_count": 117,
   "metadata": {},
   "outputs": [],
   "source": [
    "def make_quarter(df):\n",
    "    first=[1,2,3]\n",
    "    second=[4,5,6]\n",
    "    third=[7,8,9]\n",
    "    fourth=[10,11,12]\n",
    "    \n",
    "    df_first=df[df['month'].isin(first)].reset_index(drop=True)\n",
    "    df_second=df[df['month'].isin(second)].reset_index(drop=True)\n",
    "    df_third=df[df['month'].isin(third)].reset_index(drop=True)\n",
    "    df_fourth=df[df['month'].isin(fourth)].reset_index(drop=True)\n",
    "    \n",
    "    return df_first, df_second, df_third, df_fourth"
   ]
  },
  {
   "cell_type": "code",
   "execution_count": 118,
   "metadata": {},
   "outputs": [],
   "source": [
    "df2019_week1, df2019_week2, df2019_week3, df2019_week4=make_quarter(df2019_week)\n",
    "df2020_week1, df2020_week2, df2020_week3, df2020_week4=make_quarter(df2020_week)\n",
    "\n",
    "df2019_hol1, df2019_hol2, df2019_hol3, df2019_hol4=make_quarter(df2019_hol)\n",
    "df2020_hol1, df2020_hol2, df2020_hol3, df2020_hol4=make_quarter(df2020_hol)"
   ]
  },
  {
   "cell_type": "code",
   "execution_count": 123,
   "metadata": {},
   "outputs": [],
   "source": [
    "df2019_week_station_one=ratio_by_station(df2019_week1)\n",
    "df2019_week_station_one.rename(columns={'Regular':'19_week_one'}, inplace=True)\n",
    "df2019_week_station_two=ratio_by_station(df2019_week2)\n",
    "df2019_week_station_two.rename(columns={'Regular':'19_week_two'}, inplace=True)\n",
    "df2019_week_station_three=ratio_by_station(df2019_week3)\n",
    "df2019_week_station_three.rename(columns={'Regular':'19_week_three'}, inplace=True)\n",
    "df2019_week_station_four=ratio_by_station(df2019_week4)\n",
    "df2019_week_station_four.rename(columns={'Regular':'19_week_four'}, inplace=True)\n",
    "\n",
    "df2020_week_station_one=ratio_by_station(df2020_week1)\n",
    "df2020_week_station_one.rename(columns={'Regular':'20_week_one'}, inplace=True)\n",
    "df2020_week_station_two=ratio_by_station(df2020_week2)\n",
    "df2020_week_station_two.rename(columns={'Regular':'20_week_two'}, inplace=True)\n",
    "df2020_week_station_three=ratio_by_station(df2020_week3)\n",
    "df2020_week_station_three.rename(columns={'Regular':'20_week_three'}, inplace=True)\n",
    "df2020_week_station_four=ratio_by_station(df2020_week4)\n",
    "df2020_week_station_four.rename(columns={'Regular':'20_week_four'}, inplace=True)\n",
    "\n",
    "df2019_hol_station_one=ratio_by_station(df2019_hol1)\n",
    "df2019_hol_station_one.rename(columns={'Regular':'19_hol_one'}, inplace=True)\n",
    "df2019_hol_station_two=ratio_by_station(df2019_hol2)\n",
    "df2019_hol_station_two.rename(columns={'Regular':'19_hol_two'}, inplace=True)\n",
    "df2019_hol_station_three=ratio_by_station(df2019_hol3)\n",
    "df2019_hol_station_three.rename(columns={'Regular':'19_hol_three'}, inplace=True)\n",
    "df2019_hol_station_four=ratio_by_station(df2019_hol4)\n",
    "df2019_hol_station_four.rename(columns={'Regular':'19_hol_four'}, inplace=True)\n",
    "\n",
    "df2020_hol_station_one=ratio_by_station(df2020_hol1)\n",
    "df2020_hol_station_one.rename(columns={'Regular':'20_hol_one'}, inplace=True)\n",
    "df2020_hol_station_two=ratio_by_station(df2020_hol2)\n",
    "df2020_hol_station_two.rename(columns={'Regular':'20_hol_two'}, inplace=True)\n",
    "df2020_hol_station_three=ratio_by_station(df2020_hol3)\n",
    "df2020_hol_station_three.rename(columns={'Regular':'20_hol_three'}, inplace=True)\n",
    "df2020_hol_station_four=ratio_by_station(df2020_hol4)\n",
    "df2020_hol_station_four.rename(columns={'Regular':'20_hol_four'}, inplace=True)\n",
    "\n",
    "\n",
    "df_station=pd.merge(df2019_week_station_one, df2019_week_station_two, left_on='station_id',right_on='station_id',how='outer')\n",
    "df_station=pd.merge(df_station, df2019_week_station_three, left_on='station_id',right_on='station_id',how='outer')\n",
    "df_station=pd.merge(df_station, df2019_week_station_four, left_on='station_id',right_on='station_id',how='outer')\n",
    "df_station=pd.merge(df_station, df2020_week_station_one, left_on='station_id',right_on='station_id',how='outer')\n",
    "df_station=pd.merge(df_station, df2020_week_station_two, left_on='station_id',right_on='station_id',how='outer')\n",
    "df_station=pd.merge(df_station, df2020_week_station_three, left_on='station_id',right_on='station_id',how='outer')\n",
    "df_station=pd.merge(df_station, df2020_week_station_four, left_on='station_id',right_on='station_id',how='outer')\n",
    "df_station=pd.merge(df_station, df2019_hol_station_one, left_on='station_id',right_on='station_id',how='outer')\n",
    "df_station=pd.merge(df_station, df2019_hol_station_two, left_on='station_id',right_on='station_id',how='outer')\n",
    "df_station=pd.merge(df_station, df2019_hol_station_three, left_on='station_id',right_on='station_id',how='outer')\n",
    "df_station=pd.merge(df_station, df2019_hol_station_four, left_on='station_id',right_on='station_id',how='outer')\n",
    "df_station=pd.merge(df_station, df2020_hol_station_one, left_on='station_id',right_on='station_id',how='outer')\n",
    "df_station=pd.merge(df_station, df2020_hol_station_two, left_on='station_id',right_on='station_id',how='outer')\n",
    "df_station=pd.merge(df_station, df2020_hol_station_three, left_on='station_id',right_on='station_id',how='outer')\n",
    "df_station=pd.merge(df_station, df2020_hol_station_four, left_on='station_id',right_on='station_id',how='outer')"
   ]
  },
  {
   "cell_type": "code",
   "execution_count": 124,
   "metadata": {},
   "outputs": [
    {
     "data": {
      "text/html": [
       "<div>\n",
       "<style scoped>\n",
       "    .dataframe tbody tr th:only-of-type {\n",
       "        vertical-align: middle;\n",
       "    }\n",
       "\n",
       "    .dataframe tbody tr th {\n",
       "        vertical-align: top;\n",
       "    }\n",
       "\n",
       "    .dataframe thead th {\n",
       "        text-align: right;\n",
       "    }\n",
       "</style>\n",
       "<table border=\"1\" class=\"dataframe\">\n",
       "  <thead>\n",
       "    <tr style=\"text-align: right;\">\n",
       "      <th></th>\n",
       "      <th>station_id</th>\n",
       "      <th>19_week_one</th>\n",
       "      <th>19_week_two</th>\n",
       "      <th>19_week_three</th>\n",
       "      <th>19_week_four</th>\n",
       "      <th>20_week_one</th>\n",
       "      <th>20_week_two</th>\n",
       "      <th>20_week_three</th>\n",
       "      <th>20_week_four</th>\n",
       "      <th>19_hol_one</th>\n",
       "      <th>19_hol_two</th>\n",
       "      <th>19_hol_three</th>\n",
       "      <th>19_hol_four</th>\n",
       "      <th>20_hol_one</th>\n",
       "      <th>20_hol_two</th>\n",
       "      <th>20_hol_three</th>\n",
       "      <th>20_hol_four</th>\n",
       "    </tr>\n",
       "  </thead>\n",
       "  <tbody>\n",
       "    <tr>\n",
       "      <th>0</th>\n",
       "      <td>1001</td>\n",
       "      <td>0.877034</td>\n",
       "      <td>0.789884</td>\n",
       "      <td>0.830481</td>\n",
       "      <td>0.854372</td>\n",
       "      <td>0.771191</td>\n",
       "      <td>0.699906</td>\n",
       "      <td>0.748335</td>\n",
       "      <td>0.813953</td>\n",
       "      <td>0.755511</td>\n",
       "      <td>0.627308</td>\n",
       "      <td>0.704364</td>\n",
       "      <td>0.704380</td>\n",
       "      <td>0.667752</td>\n",
       "      <td>0.529262</td>\n",
       "      <td>0.639004</td>\n",
       "      <td>0.694611</td>\n",
       "    </tr>\n",
       "    <tr>\n",
       "      <th>1</th>\n",
       "      <td>1002</td>\n",
       "      <td>0.861982</td>\n",
       "      <td>0.758749</td>\n",
       "      <td>0.828142</td>\n",
       "      <td>0.847139</td>\n",
       "      <td>0.761905</td>\n",
       "      <td>0.656315</td>\n",
       "      <td>0.726898</td>\n",
       "      <td>0.820513</td>\n",
       "      <td>0.648438</td>\n",
       "      <td>0.570738</td>\n",
       "      <td>0.679766</td>\n",
       "      <td>0.672595</td>\n",
       "      <td>0.624309</td>\n",
       "      <td>0.476077</td>\n",
       "      <td>0.553086</td>\n",
       "      <td>0.591133</td>\n",
       "    </tr>\n",
       "    <tr>\n",
       "      <th>2</th>\n",
       "      <td>1003</td>\n",
       "      <td>0.875300</td>\n",
       "      <td>0.840941</td>\n",
       "      <td>0.829137</td>\n",
       "      <td>0.861865</td>\n",
       "      <td>0.828025</td>\n",
       "      <td>0.678705</td>\n",
       "      <td>0.743697</td>\n",
       "      <td>0.834286</td>\n",
       "      <td>0.786744</td>\n",
       "      <td>0.708383</td>\n",
       "      <td>0.742794</td>\n",
       "      <td>0.755043</td>\n",
       "      <td>0.748744</td>\n",
       "      <td>0.526807</td>\n",
       "      <td>0.612766</td>\n",
       "      <td>0.722892</td>\n",
       "    </tr>\n",
       "    <tr>\n",
       "      <th>3</th>\n",
       "      <td>1004</td>\n",
       "      <td>0.832051</td>\n",
       "      <td>0.797438</td>\n",
       "      <td>0.832990</td>\n",
       "      <td>0.857214</td>\n",
       "      <td>0.747695</td>\n",
       "      <td>0.694482</td>\n",
       "      <td>0.729097</td>\n",
       "      <td>0.845070</td>\n",
       "      <td>0.723164</td>\n",
       "      <td>0.684943</td>\n",
       "      <td>0.697086</td>\n",
       "      <td>0.706680</td>\n",
       "      <td>0.572727</td>\n",
       "      <td>0.546482</td>\n",
       "      <td>0.620283</td>\n",
       "      <td>0.555556</td>\n",
       "    </tr>\n",
       "    <tr>\n",
       "      <th>4</th>\n",
       "      <td>1006</td>\n",
       "      <td>0.919383</td>\n",
       "      <td>0.862541</td>\n",
       "      <td>0.886264</td>\n",
       "      <td>0.900209</td>\n",
       "      <td>0.812689</td>\n",
       "      <td>0.796710</td>\n",
       "      <td>0.784314</td>\n",
       "      <td>0.817204</td>\n",
       "      <td>0.816054</td>\n",
       "      <td>0.715649</td>\n",
       "      <td>0.727520</td>\n",
       "      <td>0.810662</td>\n",
       "      <td>0.657407</td>\n",
       "      <td>0.636580</td>\n",
       "      <td>0.649682</td>\n",
       "      <td>0.523810</td>\n",
       "    </tr>\n",
       "  </tbody>\n",
       "</table>\n",
       "</div>"
      ],
      "text/plain": [
       "  station_id  19_week_one  19_week_two  19_week_three  19_week_four  \\\n",
       "0       1001     0.877034     0.789884       0.830481      0.854372   \n",
       "1       1002     0.861982     0.758749       0.828142      0.847139   \n",
       "2       1003     0.875300     0.840941       0.829137      0.861865   \n",
       "3       1004     0.832051     0.797438       0.832990      0.857214   \n",
       "4       1006     0.919383     0.862541       0.886264      0.900209   \n",
       "\n",
       "   20_week_one  20_week_two  20_week_three  20_week_four  19_hol_one  \\\n",
       "0     0.771191     0.699906       0.748335      0.813953    0.755511   \n",
       "1     0.761905     0.656315       0.726898      0.820513    0.648438   \n",
       "2     0.828025     0.678705       0.743697      0.834286    0.786744   \n",
       "3     0.747695     0.694482       0.729097      0.845070    0.723164   \n",
       "4     0.812689     0.796710       0.784314      0.817204    0.816054   \n",
       "\n",
       "   19_hol_two  19_hol_three  19_hol_four  20_hol_one  20_hol_two  \\\n",
       "0    0.627308      0.704364     0.704380    0.667752    0.529262   \n",
       "1    0.570738      0.679766     0.672595    0.624309    0.476077   \n",
       "2    0.708383      0.742794     0.755043    0.748744    0.526807   \n",
       "3    0.684943      0.697086     0.706680    0.572727    0.546482   \n",
       "4    0.715649      0.727520     0.810662    0.657407    0.636580   \n",
       "\n",
       "   20_hol_three  20_hol_four  \n",
       "0      0.639004     0.694611  \n",
       "1      0.553086     0.591133  \n",
       "2      0.612766     0.722892  \n",
       "3      0.620283     0.555556  \n",
       "4      0.649682     0.523810  "
      ]
     },
     "execution_count": 124,
     "metadata": {},
     "output_type": "execute_result"
    }
   ],
   "source": [
    "df_station.head()"
   ]
  },
  {
   "cell_type": "code",
   "execution_count": 136,
   "metadata": {},
   "outputs": [
    {
     "data": {
      "text/html": [
       "<div>\n",
       "<style scoped>\n",
       "    .dataframe tbody tr th:only-of-type {\n",
       "        vertical-align: middle;\n",
       "    }\n",
       "\n",
       "    .dataframe tbody tr th {\n",
       "        vertical-align: top;\n",
       "    }\n",
       "\n",
       "    .dataframe thead th {\n",
       "        text-align: right;\n",
       "    }\n",
       "</style>\n",
       "<table border=\"1\" class=\"dataframe\">\n",
       "  <thead>\n",
       "    <tr style=\"text-align: right;\">\n",
       "      <th></th>\n",
       "      <th>station_id</th>\n",
       "      <th>19_week_one</th>\n",
       "      <th>19_week_two</th>\n",
       "      <th>19_week_three</th>\n",
       "      <th>19_week_four</th>\n",
       "      <th>20_week_one</th>\n",
       "      <th>20_week_two</th>\n",
       "      <th>20_week_three</th>\n",
       "      <th>20_week_four</th>\n",
       "      <th>19_hol_one</th>\n",
       "      <th>...</th>\n",
       "      <th>hol_three_diff</th>\n",
       "      <th>hol_four_diff</th>\n",
       "      <th>week one diff sign</th>\n",
       "      <th>week two diff sign</th>\n",
       "      <th>week three diff sign</th>\n",
       "      <th>week four diff sign</th>\n",
       "      <th>hol one diff sign</th>\n",
       "      <th>hol two diff sign</th>\n",
       "      <th>hol three diff sign</th>\n",
       "      <th>hol four diff sign</th>\n",
       "    </tr>\n",
       "  </thead>\n",
       "  <tbody>\n",
       "    <tr>\n",
       "      <th>0</th>\n",
       "      <td>1001</td>\n",
       "      <td>0.877034</td>\n",
       "      <td>0.789884</td>\n",
       "      <td>0.830481</td>\n",
       "      <td>0.854372</td>\n",
       "      <td>0.771191</td>\n",
       "      <td>0.699906</td>\n",
       "      <td>0.748335</td>\n",
       "      <td>0.813953</td>\n",
       "      <td>0.755511</td>\n",
       "      <td>...</td>\n",
       "      <td>0.065360</td>\n",
       "      <td>0.009769</td>\n",
       "      <td>-</td>\n",
       "      <td>-</td>\n",
       "      <td>-</td>\n",
       "      <td>-</td>\n",
       "      <td>-</td>\n",
       "      <td>-</td>\n",
       "      <td>-</td>\n",
       "      <td>-</td>\n",
       "    </tr>\n",
       "    <tr>\n",
       "      <th>1</th>\n",
       "      <td>1002</td>\n",
       "      <td>0.861982</td>\n",
       "      <td>0.758749</td>\n",
       "      <td>0.828142</td>\n",
       "      <td>0.847139</td>\n",
       "      <td>0.761905</td>\n",
       "      <td>0.656315</td>\n",
       "      <td>0.726898</td>\n",
       "      <td>0.820513</td>\n",
       "      <td>0.648438</td>\n",
       "      <td>...</td>\n",
       "      <td>0.126680</td>\n",
       "      <td>0.081462</td>\n",
       "      <td>-</td>\n",
       "      <td>-</td>\n",
       "      <td>-</td>\n",
       "      <td>-</td>\n",
       "      <td>-</td>\n",
       "      <td>-</td>\n",
       "      <td>-</td>\n",
       "      <td>-</td>\n",
       "    </tr>\n",
       "    <tr>\n",
       "      <th>2</th>\n",
       "      <td>1003</td>\n",
       "      <td>0.875300</td>\n",
       "      <td>0.840941</td>\n",
       "      <td>0.829137</td>\n",
       "      <td>0.861865</td>\n",
       "      <td>0.828025</td>\n",
       "      <td>0.678705</td>\n",
       "      <td>0.743697</td>\n",
       "      <td>0.834286</td>\n",
       "      <td>0.786744</td>\n",
       "      <td>...</td>\n",
       "      <td>0.130028</td>\n",
       "      <td>0.032152</td>\n",
       "      <td>-</td>\n",
       "      <td>-</td>\n",
       "      <td>-</td>\n",
       "      <td>-</td>\n",
       "      <td>-</td>\n",
       "      <td>-</td>\n",
       "      <td>-</td>\n",
       "      <td>-</td>\n",
       "    </tr>\n",
       "    <tr>\n",
       "      <th>3</th>\n",
       "      <td>1004</td>\n",
       "      <td>0.832051</td>\n",
       "      <td>0.797438</td>\n",
       "      <td>0.832990</td>\n",
       "      <td>0.857214</td>\n",
       "      <td>0.747695</td>\n",
       "      <td>0.694482</td>\n",
       "      <td>0.729097</td>\n",
       "      <td>0.845070</td>\n",
       "      <td>0.723164</td>\n",
       "      <td>...</td>\n",
       "      <td>0.076803</td>\n",
       "      <td>0.151124</td>\n",
       "      <td>-</td>\n",
       "      <td>-</td>\n",
       "      <td>-</td>\n",
       "      <td>-</td>\n",
       "      <td>-</td>\n",
       "      <td>-</td>\n",
       "      <td>-</td>\n",
       "      <td>-</td>\n",
       "    </tr>\n",
       "    <tr>\n",
       "      <th>4</th>\n",
       "      <td>1006</td>\n",
       "      <td>0.919383</td>\n",
       "      <td>0.862541</td>\n",
       "      <td>0.886264</td>\n",
       "      <td>0.900209</td>\n",
       "      <td>0.812689</td>\n",
       "      <td>0.796710</td>\n",
       "      <td>0.784314</td>\n",
       "      <td>0.817204</td>\n",
       "      <td>0.816054</td>\n",
       "      <td>...</td>\n",
       "      <td>0.077839</td>\n",
       "      <td>0.286852</td>\n",
       "      <td>-</td>\n",
       "      <td>-</td>\n",
       "      <td>-</td>\n",
       "      <td>-</td>\n",
       "      <td>-</td>\n",
       "      <td>-</td>\n",
       "      <td>-</td>\n",
       "      <td>-</td>\n",
       "    </tr>\n",
       "  </tbody>\n",
       "</table>\n",
       "<p>5 rows × 33 columns</p>\n",
       "</div>"
      ],
      "text/plain": [
       "  station_id  19_week_one  19_week_two  19_week_three  19_week_four  \\\n",
       "0       1001     0.877034     0.789884       0.830481      0.854372   \n",
       "1       1002     0.861982     0.758749       0.828142      0.847139   \n",
       "2       1003     0.875300     0.840941       0.829137      0.861865   \n",
       "3       1004     0.832051     0.797438       0.832990      0.857214   \n",
       "4       1006     0.919383     0.862541       0.886264      0.900209   \n",
       "\n",
       "   20_week_one  20_week_two  20_week_three  20_week_four  19_hol_one  ...  \\\n",
       "0     0.771191     0.699906       0.748335      0.813953    0.755511  ...   \n",
       "1     0.761905     0.656315       0.726898      0.820513    0.648438  ...   \n",
       "2     0.828025     0.678705       0.743697      0.834286    0.786744  ...   \n",
       "3     0.747695     0.694482       0.729097      0.845070    0.723164  ...   \n",
       "4     0.812689     0.796710       0.784314      0.817204    0.816054  ...   \n",
       "\n",
       "   hol_three_diff  hol_four_diff  week one diff sign  week two diff sign  \\\n",
       "0        0.065360       0.009769                   -                   -   \n",
       "1        0.126680       0.081462                   -                   -   \n",
       "2        0.130028       0.032152                   -                   -   \n",
       "3        0.076803       0.151124                   -                   -   \n",
       "4        0.077839       0.286852                   -                   -   \n",
       "\n",
       "   week three diff sign  week four diff sign  hol one diff sign  \\\n",
       "0                     -                    -                  -   \n",
       "1                     -                    -                  -   \n",
       "2                     -                    -                  -   \n",
       "3                     -                    -                  -   \n",
       "4                     -                    -                  -   \n",
       "\n",
       "   hol two diff sign  hol three diff sign  hol four diff sign  \n",
       "0                  -                    -                   -  \n",
       "1                  -                    -                   -  \n",
       "2                  -                    -                   -  \n",
       "3                  -                    -                   -  \n",
       "4                  -                    -                   -  \n",
       "\n",
       "[5 rows x 33 columns]"
      ]
     },
     "execution_count": 136,
     "metadata": {},
     "output_type": "execute_result"
    }
   ],
   "source": [
    "df_station=df_station[df_station['station_id'].isin(id_info)].reset_index(drop=True)\n",
    "df_station.head()"
   ]
  },
  {
   "cell_type": "code",
   "execution_count": 137,
   "metadata": {},
   "outputs": [
    {
     "data": {
      "text/plain": [
       "(1527, 33)"
      ]
     },
     "execution_count": 137,
     "metadata": {},
     "output_type": "execute_result"
    }
   ],
   "source": [
    "df_station.shape"
   ]
  },
  {
   "cell_type": "code",
   "execution_count": 138,
   "metadata": {},
   "outputs": [
    {
     "data": {
      "text/html": [
       "<div>\n",
       "<style scoped>\n",
       "    .dataframe tbody tr th:only-of-type {\n",
       "        vertical-align: middle;\n",
       "    }\n",
       "\n",
       "    .dataframe tbody tr th {\n",
       "        vertical-align: top;\n",
       "    }\n",
       "\n",
       "    .dataframe thead th {\n",
       "        text-align: right;\n",
       "    }\n",
       "</style>\n",
       "<table border=\"1\" class=\"dataframe\">\n",
       "  <thead>\n",
       "    <tr style=\"text-align: right;\">\n",
       "      <th></th>\n",
       "      <th>station_id</th>\n",
       "      <th>19_week_one</th>\n",
       "      <th>19_week_two</th>\n",
       "      <th>19_week_three</th>\n",
       "      <th>19_week_four</th>\n",
       "      <th>20_week_one</th>\n",
       "      <th>20_week_two</th>\n",
       "      <th>20_week_three</th>\n",
       "      <th>20_week_four</th>\n",
       "      <th>19_hol_one</th>\n",
       "      <th>...</th>\n",
       "      <th>hol_three_diff</th>\n",
       "      <th>hol_four_diff</th>\n",
       "      <th>week one diff sign</th>\n",
       "      <th>week two diff sign</th>\n",
       "      <th>week three diff sign</th>\n",
       "      <th>week four diff sign</th>\n",
       "      <th>hol one diff sign</th>\n",
       "      <th>hol two diff sign</th>\n",
       "      <th>hol three diff sign</th>\n",
       "      <th>hol four diff sign</th>\n",
       "    </tr>\n",
       "  </thead>\n",
       "  <tbody>\n",
       "    <tr>\n",
       "      <th>0</th>\n",
       "      <td>1001</td>\n",
       "      <td>0.877034</td>\n",
       "      <td>0.789884</td>\n",
       "      <td>0.830481</td>\n",
       "      <td>0.854372</td>\n",
       "      <td>0.771191</td>\n",
       "      <td>0.699906</td>\n",
       "      <td>0.748335</td>\n",
       "      <td>0.813953</td>\n",
       "      <td>0.755511</td>\n",
       "      <td>...</td>\n",
       "      <td>0.065360</td>\n",
       "      <td>0.009769</td>\n",
       "      <td>-</td>\n",
       "      <td>-</td>\n",
       "      <td>-</td>\n",
       "      <td>-</td>\n",
       "      <td>-</td>\n",
       "      <td>-</td>\n",
       "      <td>-</td>\n",
       "      <td>-</td>\n",
       "    </tr>\n",
       "    <tr>\n",
       "      <th>1</th>\n",
       "      <td>1002</td>\n",
       "      <td>0.861982</td>\n",
       "      <td>0.758749</td>\n",
       "      <td>0.828142</td>\n",
       "      <td>0.847139</td>\n",
       "      <td>0.761905</td>\n",
       "      <td>0.656315</td>\n",
       "      <td>0.726898</td>\n",
       "      <td>0.820513</td>\n",
       "      <td>0.648438</td>\n",
       "      <td>...</td>\n",
       "      <td>0.126680</td>\n",
       "      <td>0.081462</td>\n",
       "      <td>-</td>\n",
       "      <td>-</td>\n",
       "      <td>-</td>\n",
       "      <td>-</td>\n",
       "      <td>-</td>\n",
       "      <td>-</td>\n",
       "      <td>-</td>\n",
       "      <td>-</td>\n",
       "    </tr>\n",
       "    <tr>\n",
       "      <th>2</th>\n",
       "      <td>1003</td>\n",
       "      <td>0.875300</td>\n",
       "      <td>0.840941</td>\n",
       "      <td>0.829137</td>\n",
       "      <td>0.861865</td>\n",
       "      <td>0.828025</td>\n",
       "      <td>0.678705</td>\n",
       "      <td>0.743697</td>\n",
       "      <td>0.834286</td>\n",
       "      <td>0.786744</td>\n",
       "      <td>...</td>\n",
       "      <td>0.130028</td>\n",
       "      <td>0.032152</td>\n",
       "      <td>-</td>\n",
       "      <td>-</td>\n",
       "      <td>-</td>\n",
       "      <td>-</td>\n",
       "      <td>-</td>\n",
       "      <td>-</td>\n",
       "      <td>-</td>\n",
       "      <td>-</td>\n",
       "    </tr>\n",
       "    <tr>\n",
       "      <th>3</th>\n",
       "      <td>1004</td>\n",
       "      <td>0.832051</td>\n",
       "      <td>0.797438</td>\n",
       "      <td>0.832990</td>\n",
       "      <td>0.857214</td>\n",
       "      <td>0.747695</td>\n",
       "      <td>0.694482</td>\n",
       "      <td>0.729097</td>\n",
       "      <td>0.845070</td>\n",
       "      <td>0.723164</td>\n",
       "      <td>...</td>\n",
       "      <td>0.076803</td>\n",
       "      <td>0.151124</td>\n",
       "      <td>-</td>\n",
       "      <td>-</td>\n",
       "      <td>-</td>\n",
       "      <td>-</td>\n",
       "      <td>-</td>\n",
       "      <td>-</td>\n",
       "      <td>-</td>\n",
       "      <td>-</td>\n",
       "    </tr>\n",
       "    <tr>\n",
       "      <th>4</th>\n",
       "      <td>1006</td>\n",
       "      <td>0.919383</td>\n",
       "      <td>0.862541</td>\n",
       "      <td>0.886264</td>\n",
       "      <td>0.900209</td>\n",
       "      <td>0.812689</td>\n",
       "      <td>0.796710</td>\n",
       "      <td>0.784314</td>\n",
       "      <td>0.817204</td>\n",
       "      <td>0.816054</td>\n",
       "      <td>...</td>\n",
       "      <td>0.077839</td>\n",
       "      <td>0.286852</td>\n",
       "      <td>-</td>\n",
       "      <td>-</td>\n",
       "      <td>-</td>\n",
       "      <td>-</td>\n",
       "      <td>-</td>\n",
       "      <td>-</td>\n",
       "      <td>-</td>\n",
       "      <td>-</td>\n",
       "    </tr>\n",
       "  </tbody>\n",
       "</table>\n",
       "<p>5 rows × 33 columns</p>\n",
       "</div>"
      ],
      "text/plain": [
       "  station_id  19_week_one  19_week_two  19_week_three  19_week_four  \\\n",
       "0       1001     0.877034     0.789884       0.830481      0.854372   \n",
       "1       1002     0.861982     0.758749       0.828142      0.847139   \n",
       "2       1003     0.875300     0.840941       0.829137      0.861865   \n",
       "3       1004     0.832051     0.797438       0.832990      0.857214   \n",
       "4       1006     0.919383     0.862541       0.886264      0.900209   \n",
       "\n",
       "   20_week_one  20_week_two  20_week_three  20_week_four  19_hol_one  ...  \\\n",
       "0     0.771191     0.699906       0.748335      0.813953    0.755511  ...   \n",
       "1     0.761905     0.656315       0.726898      0.820513    0.648438  ...   \n",
       "2     0.828025     0.678705       0.743697      0.834286    0.786744  ...   \n",
       "3     0.747695     0.694482       0.729097      0.845070    0.723164  ...   \n",
       "4     0.812689     0.796710       0.784314      0.817204    0.816054  ...   \n",
       "\n",
       "   hol_three_diff  hol_four_diff  week one diff sign  week two diff sign  \\\n",
       "0        0.065360       0.009769                   -                   -   \n",
       "1        0.126680       0.081462                   -                   -   \n",
       "2        0.130028       0.032152                   -                   -   \n",
       "3        0.076803       0.151124                   -                   -   \n",
       "4        0.077839       0.286852                   -                   -   \n",
       "\n",
       "   week three diff sign  week four diff sign  hol one diff sign  \\\n",
       "0                     -                    -                  -   \n",
       "1                     -                    -                  -   \n",
       "2                     -                    -                  -   \n",
       "3                     -                    -                  -   \n",
       "4                     -                    -                  -   \n",
       "\n",
       "   hol two diff sign  hol three diff sign  hol four diff sign  \n",
       "0                  -                    -                   -  \n",
       "1                  -                    -                   -  \n",
       "2                  -                    -                   -  \n",
       "3                  -                    -                   -  \n",
       "4                  -                    -                   -  \n",
       "\n",
       "[5 rows x 33 columns]"
      ]
     },
     "execution_count": 138,
     "metadata": {},
     "output_type": "execute_result"
    }
   ],
   "source": [
    "df_station['week_one_diff']=abs(df_station['20_week_one']-df_station['19_week_one'])\n",
    "df_station['week_two_diff']=abs(df_station['20_week_two']-df_station['19_week_two'])\n",
    "df_station['week_three_diff']=abs(df_station['20_week_three']-df_station['19_week_three'])\n",
    "df_station['week_four_diff']=abs(df_station['20_week_four']-df_station['19_week_four'])\n",
    "df_station['hol_one_diff']=abs(df_station['20_hol_one']-df_station['19_hol_one'])\n",
    "df_station['hol_two_diff']=abs(df_station['20_hol_two']-df_station['19_hol_two'])\n",
    "df_station['hol_three_diff']=abs(df_station['20_hol_three']-df_station['19_hol_three'])\n",
    "df_station['hol_four_diff']=abs(df_station['20_hol_four']-df_station['19_hol_four'])\n",
    "\n",
    "df_station.head()"
   ]
  },
  {
   "cell_type": "code",
   "execution_count": 139,
   "metadata": {},
   "outputs": [
    {
     "data": {
      "text/html": [
       "<div>\n",
       "<style scoped>\n",
       "    .dataframe tbody tr th:only-of-type {\n",
       "        vertical-align: middle;\n",
       "    }\n",
       "\n",
       "    .dataframe tbody tr th {\n",
       "        vertical-align: top;\n",
       "    }\n",
       "\n",
       "    .dataframe thead th {\n",
       "        text-align: right;\n",
       "    }\n",
       "</style>\n",
       "<table border=\"1\" class=\"dataframe\">\n",
       "  <thead>\n",
       "    <tr style=\"text-align: right;\">\n",
       "      <th></th>\n",
       "      <th>station_id</th>\n",
       "      <th>19_week_one</th>\n",
       "      <th>19_week_two</th>\n",
       "      <th>19_week_three</th>\n",
       "      <th>19_week_four</th>\n",
       "      <th>20_week_one</th>\n",
       "      <th>20_week_two</th>\n",
       "      <th>20_week_three</th>\n",
       "      <th>20_week_four</th>\n",
       "      <th>19_hol_one</th>\n",
       "      <th>...</th>\n",
       "      <th>hol_three_diff</th>\n",
       "      <th>hol_four_diff</th>\n",
       "      <th>week one diff sign</th>\n",
       "      <th>week two diff sign</th>\n",
       "      <th>week three diff sign</th>\n",
       "      <th>week four diff sign</th>\n",
       "      <th>hol one diff sign</th>\n",
       "      <th>hol two diff sign</th>\n",
       "      <th>hol three diff sign</th>\n",
       "      <th>hol four diff sign</th>\n",
       "    </tr>\n",
       "  </thead>\n",
       "  <tbody>\n",
       "    <tr>\n",
       "      <th>0</th>\n",
       "      <td>1001</td>\n",
       "      <td>0.877034</td>\n",
       "      <td>0.789884</td>\n",
       "      <td>0.830481</td>\n",
       "      <td>0.854372</td>\n",
       "      <td>0.771191</td>\n",
       "      <td>0.699906</td>\n",
       "      <td>0.748335</td>\n",
       "      <td>0.813953</td>\n",
       "      <td>0.755511</td>\n",
       "      <td>...</td>\n",
       "      <td>0.065360</td>\n",
       "      <td>0.009769</td>\n",
       "      <td>-</td>\n",
       "      <td>-</td>\n",
       "      <td>-</td>\n",
       "      <td>-</td>\n",
       "      <td>-</td>\n",
       "      <td>-</td>\n",
       "      <td>-</td>\n",
       "      <td>-</td>\n",
       "    </tr>\n",
       "    <tr>\n",
       "      <th>1</th>\n",
       "      <td>1002</td>\n",
       "      <td>0.861982</td>\n",
       "      <td>0.758749</td>\n",
       "      <td>0.828142</td>\n",
       "      <td>0.847139</td>\n",
       "      <td>0.761905</td>\n",
       "      <td>0.656315</td>\n",
       "      <td>0.726898</td>\n",
       "      <td>0.820513</td>\n",
       "      <td>0.648438</td>\n",
       "      <td>...</td>\n",
       "      <td>0.126680</td>\n",
       "      <td>0.081462</td>\n",
       "      <td>-</td>\n",
       "      <td>-</td>\n",
       "      <td>-</td>\n",
       "      <td>-</td>\n",
       "      <td>-</td>\n",
       "      <td>-</td>\n",
       "      <td>-</td>\n",
       "      <td>-</td>\n",
       "    </tr>\n",
       "    <tr>\n",
       "      <th>2</th>\n",
       "      <td>1003</td>\n",
       "      <td>0.875300</td>\n",
       "      <td>0.840941</td>\n",
       "      <td>0.829137</td>\n",
       "      <td>0.861865</td>\n",
       "      <td>0.828025</td>\n",
       "      <td>0.678705</td>\n",
       "      <td>0.743697</td>\n",
       "      <td>0.834286</td>\n",
       "      <td>0.786744</td>\n",
       "      <td>...</td>\n",
       "      <td>0.130028</td>\n",
       "      <td>0.032152</td>\n",
       "      <td>-</td>\n",
       "      <td>-</td>\n",
       "      <td>-</td>\n",
       "      <td>-</td>\n",
       "      <td>-</td>\n",
       "      <td>-</td>\n",
       "      <td>-</td>\n",
       "      <td>-</td>\n",
       "    </tr>\n",
       "    <tr>\n",
       "      <th>3</th>\n",
       "      <td>1004</td>\n",
       "      <td>0.832051</td>\n",
       "      <td>0.797438</td>\n",
       "      <td>0.832990</td>\n",
       "      <td>0.857214</td>\n",
       "      <td>0.747695</td>\n",
       "      <td>0.694482</td>\n",
       "      <td>0.729097</td>\n",
       "      <td>0.845070</td>\n",
       "      <td>0.723164</td>\n",
       "      <td>...</td>\n",
       "      <td>0.076803</td>\n",
       "      <td>0.151124</td>\n",
       "      <td>-</td>\n",
       "      <td>-</td>\n",
       "      <td>-</td>\n",
       "      <td>-</td>\n",
       "      <td>-</td>\n",
       "      <td>-</td>\n",
       "      <td>-</td>\n",
       "      <td>-</td>\n",
       "    </tr>\n",
       "    <tr>\n",
       "      <th>4</th>\n",
       "      <td>1006</td>\n",
       "      <td>0.919383</td>\n",
       "      <td>0.862541</td>\n",
       "      <td>0.886264</td>\n",
       "      <td>0.900209</td>\n",
       "      <td>0.812689</td>\n",
       "      <td>0.796710</td>\n",
       "      <td>0.784314</td>\n",
       "      <td>0.817204</td>\n",
       "      <td>0.816054</td>\n",
       "      <td>...</td>\n",
       "      <td>0.077839</td>\n",
       "      <td>0.286852</td>\n",
       "      <td>-</td>\n",
       "      <td>-</td>\n",
       "      <td>-</td>\n",
       "      <td>-</td>\n",
       "      <td>-</td>\n",
       "      <td>-</td>\n",
       "      <td>-</td>\n",
       "      <td>-</td>\n",
       "    </tr>\n",
       "  </tbody>\n",
       "</table>\n",
       "<p>5 rows × 33 columns</p>\n",
       "</div>"
      ],
      "text/plain": [
       "  station_id  19_week_one  19_week_two  19_week_three  19_week_four  \\\n",
       "0       1001     0.877034     0.789884       0.830481      0.854372   \n",
       "1       1002     0.861982     0.758749       0.828142      0.847139   \n",
       "2       1003     0.875300     0.840941       0.829137      0.861865   \n",
       "3       1004     0.832051     0.797438       0.832990      0.857214   \n",
       "4       1006     0.919383     0.862541       0.886264      0.900209   \n",
       "\n",
       "   20_week_one  20_week_two  20_week_three  20_week_four  19_hol_one  ...  \\\n",
       "0     0.771191     0.699906       0.748335      0.813953    0.755511  ...   \n",
       "1     0.761905     0.656315       0.726898      0.820513    0.648438  ...   \n",
       "2     0.828025     0.678705       0.743697      0.834286    0.786744  ...   \n",
       "3     0.747695     0.694482       0.729097      0.845070    0.723164  ...   \n",
       "4     0.812689     0.796710       0.784314      0.817204    0.816054  ...   \n",
       "\n",
       "   hol_three_diff  hol_four_diff  week one diff sign  week two diff sign  \\\n",
       "0        0.065360       0.009769                   -                   -   \n",
       "1        0.126680       0.081462                   -                   -   \n",
       "2        0.130028       0.032152                   -                   -   \n",
       "3        0.076803       0.151124                   -                   -   \n",
       "4        0.077839       0.286852                   -                   -   \n",
       "\n",
       "   week three diff sign  week four diff sign  hol one diff sign  \\\n",
       "0                     -                    -                  -   \n",
       "1                     -                    -                  -   \n",
       "2                     -                    -                  -   \n",
       "3                     -                    -                  -   \n",
       "4                     -                    -                  -   \n",
       "\n",
       "   hol two diff sign  hol three diff sign  hol four diff sign  \n",
       "0                  -                    -                   -  \n",
       "1                  -                    -                   -  \n",
       "2                  -                    -                   -  \n",
       "3                  -                    -                   -  \n",
       "4                  -                    -                   -  \n",
       "\n",
       "[5 rows x 33 columns]"
      ]
     },
     "execution_count": 139,
     "metadata": {},
     "output_type": "execute_result"
    }
   ],
   "source": [
    "df_station['week one diff sign']=df_station.apply(lambda x:make_sign(x['19_week_one'], x['20_week_one']), axis=1)\n",
    "df_station['week two diff sign']=df_station.apply(lambda x:make_sign(x['19_week_two'], x['20_week_two']), axis=1)\n",
    "df_station['week three diff sign']=df_station.apply(lambda x:make_sign(x['19_week_three'], x['20_week_three']), axis=1)\n",
    "df_station['week four diff sign']=df_station.apply(lambda x:make_sign(x['19_week_four'], x['20_week_four']), axis=1)\n",
    "df_station['hol one diff sign']=df_station.apply(lambda x:make_sign(x['19_hol_one'], x['20_hol_one']), axis=1)\n",
    "df_station['hol two diff sign']=df_station.apply(lambda x:make_sign(x['19_hol_two'], x['20_hol_two']), axis=1)\n",
    "df_station['hol three diff sign']=df_station.apply(lambda x:make_sign(x['19_hol_three'], x['20_hol_three']), axis=1)\n",
    "df_station['hol four diff sign']=df_station.apply(lambda x:make_sign(x['19_hol_four'], x['20_hol_four']), axis=1)\n",
    "\n",
    "df_station.head()"
   ]
  },
  {
   "cell_type": "code",
   "execution_count": 140,
   "metadata": {},
   "outputs": [
    {
     "name": "stdout",
     "output_type": "stream",
     "text": [
      "['1007', '1025', '1032', '1060', '1168', '117', '1170', '1177', '1180', '1181', '1182', '1184', '1186', '1187', '1191', '1192', '1195', '1196', '1198', '1200', '1251', '1263', '1304', '1325', '1349', '135', '1366', '1369', '1370', '1402', '1406', '1411', '1424', '1441', '1501', '1527', '1536', '1543', '1662', '1678', '1736', '1806', '1836', '1849', '1853', '1910', '1916', '1920', '1930', '1946', '1971', '1993', '200', '2036', '2041', '2061', '2062', '2137', '2141', '2164', '2225', '2235', '2272', '2275', '2289', '2292', '2293', '2319', '2352', '2357', '2381', '2385', '2390', '2392', '2503', '2511', '289', '312', '324', '337', '344', '3501', '3539', '354', '359', '379', '401', '420', '428', '434', '435', '449', '450', '526', '562', '575', '591', '604', '626', '639', '750', '754', '817', '846', '924', '932', '942', '949', '961', '963', '968']\n",
      "크기 :  111\n"
     ]
    }
   ],
   "source": [
    "# 정기권의 이용 비율이 증가한 대여소 (주중 1분기)\n",
    "\n",
    "station_week_one_plus=df_station[df_station['week one diff sign']=='+']['station_id'].tolist()\n",
    "print(station_week_one_plus)\n",
    "print('크기 : ',len(station_week_one_plus))"
   ]
  },
  {
   "cell_type": "code",
   "execution_count": 141,
   "metadata": {},
   "outputs": [
    {
     "name": "stdout",
     "output_type": "stream",
     "text": [
      "['1018', '1025', '1183', '1186', '1296', '1297', '1304', '135', '1370', '1546', '1646', '1652', '1679', '1731', '180', '181', '198', '2041', '2104', '2141', '2225', '2245', '2270', '2275', '2289', '2299', '2329', '2364', '2371', '2385', '2392', '2395', '2407', '2510', '2601', '2607', '2619', '337', '3529', '391', '424', '428', '455', '575', '656', '748', '802', '831', '969', '1376', '1377', '462', '972']\n",
      "크기 :  53\n"
     ]
    }
   ],
   "source": [
    "# 정기권의 이용 비율이 증가한 대여소 (주중 2분기)\n",
    "\n",
    "station_week_two_plus=df_station[df_station['week two diff sign']=='+']['station_id'].tolist()\n",
    "print(station_week_two_plus)\n",
    "print('크기 : ',len(station_week_two_plus))"
   ]
  },
  {
   "cell_type": "code",
   "execution_count": 142,
   "metadata": {},
   "outputs": [
    {
     "name": "stdout",
     "output_type": "stream",
     "text": [
      "['1018', '1025', '1027', '1035', '1101', '1183', '1215', '1218', '1239', '1241', '1267', '1268', '1296', '1297', '1304', '1352', '1370', '1510', '1511', '1513', '1547', '1652', '1680', '1728', '1730', '1936', '1969', '1971', '2008', '2061', '2064', '2143', '218', '2207', '2226', '2275', '2283', '2298', '2333', '2343', '2391', '2392', '2609', '2618', '320', '3507', '3521', '430', '455', '575', '616', '802', '810', '968', '1376']\n",
      "크기 :  55\n"
     ]
    }
   ],
   "source": [
    "# 정기권의 이용 비율이 증가한 대여소 (주중 3분기)\n",
    "\n",
    "station_week_three_plus=df_station[df_station['week three diff sign']=='+']['station_id'].tolist()\n",
    "print(station_week_three_plus)\n",
    "print('크기 : ',len(station_week_three_plus))"
   ]
  },
  {
   "cell_type": "code",
   "execution_count": 148,
   "metadata": {},
   "outputs": [
    {
     "name": "stdout",
     "output_type": "stream",
     "text": [
      "['101', '1010', '1012', '1014', '1024', '1025', '1026', '1029', '1030', '1034', '1039', '104', '1041', '1048', '105', '1054', '1056', '1109', '1110', '1126', '1127', '1128', '1130', '1137', '1139', '1146', '1149', '1151', '1152', '1157', '1159', '1180', '1193', '1199', '121', '122', '1228', '1230', '1235', '1239', '1240', '1241', '1242', '1256', '1258', '1263', '1266', '1267', '1268', '1279', '1282', '1283', '1290', '1303', '1316', '134', '1352', '1359', '1360', '138', '140', '1416', '142', '1422', '1429', '143', '1430', '1443', '1459', '147', '1509', '1510', '1511', '1513', '1518', '1532', '1619', '163', '1650', '1671', '1678', '1714', '173', '180', '1806', '1820', '1855', '1916', '1933', '1936', '1943', '196', '1965', '1969', '1973', '199', '1999', '203', '2058', '2064', '2067', '210', '2104', '2110', '2119', '2122', '2129', '2139', '2141', '2145', '2148', '2167', '2184', '2201', '2214', '2222', '2226', '223', '2230', '2231', '2235', '2239', '2242', '2244', '2250', '2257', '2280', '2282', '2284', '2297', '2303', '2323', '2343', '2349', '2350', '2355', '2360', '2361', '2364', '2375', '2389', '2390', '2391', '2392', '2403', '2412', '242', '244', '250', '2502', '2506', '253', '257', '2609', '2613', '2614', '2622', '267', '270', '280', '281', '289', '320', '321', '322', '331', '332', '335', '336', '337', '338', '344', '346', '347', '349', '3502', '3503', '3510', '3515', '3516', '3527', '3530', '3531', '367', '374', '375', '380', '381', '387', '388', '389', '393', '394', '402', '411', '422', '428', '429', '430', '433', '447', '449', '450', '452', '455', '456', '508', '515', '519', '521', '535', '536', '537', '543', '546', '549', '552', '555', '561', '567', '572', '575', '576', '582', '591', '600', '601', '605', '628', '634', '635', '636', '637', '661', '710', '724', '731', '733', '762', '803', '806', '809', '812', '818', '820', '827', '828', '830', '831', '836', '846', '903', '904', '924', '933', '937', '945', '952', '954', '960', '972']\n",
      "크기 :  261\n"
     ]
    }
   ],
   "source": [
    "# 정기권의 이용 비율이 증가한 대여소 (주중 4분기)\n",
    "\n",
    "station_week_four_plus=df_station[df_station['week four diff sign']=='+']['station_id'].tolist()\n",
    "print(station_week_four_plus)\n",
    "print('크기 : ',len(station_week_four_plus))"
   ]
  },
  {
   "cell_type": "code",
   "execution_count": 149,
   "metadata": {},
   "outputs": [
    {
     "name": "stdout",
     "output_type": "stream",
     "text": [
      "['1007', '1042', '1060', '1061', '1105', '1108', '1110', '1112', '1113', '1114', '1117', '1135', '1146', '1151', '1157', '1165', '1166', '1168', '1170', '1173', '1180', '1182', '1184', '1188', '1190', '1191', '1192', '1193', '1196', '1198', '1200', '1221', '1224', '127', '1277', '1279', '1282', '1302', '1304', '1305', '1321', '1326', '1333', '1340', '1348', '1360', '1366', '1368', '137', '1402', '1435', '1441', '1445', '1447', '1456', '1459', '147', '1501', '1510', '1515', '1525', '1526', '1527', '153', '1534', '1536', '1542', '1543', '1546', '1548', '1603', '163', '1650', '1660', '1662', '1667', '1670', '1690', '1719', '1725', '1741', '181', '1826', '1830', '1836', '1839', '1845', '1847', '1848', '1854', '1855', '1859', '188', '1910', '1912', '1946', '1956', '1966', '1968', '1971', '1975', '1983', '1992', '1993', '2012', '2025', '2026', '2037', '2058', '2061', '2068', '2109', '2115', '2127', '2129', '2130', '2141', '2145', '2156', '2172', '2180', '2231', '2239', '2244', '2246', '2251', '2266', '2268', '2271', '2272', '2273', '2280', '2282', '2289', '2293', '2294', '2303', '2315', '2319', '2323', '2328', '2333', '2336', '2350', '2358', '2360', '2369', '2370', '2371', '2390', '2391', '2392', '2395', '2403', '2406', '243', '2502', '2503', '2606', '2607', '2610', '2618', '268', '279', '285', '286', '288', '289', '305', '307', '3100', '3103', '315', '322', '324', '328', '330', '331', '334', '336', '344', '345', '351', '3515', '3521', '3529', '3539', '354', '359', '367', '374', '380', '387', '391', '400', '408', '414', '435', '438', '451', '453', '455', '456', '458', '514', '523', '556', '569', '571', '572', '575', '578', '580', '600', '604', '605', '621', '628', '640', '660', '736', '741', '742', '759', '809', '810', '836', '839', '845', '846', '908', '922', '925', '932', '933', '942', '943', '963', '966', '971', '1693']\n",
      "크기 :  241\n"
     ]
    }
   ],
   "source": [
    "# 정기권의 이용 비율이 증가한 대여소 (주말 1분기)\n",
    "\n",
    "station_hol_one_plus=df_station[df_station['hol one diff sign']=='+']['station_id'].tolist()\n",
    "print(station_hol_one_plus)\n",
    "print('크기 : ',len(station_hol_one_plus))"
   ]
  },
  {
   "cell_type": "code",
   "execution_count": 150,
   "metadata": {},
   "outputs": [
    {
     "name": "stdout",
     "output_type": "stream",
     "text": [
      "['1108', '1135', '1186', '1203', '1204', '1211', '1220', '1227', '1229', '1231', '1242', '1256', '1260', '1283', '1296', '1297', '1304', '1316', '1338', '1342', '136', '137', '1370', '1372', '1412', '1435', '1510', '1652', '1692', '1707', '1808', '181', '196', '1967', '1976', '199', '1993', '2036', '2058', '2063', '2068', '2104', '2127', '2141', '2210', '2221', '2233', '2244', '2250', '2258', '2266', '2277', '2297', '2302', '2328', '2333', '2335', '2349', '2355', '2369', '2406', '2409', '2502', '260', '2601', '2606', '2610', '2612', '2615', '2619', '307', '310', '337', '3501', '3506', '3507', '3529', '391', '402', '417', '424', '452', '455', '535', '575', '636', '741', '742', '750', '759', '802', '812', '846', '900', '963', '1376', '972']\n",
      "크기 :  97\n"
     ]
    }
   ],
   "source": [
    "# 정기권의 이용 비율이 증가한 대여소 (주말 2분기)\n",
    "\n",
    "station_hol_two_plus=df_station[df_station['hol two diff sign']=='+']['station_id'].tolist()\n",
    "print(station_hol_two_plus)\n",
    "print('크기 : ',len(station_hol_two_plus))"
   ]
  },
  {
   "cell_type": "code",
   "execution_count": 151,
   "metadata": {},
   "outputs": [
    {
     "name": "stdout",
     "output_type": "stream",
     "text": [
      "['1013', '1027', '1036', '1053', '1108', '1119', '1151', '1183', '1194', '1205', '1206', '1215', '1220', '1229', '1231', '1233', '1235', '1242', '1259', '1262', '1263', '1268', '1293', '1304', '1306', '1316', '1357', '136', '1362', '1364', '1365', '1370', '1375', '1444', '1510', '1534', '159', '160', '1628', '1630', '1652', '1670', '171', '179', '1809', '196', '1979', '1983', '1993', '2016', '2041', '2057', '2062', '2064', '2111', '2127', '2129', '2130', '2143', '2203', '2211', '2225', '2233', '2239', '2242', '2259', '2266', '2272', '2280', '2284', '2288', '2290', '2297', '2304', '2306', '2330', '2343', '235', '2361', '2362', '2381', '2385', '2391', '2406', '2409', '242', '2502', '2510', '2607', '2609', '2612', '2618', '285', '305', '322', '332', '337', '339', '3527', '3529', '354', '3542', '368', '375', '378', '389', '393', '394', '397', '398', '410', '412', '449', '454', '455', '456', '501', '514', '522', '533', '540', '543', '555', '560', '564', '574', '575', '608', '610', '638', '640', '647', '748', '802', '803', '806', '812', '839', '843', '845', '916', '948', '963']\n",
      "크기 :  143\n"
     ]
    }
   ],
   "source": [
    "# 정기권의 이용 비율이 증가한 대여소 (주말 3분기)\n",
    "\n",
    "station_hol_three_plus=df_station[df_station['hol three diff sign']=='+']['station_id'].tolist()\n",
    "print(station_hol_three_plus)\n",
    "print('크기 : ',len(station_hol_three_plus))"
   ]
  },
  {
   "cell_type": "code",
   "execution_count": 152,
   "metadata": {},
   "outputs": [
    {
     "name": "stdout",
     "output_type": "stream",
     "text": [
      "['101', '1012', '1015', '1018', '1024', '1025', '1029', '1034', '105', '1054', '1056', '1057', '1101', '1102', '1113', '115', '1151', '1165', '1166', '1183', '1190', '1193', '1203', '1210', '1214', '122', '1221', '1228', '1231', '1233', '1241', '1250', '1257', '1260', '1266', '1267', '1268', '127', '1275', '1289', '129', '1300', '1304', '1316', '1322', '134', '1342', '1344', '1353', '139', '140', '1407', '141', '1414', '1418', '1424', '1443', '1444', '1448', '1454', '1457', '1510', '1513', '1531', '1540', '1545', '155', '158', '160', '164', '1660', '1661', '1675', '1677', '169', '170', '1705', '171', '173', '1731', '1732', '179', '1816', '1820', '1828', '1836', '1840', '1842', '1849', '1856', '1859', '1907', '1910', '195', '198', '199', '2041', '2050', '2061', '2069', '2071', '210', '2111', '2127', '2135', '2139', '214', '2144', '2148', '2164', '2165', '2174', '2178', '218', '2225', '2226', '2241', '2243', '2257', '2259', '2262', '2284', '2292', '2299', '2305', '231', '2314', '2323', '2334', '2336', '2343', '2347', '2350', '2364', '2371', '2391', '2406', '2407', '2410', '242', '243', '244', '2502', '2509', '2605', '2617', '265', '266', '267', '270', '282', '307', '310', '3106', '3107', '318', '320', '322', '324', '331', '338', '343', '345', '346', '349', '3504', '351', '3513', '352', '3523', '3524', '3525', '3529', '3531', '3538', '356', '363', '370', '380', '385', '387', '391', '394', '398', '406', '410', '413', '416', '422', '424', '428', '429', '430', '435', '447', '449', '453', '454', '455', '508', '522', '523', '543', '551', '563', '564', '578', '588', '594', '607', '608', '610', '621', '622', '633', '634', '647', '660', '709', '710', '711', '736', '746', '748', '750', '802', '806', '807', '818', '820', '823', '835', '845', '846', '900', '946', '948', '952', '961', '969', '2393', '462']\n",
      "크기 :  242\n"
     ]
    }
   ],
   "source": [
    "# 정기권의 이용 비율이 증가한 대여소 (주말 4분기)\n",
    "\n",
    "station_hol_four_plus=df_station[df_station['hol four diff sign']=='+']['station_id'].tolist()\n",
    "print(station_hol_four_plus)\n",
    "print('크기 : ',len(station_hol_four_plus))"
   ]
  },
  {
   "cell_type": "code",
   "execution_count": 154,
   "metadata": {},
   "outputs": [
    {
     "name": "stdout",
     "output_type": "stream",
     "text": [
      "{'1192', '604', '1836', '2390', '324', '1662', '1304', '2319', '1168', '2503', '1402', '575', '1198', '1946', '1191', '1971', '942', '963', '2293', '1993', '1527', '354', '1007', '1180', '2061', '932', '3539', '2289', '2141', '1060', '1441', '1366', '2272', '1170', '846', '1184', '1196', '289', '1182', '359', '435', '1501', '2392', '1200', '1543', '1536', '344', '1910'}\n",
      "크기 : 48\n"
     ]
    }
   ],
   "source": [
    "station_one_plus=set(station_week_one_plus).intersection(set(station_hol_one_plus))\n",
    "print(station_one_plus)\n",
    "print('크기 :',len(station_one_plus))"
   ]
  },
  {
   "cell_type": "code",
   "execution_count": 156,
   "metadata": {},
   "outputs": [
    {
     "name": "stdout",
     "output_type": "stream",
     "text": [
      "{'1297', '1304', '2619', '575', '1652', '1186', '3529', '972', '455', '337', '2104', '391', '2141', '424', '802', '1376', '1370', '1296', '2601', '181'}\n",
      "크기 : 20\n"
     ]
    }
   ],
   "source": [
    "station_two_plus=set(station_week_two_plus).intersection(set(station_hol_two_plus))\n",
    "print(station_two_plus)\n",
    "print('크기 :',len(station_two_plus))"
   ]
  },
  {
   "cell_type": "code",
   "execution_count": 157,
   "metadata": {},
   "outputs": [
    {
     "name": "stdout",
     "output_type": "stream",
     "text": [
      "{'1268', '455', '1027', '1183', '1510', '2143', '2618', '1215', '2064', '802', '2343', '1370', '1304', '2391', '2609', '575', '1652'}\n",
      "크기 : 17\n"
     ]
    }
   ],
   "source": [
    "station_three_plus=set(station_week_three_plus).intersection(set(station_hol_three_plus))\n",
    "print(station_three_plus)\n",
    "print('크기 :',len(station_three_plus))"
   ]
  },
  {
   "cell_type": "code",
   "execution_count": 158,
   "metadata": {},
   "outputs": [
    {
     "name": "stdout",
     "output_type": "stream",
     "text": [
      "{'1268', '1012', '428', '1034', '322', '173', '1241', '338', '267', '2139', '242', '2391', '140', '105', '1513', '1510', '270', '210', '2257', '1316', '2350', '1056', '1228', '1054', '1266', '101', '1151', '449', '122', '1025', '455', '508', '387', '710', '447', '3531', '820', '1029', '952', '134', '1267', '244', '2323', '2502', '1193', '846', '394', '2226', '199', '331', '320', '422', '543', '1820', '2148', '430', '634', '1443', '1024', '429', '806', '380', '2343', '2284', '349', '818', '2364', '346'}\n",
      "크기 : 68\n"
     ]
    }
   ],
   "source": [
    "station_four_plus=set(station_week_four_plus).intersection(set(station_hol_four_plus))\n",
    "print(station_four_plus)\n",
    "print('크기 :',len(station_four_plus))"
   ]
  },
  {
   "cell_type": "markdown",
   "metadata": {},
   "source": [
    "#### 10% 이상의 이용권 비율차이가 있는 대여소 목록"
   ]
  },
  {
   "cell_type": "code",
   "execution_count": 159,
   "metadata": {},
   "outputs": [
    {
     "name": "stdout",
     "output_type": "stream",
     "text": [
      "['1001', '1002', '1006', '1007', '1016', '103', '1034', '1035', '1039', '104', '1052', '1054', '1056', '1057', '1058', '106', '1062', '1106', '111', '1114', '112', '1122', '1127', '1129', '1148', '1161', '1169', '117', '1175', '118', '1183', '119', '1231', '1250', '1268', '1271', '1274', '1287', '1300', '131', '1315', '1323', '1332', '1337', '1357', '1358', '1359', '136', '1373', '1408', '1413', '1420', '1424', '1437', '1438', '144', '1450', '1451', '1452', '1453', '1454', '1455', '1512', '152', '1534', '1536', '1547', '1601', '1602', '1608', '1640', '1641', '1643', '1659', '1661', '1663', '1664', '1675', '1677', '1703', '1705', '1714', '1715', '1717', '1720', '1722', '1726', '1729', '1735', '1742', '175', '181', '1816', '182', '1821', '1824', '1825', '1827', '1833', '1834', '1845', '185', '1852', '1858', '186', '1901', '1925', '1928', '1933', '1937', '1951', '1952', '1953', '1959', '1969', '1979', '1987', '199', '1991', '2000', '2002', '201', '2015', '2024', '2027', '2038', '2040', '205', '2054', '2060', '207', '209', '2103', '2116', '2130', '2141', '215', '2159', '2176', '2201', '2207', '221', '2212', '2214', '2215', '2217', '2219', '2220', '2221', '2222', '2226', '2227', '2229', '2250', '2259', '2262', '2265', '227', '228', '2287', '2301', '2303', '2307', '2308', '2314', '2317', '233', '2337', '2341', '2342', '2343', '2344', '2351', '2356', '2372', '2373', '2376', '2382', '2387', '2389', '2390', '2404', '2411', '248', '249', '2506', '260', '2609', '2613', '2622', '267', '271', '272', '278', '3511', '3525', '3539', '373', '406', '422', '429', '446', '502', '510', '511', '523', '524', '534', '536', '539', '544', '555', '561', '564', '565', '581', '583', '586', '588', '600', '606', '607', '627', '652', '658', '711', '722', '729', '749', '762', '803', '808', '810', '825', '829', '830', '832', '838', '840', '844', '902', '905', '907', '912', '914', '915', '927', '928', '938', '954', '966']\n",
      "크기 :  251\n"
     ]
    }
   ],
   "source": [
    "station_over10_week_one=df_station[df_station['week_one_diff'] >= 0.1]['station_id'].tolist()\n",
    "print(station_over10_week_one)\n",
    "print('크기 : ',len(station_over10_week_one))"
   ]
  },
  {
   "cell_type": "code",
   "execution_count": 160,
   "metadata": {},
   "outputs": [
    {
     "name": "stdout",
     "output_type": "stream",
     "text": [
      "['1002', '1003', '1004', '1007', '1016', '1018', '1021', '1035', '1037', '1038', '1039', '1049', '1052', '1053', '1054', '1056', '1057', '1058', '1114', '112', '1121', '1122', '1130', '1131', '1132', '1140', '1148', '1157', '1165', '117', '1172', '1178', '1181', '119', '1200', '1207', '121', '1213', '1228', '123', '1271', '1275', '1291', '131', '1314', '1315', '1332', '1347', '1349', '1359', '1367', '1373', '1406', '1408', '1411', '1413', '1414', '1418', '142', '1421', '1428', '1429', '1430', '1433', '1434', '1435', '1437', '1438', '1444', '1447', '1450', '1452', '1453', '148', '1510', '1511', '1514', '1516', '152', '1520', '1525', '1528', '1533', '1545', '1547', '1548', '1601', '1602', '1603', '1608', '1620', '1628', '1634', '1637', '1640', '1641', '1651', '1656', '1657', '1659', '1661', '1664', '1666', '1667', '1668', '1671', '1672', '1677', '1681', '1683', '1685', '1691', '1705', '1708', '1715', '1716', '1717', '1719', '1720', '1722', '1723', '1726', '1730', '1735', '1738', '1804', '1812', '1814', '1816', '182', '1820', '1821', '1822', '1824', '1825', '1826', '1830', '1831', '1833', '1835', '1841', '1846', '1847', '1848', '1855', '1857', '1858', '1859', '1904', '191', '1912', '192', '1929', '1931', '1937', '1941', '1951', '1952', '1953', '1956', '1968', '1969', '1973', '1977', '1981', '1987', '199', '1992', '1996', '2024', '2038', '205', '2056', '2059', '206', '2069', '209', '2102', '2103', '2105', '2107', '2108', '2111', '2112', '2116', '2130', '2159', '2165', '2170', '2172', '2173', '2175', '2177', '2203', '221', '2212', '2265', '227', '2285', '2288', '2298', '2308', '2309', '2312', '2323', '2343', '2344', '235', '2356', '2358', '237', '2376', '2389', '2390', '2391', '2395', '2403', '252', '2603', '2605', '2616', '292', '3106', '314', '318', '349', '3519', '3525', '3528', '3531', '3539', '373', '402', '418', '422', '429', '502', '510', '523', '524', '535', '536', '539', '544', '548', '556', '561', '580', '581', '582', '585', '586', '592', '604', '606', '607', '608', '615', '643', '647', '663', '707', '711', '712', '714', '735', '739', '740', '750', '759', '762', '808', '815', '823', '825', '827', '838', '844', '902', '905', '906', '907', '908', '912', '915', '919', '921', '922', '923', '924', '928', '931', '953', '958', '959', '960', '966', '971', '1376', '462']\n",
      "크기 :  300\n"
     ]
    }
   ],
   "source": [
    "station_over10_week_two=df_station[df_station['week_two_diff'] >= 0.1]['station_id'].tolist()\n",
    "print(station_over10_week_two)\n",
    "print('크기 : ',len(station_over10_week_two))"
   ]
  },
  {
   "cell_type": "code",
   "execution_count": 161,
   "metadata": {},
   "outputs": [
    {
     "name": "stdout",
     "output_type": "stream",
     "text": [
      "['1002', '1004', '1006', '1018', '1035', '1037', '1038', '1049', '1052', '1053', '1056', '1057', '1058', '106', '1060', '1109', '1139', '117', '1170', '1178', '118', '1188', '119', '1229', '123', '1271', '1290', '1318', '1325', '133', '1334', '1347', '1348', '1349', '1353', '1359', '1366', '1367', '1373', '1413', '1418', '1420', '1421', '1427', '1429', '1435', '1436', '1437', '1438', '1450', '1452', '1512', '152', '1528', '1534', '1537', '1541', '159', '162', '1640', '1641', '1659', '166', '1661', '1663', '1668', '167', '1671', '1677', '1691', '170', '1702', '1708', '1715', '1720', '1722', '1726', '1734', '1736', '1738', '1741', '1742', '175', '178', '1805', '1814', '1816', '1819', '182', '1820', '1824', '1825', '1826', '1827', '1830', '1833', '1835', '1836', '1841', '1846', '1847', '1850', '1853', '1855', '1857', '1858', '1859', '186', '1925', '1928', '1937', '194', '1951', '1952', '1965', '1973', '1981', '1985', '1987', '1988', '1991', '1996', '1999', '201', '2012', '2024', '2038', '2054', '2056', '2065', '2070', '2102', '2103', '2107', '2108', '2112', '2128', '2130', '2140', '2144', '2159', '2169', '2171', '2172', '2174', '2177', '2184', '2201', '2214', '2215', '2220', '2222', '2239', '2249', '2258', '2264', '2265', '227', '2272', '2282', '2286', '2287', '2289', '2310', '2311', '2321', '2329', '2339', '2341', '2343', '2358', '2368', '2388', '2389', '2395', '2403', '2411', '2501', '2509', '255', '2603', '2606', '2616', '343', '3525', '3528', '3531', '3532', '381', '407', '418', '420', '432', '439', '446', '449', '511', '523', '524', '534', '556', '557', '564', '569', '586', '604', '606', '608', '609', '621', '643', '647', '652', '663', '706', '711', '712', '735', '743', '759', '803', '815', '819', '827', '907', '914', '915', '922', '928', '931', '937', '938', '941', '947', '966', '967', '2393']\n",
      "크기 :  237\n"
     ]
    }
   ],
   "source": [
    "station_over10_week_three=df_station[df_station['week_three_diff'] >= 0.1]['station_id'].tolist()\n",
    "print(station_over10_week_three)\n",
    "print('크기 : ',len(station_over10_week_three))"
   ]
  },
  {
   "cell_type": "code",
   "execution_count": 162,
   "metadata": {},
   "outputs": [
    {
     "name": "stdout",
     "output_type": "stream",
     "text": [
      "['1007', '1015', '1031', '1032', '1038', '1042', '1057', '1058', '111', '1121', '115', '1161', '117', '1181', '1188', '119', '1285', '1287', '1291', '1314', '1315', '1318', '133', '1332', '1336', '1337', '1346', '1347', '1348', '1357', '1367', '139', '1401', '1406', '1407', '1412', '1413', '1418', '1420', '1421', '1422', '1425', '1434', '1435', '1438', '1445', '1453', '1458', '1504', '1513', '1516', '1522', '1528', '1536', '1539', '1548', '1603', '1611', '1634', '1640', '1641', '1651', '1654', '1663', '1664', '1665', '1668', '1692', '1706', '1715', '1722', '1725', '1726', '1730', '1734', '1736', '1742', '1814', '1819', '182', '1823', '1824', '1826', '1827', '1833', '1839', '1846', '1850', '1857', '1858', '1930', '1937', '1952', '1964', '1967', '1974', '1983', '1992', '1998', '1999', '2008', '201', '2025', '2034', '2056', '2116', '2135', '2143', '2159', '216', '2203', '2205', '2207', '2215', '2223', '2227', '2241', '2248', '2258', '2263', '2265', '2269', '2276', '2287', '2289', '2304', '2305', '2307', '2309', '2321', '2324', '2329', '2354', '2356', '2363', '2372', '2373', '2380', '2383', '2387', '2388', '2391', '2395', '2396', '2406', '2618', '2621', '271', '3101', '3105', '314', '3511', '3517', '3525', '386', '434', '438', '446', '449', '501', '510', '523', '533', '534', '544', '556', '557', '564', '569', '586', '592', '608', '616', '650', '656', '706', '722', '759', '808', '823', '825', '827', '839', '902', '905', '907', '914', '923', '928', '964', '966']\n",
      "크기 :  191\n"
     ]
    }
   ],
   "source": [
    "station_over10_week_four=df_station[df_station['week_four_diff'] >= 0.1]['station_id'].tolist()\n",
    "print(station_over10_week_four)\n",
    "print('크기 : ',len(station_over10_week_four))"
   ]
  },
  {
   "cell_type": "code",
   "execution_count": 164,
   "metadata": {},
   "outputs": [
    {
     "name": "stdout",
     "output_type": "stream",
     "text": [
      "['1004', '1006', '1008', '1009', '1010', '1015', '1016', '1017', '1018', '1020', '1023', '1026', '1029', '1031', '1033', '1034', '1035', '1038', '1039', '1041', '1054', '1056', '1057', '1058', '106', '1060', '109', '1101', '111', '1120', '1129', '1137', '1152', '1159', '1161', '1171', '1175', '118', '1183', '119', '1207', '1209', '121', '1215', '1226', '1227', '1228', '1233', '1235', '1239', '1242', '1243', '1246', '1249', '125', '1258', '1263', '1271', '1285', '1286', '1287', '1291', '1300', '1334', '1337', '1342', '1347', '1348', '1349', '1355', '1358', '136', '1362', '1366', '1413', '1416', '1420', '1421', '1426', '1428', '1429', '1430', '1431', '1433', '1438', '1443', '1444', '1445', '1449', '145', '1451', '148', '1511', '1513', '152', '1528', '1533', '1545', '1547', '155', '1608', '164', '1640', '1643', '1646', '165', '1659', '1661', '1664', '1665', '167', '1671', '1672', '1677', '1678', '1679', '1680', '1685', '1702', '1714', '1715', '1717', '1722', '1726', '1727', '1728', '1729', '1730', '175', '176', '180', '1805', '1806', '1809', '182', '1820', '1822', '1823', '1824', '1825', '1836', '1841', '1842', '185', '1851', '1852', '1853', '1856', '1857', '1858', '1901', '1907', '192', '1929', '1930', '1931', '1933', '1936', '1937', '194', '195', '1951', '1952', '1953', '196', '1962', '1964', '1968', '1973', '1977', '1979', '198', '1987', '1993', '1994', '1999', '2000', '2008', '201', '2015', '2016', '202', '2024', '2027', '203', '2038', '205', '2054', '206', '2060', '2061', '2064', '2065', '209', '2103', '2128', '214', '2141', '2148', '216', '2160', '2165', '2171', '2174', '2179', '218', '2201', '2203', '2205', '2207', '221', '2213', '2214', '2215', '2217', '222', '2220', '2222', '2223', '2225', '224', '2241', '2243', '2247', '2248', '2249', '2256', '226', '2262', '2269', '227', '2270', '2272', '2275', '2281', '2283', '2284', '2285', '2286', '2287', '2288', '2298', '2304', '2305', '2307', '2308', '2309', '231', '2311', '2314', '233', '2334', '2339', '2341', '2343', '2344', '235', '2354', '2355', '2356', '2368', '238', '2382', '2387', '2391', '2392', '2395', '2401', '2411', '248', '249', '2509', '251', '2511', '257', '258', '259', '260', '2603', '2609', '2613', '2615', '2622', '266', '267', '270', '271', '272', '274', '275', '278', '290', '311', '327', '330', '348', '3517', '3524', '3525', '3528', '353', '3539', '356', '371', '373', '384', '393', '394', '405', '406', '407', '410', '417', '422', '424', '425', '426', '427', '430', '434', '446', '449', '502', '512', '513', '518', '519', '522', '524', '529', '530', '533', '536', '537', '539', '543', '544', '548', '551', '553', '561', '564', '565', '568', '576', '583', '588', '594', '601', '616', '622', '627', '634', '638', '640', '641', '642', '643', '647', '652', '704', '711', '712', '714', '716', '719', '722', '724', '725', '726', '729', '732', '739', '740', '746', '748', '749', '756', '760', '762', '763', '803', '805', '808', '823', '825', '827', '830', '832', '835', '838', '846', '902', '909', '915', '919', '921', '924', '928', '930', '931', '937', '938', '941', '953', '954', '958', '960', '965', '967', '1693']\n",
      "크기 :  411\n"
     ]
    }
   ],
   "source": [
    "station_over10_hol_one=df_station[df_station['hol_one_diff'] >= 0.1]['station_id'].tolist()\n",
    "print(station_over10_hol_one)\n",
    "print('크기 : ',len(station_over10_hol_one))"
   ]
  },
  {
   "cell_type": "code",
   "execution_count": 165,
   "metadata": {},
   "outputs": [
    {
     "name": "stdout",
     "output_type": "stream",
     "text": [
      "['1003', '1004', '1008', '101', '1015', '1016', '1017', '1023', '1031', '1032', '1033', '1038', '1039', '1041', '1042', '1047', '1049', '1052', '1053', '1054', '1056', '1057', '1058', '1062', '109', '110', '1102', '1105', '1113', '1120', '1121', '1126', '1146', '1148', '1150', '1151', '1155', '1160', '1161', '1163', '1165', '1172', '1174', '1175', '1178', '1181', '1183', '1186', '1188', '119', '1200', '1207', '121', '1228', '1235', '1246', '1250', '1263', '1266', '1271', '1275', '1280', '1285', '1291', '131', '1314', '1318', '1319', '1323', '1325', '1327', '133', '1332', '134', '1346', '1347', '1349', '1353', '1357', '1360', '1366', '1367', '1370', '1401', '1402', '1404', '1405', '1406', '1408', '1410', '1411', '1413', '1416', '1418', '1420', '1421', '1422', '1424', '1428', '1429', '1434', '1437', '1438', '1441', '1442', '1443', '1444', '1445', '1447', '1450', '1452', '1453', '1455', '1459', '148', '1503', '1506', '1509', '1511', '1512', '1513', '1514', '1516', '1519', '1520', '1525', '1528', '153', '1532', '1533', '1537', '1547', '155', '159', '1601', '1602', '1603', '1605', '1606', '1610', '1617', '1620', '1628', '1634', '1637', '1639', '1640', '165', '1655', '1656', '1657', '1659', '166', '1660', '1661', '1667', '1668', '1671', '1672', '1674', '1675', '1677', '1679', '1684', '1685', '169', '1691', '170', '1706', '1708', '1714', '1715', '1717', '1719', '1722', '1723', '1725', '1726', '1729', '1730', '1732', '1733', '1734', '1736', '1738', '1742', '177', '178', '179', '1805', '1806', '1809', '1814', '1819', '1820', '1821', '1822', '1825', '1826', '1827', '1828', '1830', '1831', '1833', '1834', '1835', '1836', '1839', '1840', '1842', '1846', '1847', '1848', '185', '1851', '1852', '1854', '1855', '1857', '1858', '1859', '1904', '1907', '1911', '1916', '192', '1924', '1929', '1930', '1931', '1933', '1941', '1943', '1951', '1952', '1953', '1957', '1965', '1968', '1969', '1971', '1973', '1974', '1977', '1979', '198', '1981', '1985', '1988', '1991', '1993', '1994', '1996', '1999', '2012', '2016', '2024', '203', '2048', '205', '2056', '2057', '2059', '206', '2065', '2066', '2067', '209', '2102', '2103', '2105', '2107', '2109', '2112', '2116', '2128', '2137', '2141', '2144', '2145', '2148', '216', '2165', '2169', '217', '2170', '2172', '2173', '2176', '2177', '218', '2184', '2201', '2207', '221', '2211', '2212', '2215', '222', '2225', '2226', '2228', '2229', '2230', '224', '2247', '2248', '2249', '2251', '2257', '226', '2264', '2265', '227', '2273', '2282', '2284', '2287', '2288', '2289', '2290', '2293', '2305', '2307', '2308', '2309', '231', '2310', '2311', '2317', '2322', '2329', '2331', '2334', '2341', '2343', '2344', '235', '2351', '2352', '2356', '2358', '2363', '2364', '2368', '237', '2376', '238', '2382', '2383', '2387', '2388', '2389', '2391', '2395', '2401', '241', '2412', '249', '2501', '2506', '2508', '2509', '2510', '252', '253', '254', '259', '2603', '2604', '2611', '2612', '263', '264', '266', '2702', '271', '274', '277', '278', '279', '281', '282', '289', '290', '291', '292', '301', '3100', '3103', '3106', '3107', '314', '329', '331', '343', '345', '348', '349', '3500', '3503', '351', '352', '3521', '3524', '3528', '3531', '3535', '3539', '367', '371', '374', '375', '382', '383', '384', '394', '399', '400', '406', '412', '420', '428', '429', '432', '434', '435', '436', '450', '451', '518', '524', '533', '534', '542', '544', '548', '550', '552', '555', '563', '564', '569', '578', '581', '585', '590', '591', '592', '594', '604', '606', '615', '624', '626', '627', '630', '637', '638', '641', '643', '646', '647', '652', '654', '657', '658', '663', '702', '704', '707', '714', '716', '723', '724', '725', '729', '733', '735', '737', '739', '740', '747', '748', '749', '752', '754', '755', '756', '758', '803', '807', '820', '827', '828', '830', '834', '838', '840', '902', '903', '905', '909', '912', '913', '915', '916', '921', '923', '924', '928', '931', '933', '937', '941', '947', '950', '952', '954', '958', '959', '960', '962', '966', '967', '968', '1377', '2393']\n",
      "크기 :  528\n"
     ]
    }
   ],
   "source": [
    "station_over10_hol_two=df_station[df_station['hol_two_diff'] >= 0.1]['station_id'].tolist()\n",
    "print(station_over10_hol_two)\n",
    "print('크기 : ',len(station_over10_hol_two))"
   ]
  },
  {
   "cell_type": "code",
   "execution_count": 166,
   "metadata": {},
   "outputs": [
    {
     "name": "stdout",
     "output_type": "stream",
     "text": [
      "['1002', '1003', '1007', '1018', '1031', '1032', '1033', '1037', '1038', '1042', '1049', '1052', '1057', '1058', '106', '1062', '108', '109', '1105', '1109', '111', '1115', '1124', '1137', '1148', '115', '1150', '1152', '1155', '1160', '1165', '1169', '1178', '1181', '1187', '119', '1190', '1198', '1200', '1207', '121', '1226', '1239', '124', '1249', '1250', '1253', '126', '1271', '1283', '1285', '1302', '1306', '131', '1314', '1318', '1323', '1325', '1326', '133', '1334', '1336', '1346', '1347', '1348', '1353', '1360', '1365', '1367', '139', '1408', '141', '1413', '1421', '1422', '1424', '1427', '1428', '1429', '1430', '1433', '1435', '1438', '1440', '1441', '1452', '150', '1503', '1506', '1512', '1514', '1519', '1520', '1525', '1528', '153', '1530', '1533', '1536', '1537', '1539', '1546', '1547', '1548', '155', '157', '1601', '1606', '1610', '1620', '1634', '1640', '165', '1655', '1656', '1659', '1661', '1663', '1664', '1667', '167', '1671', '1677', '1679', '1680', '169', '1691', '1703', '1706', '1717', '1722', '1723', '1726', '1727', '1728', '1736', '1738', '1741', '1742', '175', '180', '1804', '1806', '1814', '1819', '182', '1820', '1823', '1824', '1825', '1826', '1827', '1828', '1831', '1833', '1835', '1836', '1845', '1846', '1847', '1848', '185', '1850', '1851', '1852', '1854', '1855', '1857', '1858', '186', '1906', '1907', '191', '1916', '192', '1924', '1925', '1928', '1929', '1930', '1931', '1933', '1936', '1937', '1943', '1951', '1952', '1957', '1958', '1962', '1965', '1966', '1968', '1973', '1981', '1986', '1988', '1991', '1992', '1996', '1999', '200', '2008', '201', '2024', '2027', '203', '2033', '2038', '2040', '205', '2050', '2054', '2056', '2059', '206', '2065', '2066', '2067', '2068', '2069', '2107', '211', '2113', '2116', '212', '2137', '2141', '2144', '2148', '2156', '2159', '2170', '2177', '2179', '218', '220', '2201', '2202', '2205', '2206', '2207', '2210', '2212', '2214', '2215', '2225', '2226', '224', '2241', '2245', '2246', '2247', '2248', '225', '2251', '2255', '2256', '2257', '2263', '2264', '2265', '2268', '2269', '2281', '2283', '2286', '2287', '2289', '2292', '2293', '2294', '2303', '2305', '2309', '2311', '2313', '2314', '2326', '233', '2331', '2339', '2341', '2344', '2347', '2356', '236', '2360', '2368', '2373', '2376', '238', '2383', '2384', '2388', '239', '2392', '2395', '2396', '2398', '2401', '2403', '241', '2411', '2501', '2506', '2508', '2509', '2511', '252', '253', '259', '2603', '2611', '270', '281', '301', '302', '303', '306', '3106', '311', '314', '318', '327', '329', '348', '349', '3503', '3516', '3517', '3518', '352', '3521', '3523', '3524', '3528', '353', '3531', '3539', '364', '369', '381', '394', '400', '401', '403', '405', '420', '422', '425', '427', '428', '429', '432', '433', '436', '438', '439', '450', '451', '461', '515', '516', '523', '526', '534', '538', '552', '557', '569', '581', '585', '589', '591', '594', '601', '604', '605', '616', '625', '636', '642', '643', '650', '652', '656', '660', '700', '701', '706', '709', '711', '712', '714', '720', '724', '733', '735', '736', '739', '740', '741', '747', '752', '756', '757', '760', '807', '826', '827', '828', '841', '902', '905', '907', '911', '912', '919', '925', '928', '937', '941', '945', '947', '953', '954', '959', '960', '964', '967', '1377', '1693', '972']\n",
      "크기 :  434\n"
     ]
    }
   ],
   "source": [
    "station_over10_hol_three=df_station[df_station['hol_three_diff'] >= 0.1]['station_id'].tolist()\n",
    "print(station_over10_hol_three)\n",
    "print('크기 : ',len(station_over10_hol_three))"
   ]
  },
  {
   "cell_type": "code",
   "execution_count": 167,
   "metadata": {},
   "outputs": [
    {
     "name": "stdout",
     "output_type": "stream",
     "text": [
      "['1004', '1006', '1007', '1010', '1011', '1016', '1018', '1023', '1031', '1032', '1033', '1037', '1038', '1039', '1042', '1047', '1048', '1049', '1051', '1054', '1058', '1061', '1062', '1101', '1105', '111', '1115', '1117', '1120', '1122', '1124', '1125', '1132', '1141', '1145', '1148', '1152', '1153', '1155', '1157', '1158', '1159', '1160', '1162', '1167', '1173', '1174', '1177', '118', '1181', '1187', '1188', '119', '1192', '1194', '1195', '1196', '1201', '1205', '121', '1222', '1226', '1227', '123', '1233', '1240', '1241', '1245', '1248', '1249', '1253', '1258', '126', '1262', '1263', '1265', '127', '1274', '1277', '1279', '1285', '1286', '1287', '129', '1291', '1299', '1303', '131', '1314', '1315', '1321', '1323', '1325', '133', '1332', '1333', '1336', '1339', '1340', '1342', '1346', '1348', '1355', '1357', '1361', '1364', '1366', '1369', '1373', '1401', '1402', '1404', '1408', '1410', '1413', '1420', '1421', '1422', '1425', '1426', '1428', '1430', '1431', '1434', '1435', '1436', '1438', '144', '1441', '1443', '1445', '1446', '145', '1450', '1452', '1453', '1456', '1457', '1458', '148', '1501', '1503', '1504', '1506', '151', '1510', '1512', '1513', '1514', '1522', '1525', '1528', '1532', '1533', '1535', '1536', '1539', '1542', '1545', '1546', '156', '1603', '1605', '1610', '1619', '1620', '1625', '1634', '1635', '1640', '1641', '1642', '1643', '1646', '1653', '1654', '1659', '166', '1664', '1666', '1667', '1668', '167', '1671', '1672', '1675', '1678', '1679', '1682', '1685', '1688', '1690', '1691', '1692', '1708', '1709', '1713', '1715', '1722', '1723', '1725', '1728', '1729', '1730', '1733', '1734', '1736', '1738', '1741', '177', '178', '179', '180', '1805', '1806', '1809', '181', '1819', '182', '1820', '1822', '1823', '1824', '1825', '1826', '1827', '1830', '1831', '1833', '1834', '1835', '1839', '184', '1841', '1843', '1845', '1846', '1847', '1848', '185', '1850', '1851', '1854', '1855', '1858', '1859', '186', '1901', '1906', '1913', '1920', '1925', '1929', '1937', '1946', '1951', '1952', '1953', '1957', '1958', '1959', '1960', '1961', '1965', '1966', '1967', '1969', '1971', '1973', '1974', '1979', '198', '1981', '1983', '1984', '1985', '1987', '1988', '1992', '1999', '2000', '2007', '2008', '201', '2012', '2020', '2024', '2025', '2027', '2033', '2036', '2037', '2040', '205', '2056', '206', '2061', '2063', '2064', '2066', '2067', '2068', '207', '209', '2102', '2104', '2105', '2106', '2110', '2127', '213', '2137', '2143', '2156', '216', '2173', '2176', '2177', '220', '2201', '2205', '2206', '221', '2210', '2212', '2213', '2214', '2217', '2220', '2221', '2222', '2226', '223', '2235', '2246', '2247', '225', '2252', '2255', '2256', '2257', '2263', '2265', '2266', '2269', '2272', '2274', '228', '2282', '2286', '2287', '2293', '2294', '2304', '2305', '2307', '2309', '2310', '2311', '2313', '2315', '2318', '2321', '2322', '2324', '2325', '2328', '233', '2330', '2337', '2339', '2340', '2341', '2342', '2343', '2344', '2349', '2350', '2351', '2353', '2354', '2356', '2357', '236', '2361', '2363', '2365', '2368', '2371', '2372', '2373', '2382', '2383', '2384', '2385', '2387', '2389', '239', '2390', '2391', '2395', '2396', '2403', '2404', '2405', '2408', '2409', '241', '2410', '2411', '242', '2501', '2504', '2505', '2508', '2509', '251', '2603', '2609', '2612', '2616', '263', '265', '267', '271', '272', '276', '277', '278', '281', '285', '286', '292', '293', '300', '302', '306', '309', '3101', '3103', '3104', '3105', '314', '326', '327', '347', '3500', '3502', '3503', '3505', '3506', '3511', '3518', '3520', '3523', '3524', '3528', '3530', '3531', '3536', '3537', '3542', '355', '358', '362', '364', '367', '369', '371', '372', '373', '379', '381', '384', '393', '397', '401', '403', '407', '411', '415', '417', '418', '424', '429', '432', '438', '439', '447', '449', '450', '451', '452', '456', '458', '461', '501', '511', '514', '519', '523', '524', '526', '530', '533', '534', '538', '539', '543', '544', '553', '556', '560', '561', '564', '565', '568', '569', '575', '581', '585', '587', '590', '591', '593', '594', '602', '604', '606', '614', '617', '624', '625', '626', '628', '635', '636', '638', '643', '650', '652', '656', '658', '659', '701', '702', '703', '706', '708', '710', '712', '714', '716', '720', '723', '724', '729', '732', '735', '741', '743', '747', '748', '757', '759', '803', '805', '809', '810', '812', '817', '822', '825', '832', '838', '844', '903', '906', '907', '908', '909', '912', '913', '914', '915', '919', '923', '932', '938', '941', '947', '956', '958', '964', '965', '966', '967', '971', '1377', '462']\n",
      "크기 :  600\n"
     ]
    }
   ],
   "source": [
    "station_over10_hol_four=df_station[df_station['hol_four_diff'] >= 0.1]['station_id'].tolist()\n",
    "print(station_over10_hol_four)\n",
    "print('크기 : ',len(station_over10_hol_four))"
   ]
  },
  {
   "cell_type": "code",
   "execution_count": 168,
   "metadata": {},
   "outputs": [
    {
     "data": {
      "text/plain": [
       "count    1508.000000\n",
       "mean        0.094172\n",
       "std         0.070151\n",
       "min         0.000000\n",
       "25%         0.041408\n",
       "50%         0.080582\n",
       "75%         0.129617\n",
       "max         0.561905\n",
       "Name: hol_four_diff, dtype: float64"
      ]
     },
     "execution_count": 168,
     "metadata": {},
     "output_type": "execute_result"
    }
   ],
   "source": [
    "df_station['hol_four_diff'].describe()"
   ]
  },
  {
   "cell_type": "code",
   "execution_count": 169,
   "metadata": {},
   "outputs": [
    {
     "name": "stdout",
     "output_type": "stream",
     "text": [
      "{'1608', '1722', '902', '2201', '1034', '272', '1664', '1438', '278', '1016', '2411', '1937', '373', '1413', '1661', '1056', '2215', '652', '1039', '838', '2344', '1451', '1824', '1058', '2622', '938', '1858', '1640', '1953', '233', '209', '422', '749', '1337', '249', '832', '446', '221', '803', '2103', '711', '2222', '111', '227', '175', '1933', '119', '2387', '1161', '136', '1726', '2314', '830', '729', '205', '1420', '2038', '808', '248', '762', '260', '1183', '1729', '539', '2027', '524', '1825', '561', '1987', '2060', '2207', '2308', '1547', '2217', '915', '2613', '627', '2024', '954', '267', '928', '2609', '722', '825', '2356', '1952', '544', '502', '536', '1714', '201', '583', '271', '3539', '2141', '1175', '406', '1852', '565', '1677', '564', '152', '2000', '2287', '2262', '106', '1659', '1901', '1715', '2214', '588', '2015', '1035', '1054', '3525', '1287', '182', '2307', '185', '1129', '1951', '118', '2220', '1271', '2341', '1979', '1358', '1006', '1057', '1643', '2343', '2054', '1717', '1300', '2382'}\n",
      "크기 : 135\n"
     ]
    }
   ],
   "source": [
    "station_over10_one=set(station_over10_week_one).intersection(set(station_over10_hol_one))\n",
    "print(station_over10_one)\n",
    "print('크기 :',len(station_over10_one))"
   ]
  },
  {
   "cell_type": "code",
   "execution_count": 170,
   "metadata": {},
   "outputs": [
    {
     "name": "stdout",
     "output_type": "stream",
     "text": [
      "{'1822', '1722', '1520', '902', '912', '606', '2391', '1730', '1525', '1438', '1016', '707', '1413', '1846', '1661', '1056', '1049', '1039', '838', '2344', '2170', '585', '1058', '1831', '1514', '905', '1634', '1172', '1533', '1814', '1830', '148', '1429', '1053', '1640', '1656', '1858', '1953', '209', '1406', '221', '1437', '1833', '2103', '3106', '314', '429', '959', '252', '2059', '227', '604', '2107', '119', '1667', '1004', '1447', '1726', '1444', '1929', '1708', '1181', '205', '1428', '735', '235', '1855', '592', '2395', '1332', '1121', '1637', '1628', '2116', '2288', '1691', '3528', '2265', '2212', '524', '292', '2376', '1825', '1685', '1601', '206', '1434', '2112', '2308', '1421', '1178', '1418', '1547', '1516', '1859', '1973', '615', '1969', '915', '2024', '1931', '1941', '928', '1723', '1528', '827', '192', '2165', '581', '1826', '1228', '2356', '921', '1952', '2603', '544', '2389', '2056', '740', '1450', '237', '3539', '1996', '1977', '2102', '1411', '1738', '923', '1904', '1719', '931', '2177', '1671', '1677', '1857', '714', '1148', '349', '1347', '1349', '1968', '958', '1367', '1452', '1659', '1291', '2173', '1003', '1165', '1052', '2358', '1847', '1715', '548', '1314', '1453', '924', '1603', '1054', '2172', '1981', '1821', '3531', '1602', '1207', '131', '1657', '1672', '121', '2309', '1620', '1951', '663', '1668', '1271', '1820', '1511', '1038', '1057', '1408', '1200', '1275', '739', '2343', '960', '1717', '1835', '643', '966', '647', '2105', '1848'}\n",
      "크기 : 192\n"
     ]
    }
   ],
   "source": [
    "station_over10_two=set(station_over10_week_two).intersection(set(station_over10_hol_two))\n",
    "print(station_over10_two)\n",
    "print('크기 :',len(station_over10_two))"
   ]
  },
  {
   "cell_type": "code",
   "execution_count": 171,
   "metadata": {},
   "outputs": [
    {
     "name": "stdout",
     "output_type": "stream",
     "text": [
      "{'1037', '1722', '2201', '1438', '2144', '167', '1925', '2411', '1002', '1937', '1413', '1846', '1661', '2215', '1049', '652', '2368', '432', '1824', '1058', '1814', '1850', '1858', '1429', '1640', '439', '1833', '711', '1109', '1827', '1991', '1663', '175', '381', '604', '1836', '1018', '119', '2107', '712', '2509', '1726', '569', '2038', '735', '1855', '1348', '1999', '2395', '1427', '133', '2289', '2339', '1691', '3528', '2265', '2501', '941', '2388', '2311', '1825', '1736', '2264', '1178', '1421', '1973', '1435', '523', '2024', '1325', '928', '1819', '1528', '827', '2065', '557', '1826', '1952', '2603', '201', '2056', '1996', '1741', '1738', '1353', '2177', '1671', '1677', '1857', '2159', '2287', '2403', '106', '1347', '420', '1367', '1452', '706', '1659', '1334', '1052', '1742', '1847', '2214', '937', '534', '2286', '1981', '1537', '3531', '182', '967', '186', '1951', '1988', '1271', '2341', '1820', '947', '1512', '1038', '1057', '1928', '1318', '2054', '1835', '643', '1965', '907'}\n",
      "크기 : 129\n"
     ]
    }
   ],
   "source": [
    "station_over10_three=set(station_over10_week_three).intersection(set(station_over10_hol_three))\n",
    "print(station_over10_three)\n",
    "print('크기 :',len(station_over10_three))"
   ]
  },
  {
   "cell_type": "code",
   "execution_count": 172,
   "metadata": {},
   "outputs": [
    {
     "name": "stdout",
     "output_type": "stream",
     "text": [
      "{'964', '1722', '1425', '1823', '2391', '1730', '1664', '914', '1438', '1513', '1937', '3101', '1413', '1846', '501', '1824', '1058', '216', '2143', '1401', '1634', '1992', '2304', '1850', '1858', '1640', '1539', '1641', '533', '1336', '438', '1422', '1833', '314', '1827', '111', '1032', '119', '2387', '650', '1181', '1420', '569', '1734', '1348', '1999', '449', '1007', '2395', '1332', '2324', '133', '1188', '3511', '2265', '1031', '1346', '2008', '1522', '1458', '1736', '1434', '2354', '1974', '1421', '2372', '2383', '1285', '2396', '1435', '523', '2321', '1819', '1528', '825', '1826', '656', '2356', '1952', '544', '1357', '201', '1725', '2056', '271', '2269', '556', '2205', '923', '1654', '1692', '1536', '2363', '2287', '564', '706', '2025', '1291', '1715', '1314', '1453', '1445', '2305', '2373', '1603', '534', '1042', '1839', '1287', '182', '2263', '1315', '2307', '2309', '759', '1668', '1983', '1038', '1967', '3105', '966', '1504', '907'}\n",
      "크기 : 123\n"
     ]
    }
   ],
   "source": [
    "station_over10_four=set(station_over10_week_four).intersection(set(station_over10_hol_four))\n",
    "print(station_over10_four)\n",
    "print('크기 :',len(station_over10_four))"
   ]
  },
  {
   "cell_type": "code",
   "execution_count": null,
   "metadata": {},
   "outputs": [],
   "source": []
  }
 ],
 "metadata": {
  "kernelspec": {
   "display_name": "Python 3",
   "language": "python",
   "name": "python3"
  },
  "language_info": {
   "codemirror_mode": {
    "name": "ipython",
    "version": 3
   },
   "file_extension": ".py",
   "mimetype": "text/x-python",
   "name": "python",
   "nbconvert_exporter": "python",
   "pygments_lexer": "ipython3",
   "version": "3.7.6"
  }
 },
 "nbformat": 4,
 "nbformat_minor": 4
}
