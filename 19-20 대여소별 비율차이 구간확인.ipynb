{
 "cells": [
  {
   "cell_type": "code",
   "execution_count": 1,
   "metadata": {},
   "outputs": [],
   "source": [
    "import pandas as pd\n",
    "import pickle\n",
    "import numpy as np\n",
    "import seaborn as sns\n",
    "import matplotlib.pyplot as plt"
   ]
  },
  {
   "cell_type": "code",
   "execution_count": 5,
   "metadata": {},
   "outputs": [],
   "source": [
    "with open(\"../dataset/대여소별_이용권비율.pkl\",\"rb\") as fr:\n",
    "    df_station= pickle.load(fr)"
   ]
  },
  {
   "cell_type": "code",
   "execution_count": 6,
   "metadata": {},
   "outputs": [
    {
     "data": {
      "text/html": [
       "<div>\n",
       "<style scoped>\n",
       "    .dataframe tbody tr th:only-of-type {\n",
       "        vertical-align: middle;\n",
       "    }\n",
       "\n",
       "    .dataframe tbody tr th {\n",
       "        vertical-align: top;\n",
       "    }\n",
       "\n",
       "    .dataframe thead th {\n",
       "        text-align: right;\n",
       "    }\n",
       "</style>\n",
       "<table border=\"1\" class=\"dataframe\">\n",
       "  <thead>\n",
       "    <tr style=\"text-align: right;\">\n",
       "      <th></th>\n",
       "      <th>station_id</th>\n",
       "      <th>19_week_daily</th>\n",
       "      <th>19_week_regular</th>\n",
       "      <th>19_hol_daily</th>\n",
       "      <th>19_hol_regular</th>\n",
       "      <th>20_week_daily</th>\n",
       "      <th>20_week_regular</th>\n",
       "      <th>20_hol_daily</th>\n",
       "      <th>20_hol_regular</th>\n",
       "    </tr>\n",
       "  </thead>\n",
       "  <tbody>\n",
       "    <tr>\n",
       "      <th>0</th>\n",
       "      <td>1001</td>\n",
       "      <td>0.172905</td>\n",
       "      <td>0.827095</td>\n",
       "      <td>0.316646</td>\n",
       "      <td>0.683354</td>\n",
       "      <td>0.258624</td>\n",
       "      <td>0.741376</td>\n",
       "      <td>0.392308</td>\n",
       "      <td>0.607692</td>\n",
       "    </tr>\n",
       "    <tr>\n",
       "      <th>1</th>\n",
       "      <td>1002</td>\n",
       "      <td>0.183894</td>\n",
       "      <td>0.816106</td>\n",
       "      <td>0.356350</td>\n",
       "      <td>0.643650</td>\n",
       "      <td>0.283254</td>\n",
       "      <td>0.716746</td>\n",
       "      <td>0.454603</td>\n",
       "      <td>0.545397</td>\n",
       "    </tr>\n",
       "    <tr>\n",
       "      <th>2</th>\n",
       "      <td>1003</td>\n",
       "      <td>0.154073</td>\n",
       "      <td>0.845927</td>\n",
       "      <td>0.259140</td>\n",
       "      <td>0.740860</td>\n",
       "      <td>0.238314</td>\n",
       "      <td>0.761686</td>\n",
       "      <td>0.364192</td>\n",
       "      <td>0.635808</td>\n",
       "    </tr>\n",
       "    <tr>\n",
       "      <th>3</th>\n",
       "      <td>1004</td>\n",
       "      <td>0.172014</td>\n",
       "      <td>0.827986</td>\n",
       "      <td>0.301563</td>\n",
       "      <td>0.698438</td>\n",
       "      <td>0.272103</td>\n",
       "      <td>0.727897</td>\n",
       "      <td>0.428854</td>\n",
       "      <td>0.571146</td>\n",
       "    </tr>\n",
       "    <tr>\n",
       "      <th>4</th>\n",
       "      <td>1006</td>\n",
       "      <td>0.113201</td>\n",
       "      <td>0.886799</td>\n",
       "      <td>0.241314</td>\n",
       "      <td>0.758686</td>\n",
       "      <td>0.197472</td>\n",
       "      <td>0.802528</td>\n",
       "      <td>0.357414</td>\n",
       "      <td>0.642586</td>\n",
       "    </tr>\n",
       "  </tbody>\n",
       "</table>\n",
       "</div>"
      ],
      "text/plain": [
       "  station_id  19_week_daily  19_week_regular  19_hol_daily  19_hol_regular  \\\n",
       "0       1001       0.172905         0.827095      0.316646        0.683354   \n",
       "1       1002       0.183894         0.816106      0.356350        0.643650   \n",
       "2       1003       0.154073         0.845927      0.259140        0.740860   \n",
       "3       1004       0.172014         0.827986      0.301563        0.698438   \n",
       "4       1006       0.113201         0.886799      0.241314        0.758686   \n",
       "\n",
       "   20_week_daily  20_week_regular  20_hol_daily  20_hol_regular  \n",
       "0       0.258624         0.741376      0.392308        0.607692  \n",
       "1       0.283254         0.716746      0.454603        0.545397  \n",
       "2       0.238314         0.761686      0.364192        0.635808  \n",
       "3       0.272103         0.727897      0.428854        0.571146  \n",
       "4       0.197472         0.802528      0.357414        0.642586  "
      ]
     },
     "execution_count": 6,
     "metadata": {},
     "output_type": "execute_result"
    }
   ],
   "source": [
    "df_station.head()"
   ]
  },
  {
   "cell_type": "code",
   "execution_count": 7,
   "metadata": {},
   "outputs": [
    {
     "data": {
      "text/plain": [
       "(2183, 9)"
      ]
     },
     "execution_count": 7,
     "metadata": {},
     "output_type": "execute_result"
    }
   ],
   "source": [
    "df_station.shape"
   ]
  },
  {
   "cell_type": "code",
   "execution_count": 8,
   "metadata": {},
   "outputs": [
    {
     "data": {
      "text/html": [
       "<div>\n",
       "<style scoped>\n",
       "    .dataframe tbody tr th:only-of-type {\n",
       "        vertical-align: middle;\n",
       "    }\n",
       "\n",
       "    .dataframe tbody tr th {\n",
       "        vertical-align: top;\n",
       "    }\n",
       "\n",
       "    .dataframe thead th {\n",
       "        text-align: right;\n",
       "    }\n",
       "</style>\n",
       "<table border=\"1\" class=\"dataframe\">\n",
       "  <thead>\n",
       "    <tr style=\"text-align: right;\">\n",
       "      <th></th>\n",
       "      <th>ID</th>\n",
       "      <th>stationName</th>\n",
       "      <th>Y</th>\n",
       "      <th>X</th>\n",
       "      <th>Xn</th>\n",
       "      <th>Yn</th>\n",
       "      <th>Elev</th>\n",
       "      <th>BikeRoadNM</th>\n",
       "      <th>ToBikeRoad</th>\n",
       "    </tr>\n",
       "  </thead>\n",
       "  <tbody>\n",
       "    <tr>\n",
       "      <th>0</th>\n",
       "      <td>101</td>\n",
       "      <td>101. (구)합정동 주민센터</td>\n",
       "      <td>37.549561</td>\n",
       "      <td>126.905754</td>\n",
       "      <td>947509.050934</td>\n",
       "      <td>1.950191e+06</td>\n",
       "      <td>9.152323</td>\n",
       "      <td>한강자전거길</td>\n",
       "      <td>771.0</td>\n",
       "    </tr>\n",
       "    <tr>\n",
       "      <th>1</th>\n",
       "      <td>102</td>\n",
       "      <td>102. 망원역 1번출구 앞</td>\n",
       "      <td>37.555649</td>\n",
       "      <td>126.910629</td>\n",
       "      <td>947943.924406</td>\n",
       "      <td>1.950863e+06</td>\n",
       "      <td>6.963737</td>\n",
       "      <td>홍제천자전거길</td>\n",
       "      <td>1065.0</td>\n",
       "    </tr>\n",
       "    <tr>\n",
       "      <th>2</th>\n",
       "      <td>103</td>\n",
       "      <td>103. 망원역 2번출구 앞</td>\n",
       "      <td>37.554951</td>\n",
       "      <td>126.910835</td>\n",
       "      <td>947961.634042</td>\n",
       "      <td>1.950786e+06</td>\n",
       "      <td>6.865565</td>\n",
       "      <td>한강자전거길</td>\n",
       "      <td>1146.0</td>\n",
       "    </tr>\n",
       "    <tr>\n",
       "      <th>3</th>\n",
       "      <td>104</td>\n",
       "      <td>104. 합정역 1번출구 앞</td>\n",
       "      <td>37.550629</td>\n",
       "      <td>126.914986</td>\n",
       "      <td>948325.239132</td>\n",
       "      <td>1.950304e+06</td>\n",
       "      <td>18.136753</td>\n",
       "      <td>한강자전거길</td>\n",
       "      <td>676.0</td>\n",
       "    </tr>\n",
       "    <tr>\n",
       "      <th>4</th>\n",
       "      <td>105</td>\n",
       "      <td>105. 합정역 5번출구 앞</td>\n",
       "      <td>37.550007</td>\n",
       "      <td>126.914825</td>\n",
       "      <td>948310.657239</td>\n",
       "      <td>1.950235e+06</td>\n",
       "      <td>17.498430</td>\n",
       "      <td>한강자전거길</td>\n",
       "      <td>962.0</td>\n",
       "    </tr>\n",
       "  </tbody>\n",
       "</table>\n",
       "</div>"
      ],
      "text/plain": [
       "    ID       stationName          Y           X             Xn            Yn  \\\n",
       "0  101  101. (구)합정동 주민센터  37.549561  126.905754  947509.050934  1.950191e+06   \n",
       "1  102   102. 망원역 1번출구 앞  37.555649  126.910629  947943.924406  1.950863e+06   \n",
       "2  103   103. 망원역 2번출구 앞  37.554951  126.910835  947961.634042  1.950786e+06   \n",
       "3  104   104. 합정역 1번출구 앞  37.550629  126.914986  948325.239132  1.950304e+06   \n",
       "4  105   105. 합정역 5번출구 앞  37.550007  126.914825  948310.657239  1.950235e+06   \n",
       "\n",
       "        Elev BikeRoadNM  ToBikeRoad  \n",
       "0   9.152323     한강자전거길       771.0  \n",
       "1   6.963737    홍제천자전거길      1065.0  \n",
       "2   6.865565     한강자전거길      1146.0  \n",
       "3  18.136753     한강자전거길       676.0  \n",
       "4  17.498430     한강자전거길       962.0  "
      ]
     },
     "execution_count": 8,
     "metadata": {},
     "output_type": "execute_result"
    }
   ],
   "source": [
    "sta_info=pd.read_csv('../dataset/con_sta_info.csv')\n",
    "sta_info.head()"
   ]
  },
  {
   "cell_type": "code",
   "execution_count": 9,
   "metadata": {},
   "outputs": [
    {
     "data": {
      "text/plain": [
       "['101', '102', '103', '104', '105']"
      ]
     },
     "execution_count": 9,
     "metadata": {},
     "output_type": "execute_result"
    }
   ],
   "source": [
    "id_info=sta_info['ID'].unique().tolist()\n",
    "id_info=[str(i) for i in id_info]\n",
    "id_info[:5]"
   ]
  },
  {
   "cell_type": "code",
   "execution_count": 10,
   "metadata": {},
   "outputs": [
    {
     "data": {
      "text/html": [
       "<div>\n",
       "<style scoped>\n",
       "    .dataframe tbody tr th:only-of-type {\n",
       "        vertical-align: middle;\n",
       "    }\n",
       "\n",
       "    .dataframe tbody tr th {\n",
       "        vertical-align: top;\n",
       "    }\n",
       "\n",
       "    .dataframe thead th {\n",
       "        text-align: right;\n",
       "    }\n",
       "</style>\n",
       "<table border=\"1\" class=\"dataframe\">\n",
       "  <thead>\n",
       "    <tr style=\"text-align: right;\">\n",
       "      <th></th>\n",
       "      <th>station_id</th>\n",
       "      <th>19_week_daily</th>\n",
       "      <th>19_week_regular</th>\n",
       "      <th>19_hol_daily</th>\n",
       "      <th>19_hol_regular</th>\n",
       "      <th>20_week_daily</th>\n",
       "      <th>20_week_regular</th>\n",
       "      <th>20_hol_daily</th>\n",
       "      <th>20_hol_regular</th>\n",
       "    </tr>\n",
       "  </thead>\n",
       "  <tbody>\n",
       "    <tr>\n",
       "      <th>0</th>\n",
       "      <td>1001</td>\n",
       "      <td>0.172905</td>\n",
       "      <td>0.827095</td>\n",
       "      <td>0.316646</td>\n",
       "      <td>0.683354</td>\n",
       "      <td>0.258624</td>\n",
       "      <td>0.741376</td>\n",
       "      <td>0.392308</td>\n",
       "      <td>0.607692</td>\n",
       "    </tr>\n",
       "    <tr>\n",
       "      <th>1</th>\n",
       "      <td>1002</td>\n",
       "      <td>0.183894</td>\n",
       "      <td>0.816106</td>\n",
       "      <td>0.356350</td>\n",
       "      <td>0.643650</td>\n",
       "      <td>0.283254</td>\n",
       "      <td>0.716746</td>\n",
       "      <td>0.454603</td>\n",
       "      <td>0.545397</td>\n",
       "    </tr>\n",
       "    <tr>\n",
       "      <th>2</th>\n",
       "      <td>1003</td>\n",
       "      <td>0.154073</td>\n",
       "      <td>0.845927</td>\n",
       "      <td>0.259140</td>\n",
       "      <td>0.740860</td>\n",
       "      <td>0.238314</td>\n",
       "      <td>0.761686</td>\n",
       "      <td>0.364192</td>\n",
       "      <td>0.635808</td>\n",
       "    </tr>\n",
       "    <tr>\n",
       "      <th>3</th>\n",
       "      <td>1004</td>\n",
       "      <td>0.172014</td>\n",
       "      <td>0.827986</td>\n",
       "      <td>0.301563</td>\n",
       "      <td>0.698438</td>\n",
       "      <td>0.272103</td>\n",
       "      <td>0.727897</td>\n",
       "      <td>0.428854</td>\n",
       "      <td>0.571146</td>\n",
       "    </tr>\n",
       "    <tr>\n",
       "      <th>4</th>\n",
       "      <td>1006</td>\n",
       "      <td>0.113201</td>\n",
       "      <td>0.886799</td>\n",
       "      <td>0.241314</td>\n",
       "      <td>0.758686</td>\n",
       "      <td>0.197472</td>\n",
       "      <td>0.802528</td>\n",
       "      <td>0.357414</td>\n",
       "      <td>0.642586</td>\n",
       "    </tr>\n",
       "  </tbody>\n",
       "</table>\n",
       "</div>"
      ],
      "text/plain": [
       "  station_id  19_week_daily  19_week_regular  19_hol_daily  19_hol_regular  \\\n",
       "0       1001       0.172905         0.827095      0.316646        0.683354   \n",
       "1       1002       0.183894         0.816106      0.356350        0.643650   \n",
       "2       1003       0.154073         0.845927      0.259140        0.740860   \n",
       "3       1004       0.172014         0.827986      0.301563        0.698438   \n",
       "4       1006       0.113201         0.886799      0.241314        0.758686   \n",
       "\n",
       "   20_week_daily  20_week_regular  20_hol_daily  20_hol_regular  \n",
       "0       0.258624         0.741376      0.392308        0.607692  \n",
       "1       0.283254         0.716746      0.454603        0.545397  \n",
       "2       0.238314         0.761686      0.364192        0.635808  \n",
       "3       0.272103         0.727897      0.428854        0.571146  \n",
       "4       0.197472         0.802528      0.357414        0.642586  "
      ]
     },
     "execution_count": 10,
     "metadata": {},
     "output_type": "execute_result"
    }
   ],
   "source": [
    "df_station=df_station[df_station['station_id'].isin(id_info)].reset_index(drop=True)\n",
    "df_station.head()"
   ]
  },
  {
   "cell_type": "code",
   "execution_count": 11,
   "metadata": {},
   "outputs": [
    {
     "data": {
      "text/plain": [
       "(1527, 9)"
      ]
     },
     "execution_count": 11,
     "metadata": {},
     "output_type": "execute_result"
    }
   ],
   "source": [
    "df_station.shape"
   ]
  },
  {
   "cell_type": "code",
   "execution_count": 12,
   "metadata": {},
   "outputs": [
    {
     "data": {
      "text/html": [
       "<div>\n",
       "<style scoped>\n",
       "    .dataframe tbody tr th:only-of-type {\n",
       "        vertical-align: middle;\n",
       "    }\n",
       "\n",
       "    .dataframe tbody tr th {\n",
       "        vertical-align: top;\n",
       "    }\n",
       "\n",
       "    .dataframe thead th {\n",
       "        text-align: right;\n",
       "    }\n",
       "</style>\n",
       "<table border=\"1\" class=\"dataframe\">\n",
       "  <thead>\n",
       "    <tr style=\"text-align: right;\">\n",
       "      <th></th>\n",
       "      <th>station_id</th>\n",
       "      <th>19_week_regular</th>\n",
       "      <th>19_hol_regular</th>\n",
       "      <th>20_week_regular</th>\n",
       "      <th>20_hol_regular</th>\n",
       "    </tr>\n",
       "  </thead>\n",
       "  <tbody>\n",
       "    <tr>\n",
       "      <th>0</th>\n",
       "      <td>1001</td>\n",
       "      <td>0.827095</td>\n",
       "      <td>0.683354</td>\n",
       "      <td>0.741376</td>\n",
       "      <td>0.607692</td>\n",
       "    </tr>\n",
       "    <tr>\n",
       "      <th>1</th>\n",
       "      <td>1002</td>\n",
       "      <td>0.816106</td>\n",
       "      <td>0.643650</td>\n",
       "      <td>0.716746</td>\n",
       "      <td>0.545397</td>\n",
       "    </tr>\n",
       "    <tr>\n",
       "      <th>2</th>\n",
       "      <td>1003</td>\n",
       "      <td>0.845927</td>\n",
       "      <td>0.740860</td>\n",
       "      <td>0.761686</td>\n",
       "      <td>0.635808</td>\n",
       "    </tr>\n",
       "    <tr>\n",
       "      <th>3</th>\n",
       "      <td>1004</td>\n",
       "      <td>0.827986</td>\n",
       "      <td>0.698438</td>\n",
       "      <td>0.727897</td>\n",
       "      <td>0.571146</td>\n",
       "    </tr>\n",
       "    <tr>\n",
       "      <th>4</th>\n",
       "      <td>1006</td>\n",
       "      <td>0.886799</td>\n",
       "      <td>0.758686</td>\n",
       "      <td>0.802528</td>\n",
       "      <td>0.642586</td>\n",
       "    </tr>\n",
       "  </tbody>\n",
       "</table>\n",
       "</div>"
      ],
      "text/plain": [
       "  station_id  19_week_regular  19_hol_regular  20_week_regular  20_hol_regular\n",
       "0       1001         0.827095        0.683354         0.741376        0.607692\n",
       "1       1002         0.816106        0.643650         0.716746        0.545397\n",
       "2       1003         0.845927        0.740860         0.761686        0.635808\n",
       "3       1004         0.827986        0.698438         0.727897        0.571146\n",
       "4       1006         0.886799        0.758686         0.802528        0.642586"
      ]
     },
     "execution_count": 12,
     "metadata": {},
     "output_type": "execute_result"
    }
   ],
   "source": [
    "df_station=df_station[['station_id','19_week_regular','19_hol_regular','20_week_regular','20_hol_regular']]\n",
    "df_station.head()"
   ]
  },
  {
   "cell_type": "code",
   "execution_count": 13,
   "metadata": {},
   "outputs": [
    {
     "data": {
      "text/html": [
       "<div>\n",
       "<style scoped>\n",
       "    .dataframe tbody tr th:only-of-type {\n",
       "        vertical-align: middle;\n",
       "    }\n",
       "\n",
       "    .dataframe tbody tr th {\n",
       "        vertical-align: top;\n",
       "    }\n",
       "\n",
       "    .dataframe thead th {\n",
       "        text-align: right;\n",
       "    }\n",
       "</style>\n",
       "<table border=\"1\" class=\"dataframe\">\n",
       "  <thead>\n",
       "    <tr style=\"text-align: right;\">\n",
       "      <th></th>\n",
       "      <th>station_id</th>\n",
       "      <th>19_week_regular</th>\n",
       "      <th>19_hol_regular</th>\n",
       "      <th>20_week_regular</th>\n",
       "      <th>20_hol_regular</th>\n",
       "      <th>week_diff</th>\n",
       "      <th>hol_diff</th>\n",
       "    </tr>\n",
       "  </thead>\n",
       "  <tbody>\n",
       "    <tr>\n",
       "      <th>0</th>\n",
       "      <td>1001</td>\n",
       "      <td>0.827095</td>\n",
       "      <td>0.683354</td>\n",
       "      <td>0.741376</td>\n",
       "      <td>0.607692</td>\n",
       "      <td>0.085718</td>\n",
       "      <td>0.075662</td>\n",
       "    </tr>\n",
       "    <tr>\n",
       "      <th>1</th>\n",
       "      <td>1002</td>\n",
       "      <td>0.816106</td>\n",
       "      <td>0.643650</td>\n",
       "      <td>0.716746</td>\n",
       "      <td>0.545397</td>\n",
       "      <td>0.099361</td>\n",
       "      <td>0.098253</td>\n",
       "    </tr>\n",
       "    <tr>\n",
       "      <th>2</th>\n",
       "      <td>1003</td>\n",
       "      <td>0.845927</td>\n",
       "      <td>0.740860</td>\n",
       "      <td>0.761686</td>\n",
       "      <td>0.635808</td>\n",
       "      <td>0.084241</td>\n",
       "      <td>0.105052</td>\n",
       "    </tr>\n",
       "    <tr>\n",
       "      <th>3</th>\n",
       "      <td>1004</td>\n",
       "      <td>0.827986</td>\n",
       "      <td>0.698438</td>\n",
       "      <td>0.727897</td>\n",
       "      <td>0.571146</td>\n",
       "      <td>0.100089</td>\n",
       "      <td>0.127291</td>\n",
       "    </tr>\n",
       "    <tr>\n",
       "      <th>4</th>\n",
       "      <td>1006</td>\n",
       "      <td>0.886799</td>\n",
       "      <td>0.758686</td>\n",
       "      <td>0.802528</td>\n",
       "      <td>0.642586</td>\n",
       "      <td>0.084271</td>\n",
       "      <td>0.116101</td>\n",
       "    </tr>\n",
       "  </tbody>\n",
       "</table>\n",
       "</div>"
      ],
      "text/plain": [
       "  station_id  19_week_regular  19_hol_regular  20_week_regular  \\\n",
       "0       1001         0.827095        0.683354         0.741376   \n",
       "1       1002         0.816106        0.643650         0.716746   \n",
       "2       1003         0.845927        0.740860         0.761686   \n",
       "3       1004         0.827986        0.698438         0.727897   \n",
       "4       1006         0.886799        0.758686         0.802528   \n",
       "\n",
       "   20_hol_regular  week_diff  hol_diff  \n",
       "0        0.607692   0.085718  0.075662  \n",
       "1        0.545397   0.099361  0.098253  \n",
       "2        0.635808   0.084241  0.105052  \n",
       "3        0.571146   0.100089  0.127291  \n",
       "4        0.642586   0.084271  0.116101  "
      ]
     },
     "execution_count": 13,
     "metadata": {},
     "output_type": "execute_result"
    }
   ],
   "source": [
    "df_station['week_diff']=abs(df_station['20_week_regular']-df_station['19_week_regular'])\n",
    "df_station['hol_diff']=abs(df_station['20_hol_regular']-df_station['19_hol_regular'])\n",
    "\n",
    "df_station.head()"
   ]
  },
  {
   "cell_type": "code",
   "execution_count": 14,
   "metadata": {},
   "outputs": [
    {
     "data": {
      "text/html": [
       "<div>\n",
       "<style scoped>\n",
       "    .dataframe tbody tr th:only-of-type {\n",
       "        vertical-align: middle;\n",
       "    }\n",
       "\n",
       "    .dataframe tbody tr th {\n",
       "        vertical-align: top;\n",
       "    }\n",
       "\n",
       "    .dataframe thead th {\n",
       "        text-align: right;\n",
       "    }\n",
       "</style>\n",
       "<table border=\"1\" class=\"dataframe\">\n",
       "  <thead>\n",
       "    <tr style=\"text-align: right;\">\n",
       "      <th></th>\n",
       "      <th>station_id</th>\n",
       "      <th>19_week_regular</th>\n",
       "      <th>19_hol_regular</th>\n",
       "      <th>20_week_regular</th>\n",
       "      <th>20_hol_regular</th>\n",
       "      <th>week_diff</th>\n",
       "      <th>hol_diff</th>\n",
       "    </tr>\n",
       "  </thead>\n",
       "  <tbody>\n",
       "    <tr>\n",
       "      <th>0</th>\n",
       "      <td>1004</td>\n",
       "      <td>0.827986</td>\n",
       "      <td>0.698438</td>\n",
       "      <td>0.727897</td>\n",
       "      <td>0.571146</td>\n",
       "      <td>0.100089</td>\n",
       "      <td>0.127291</td>\n",
       "    </tr>\n",
       "    <tr>\n",
       "      <th>1</th>\n",
       "      <td>1037</td>\n",
       "      <td>0.875576</td>\n",
       "      <td>0.718480</td>\n",
       "      <td>0.754647</td>\n",
       "      <td>0.580175</td>\n",
       "      <td>0.120929</td>\n",
       "      <td>0.138305</td>\n",
       "    </tr>\n",
       "    <tr>\n",
       "      <th>2</th>\n",
       "      <td>1038</td>\n",
       "      <td>0.863354</td>\n",
       "      <td>0.727651</td>\n",
       "      <td>0.749175</td>\n",
       "      <td>0.541885</td>\n",
       "      <td>0.114179</td>\n",
       "      <td>0.185766</td>\n",
       "    </tr>\n",
       "    <tr>\n",
       "      <th>3</th>\n",
       "      <td>1039</td>\n",
       "      <td>0.893796</td>\n",
       "      <td>0.803874</td>\n",
       "      <td>0.746988</td>\n",
       "      <td>0.678715</td>\n",
       "      <td>0.146808</td>\n",
       "      <td>0.125159</td>\n",
       "    </tr>\n",
       "    <tr>\n",
       "      <th>4</th>\n",
       "      <td>1052</td>\n",
       "      <td>0.879576</td>\n",
       "      <td>0.784854</td>\n",
       "      <td>0.727034</td>\n",
       "      <td>0.633603</td>\n",
       "      <td>0.152542</td>\n",
       "      <td>0.151250</td>\n",
       "    </tr>\n",
       "  </tbody>\n",
       "</table>\n",
       "</div>"
      ],
      "text/plain": [
       "  station_id  19_week_regular  19_hol_regular  20_week_regular  \\\n",
       "0       1004         0.827986        0.698438         0.727897   \n",
       "1       1037         0.875576        0.718480         0.754647   \n",
       "2       1038         0.863354        0.727651         0.749175   \n",
       "3       1039         0.893796        0.803874         0.746988   \n",
       "4       1052         0.879576        0.784854         0.727034   \n",
       "\n",
       "   20_hol_regular  week_diff  hol_diff  \n",
       "0        0.571146   0.100089  0.127291  \n",
       "1        0.580175   0.120929  0.138305  \n",
       "2        0.541885   0.114179  0.185766  \n",
       "3        0.678715   0.146808  0.125159  \n",
       "4        0.633603   0.152542  0.151250  "
      ]
     },
     "execution_count": 14,
     "metadata": {},
     "output_type": "execute_result"
    }
   ],
   "source": [
    "df_station_over10_week=df_station[df_station['week_diff'] >= 0.1].reset_index(drop=True)\n",
    "df_station_over10_week.head()"
   ]
  },
  {
   "cell_type": "code",
   "execution_count": 16,
   "metadata": {},
   "outputs": [
    {
     "data": {
      "text/html": [
       "<div>\n",
       "<style scoped>\n",
       "    .dataframe tbody tr th:only-of-type {\n",
       "        vertical-align: middle;\n",
       "    }\n",
       "\n",
       "    .dataframe tbody tr th {\n",
       "        vertical-align: top;\n",
       "    }\n",
       "\n",
       "    .dataframe thead th {\n",
       "        text-align: right;\n",
       "    }\n",
       "</style>\n",
       "<table border=\"1\" class=\"dataframe\">\n",
       "  <thead>\n",
       "    <tr style=\"text-align: right;\">\n",
       "      <th></th>\n",
       "      <th>station_id</th>\n",
       "      <th>19_week_regular</th>\n",
       "      <th>19_hol_regular</th>\n",
       "      <th>20_week_regular</th>\n",
       "      <th>20_hol_regular</th>\n",
       "      <th>week_diff</th>\n",
       "      <th>hol_diff</th>\n",
       "    </tr>\n",
       "  </thead>\n",
       "  <tbody>\n",
       "    <tr>\n",
       "      <th>0</th>\n",
       "      <td>1003</td>\n",
       "      <td>0.845927</td>\n",
       "      <td>0.740860</td>\n",
       "      <td>0.761686</td>\n",
       "      <td>0.635808</td>\n",
       "      <td>0.084241</td>\n",
       "      <td>0.105052</td>\n",
       "    </tr>\n",
       "    <tr>\n",
       "      <th>1</th>\n",
       "      <td>1004</td>\n",
       "      <td>0.827986</td>\n",
       "      <td>0.698438</td>\n",
       "      <td>0.727897</td>\n",
       "      <td>0.571146</td>\n",
       "      <td>0.100089</td>\n",
       "      <td>0.127291</td>\n",
       "    </tr>\n",
       "    <tr>\n",
       "      <th>2</th>\n",
       "      <td>1006</td>\n",
       "      <td>0.886799</td>\n",
       "      <td>0.758686</td>\n",
       "      <td>0.802528</td>\n",
       "      <td>0.642586</td>\n",
       "      <td>0.084271</td>\n",
       "      <td>0.116101</td>\n",
       "    </tr>\n",
       "    <tr>\n",
       "      <th>3</th>\n",
       "      <td>1008</td>\n",
       "      <td>0.840521</td>\n",
       "      <td>0.706719</td>\n",
       "      <td>0.757255</td>\n",
       "      <td>0.596122</td>\n",
       "      <td>0.083266</td>\n",
       "      <td>0.110597</td>\n",
       "    </tr>\n",
       "    <tr>\n",
       "      <th>4</th>\n",
       "      <td>1016</td>\n",
       "      <td>0.842795</td>\n",
       "      <td>0.725989</td>\n",
       "      <td>0.755008</td>\n",
       "      <td>0.591248</td>\n",
       "      <td>0.087787</td>\n",
       "      <td>0.134741</td>\n",
       "    </tr>\n",
       "  </tbody>\n",
       "</table>\n",
       "</div>"
      ],
      "text/plain": [
       "  station_id  19_week_regular  19_hol_regular  20_week_regular  \\\n",
       "0       1003         0.845927        0.740860         0.761686   \n",
       "1       1004         0.827986        0.698438         0.727897   \n",
       "2       1006         0.886799        0.758686         0.802528   \n",
       "3       1008         0.840521        0.706719         0.757255   \n",
       "4       1016         0.842795        0.725989         0.755008   \n",
       "\n",
       "   20_hol_regular  week_diff  hol_diff  \n",
       "0        0.635808   0.084241  0.105052  \n",
       "1        0.571146   0.100089  0.127291  \n",
       "2        0.642586   0.084271  0.116101  \n",
       "3        0.596122   0.083266  0.110597  \n",
       "4        0.591248   0.087787  0.134741  "
      ]
     },
     "execution_count": 16,
     "metadata": {},
     "output_type": "execute_result"
    }
   ],
   "source": [
    "df_station_over10_hol=df_station[df_station['hol_diff']>=0.1].reset_index(drop=True)\n",
    "df_station_over10_hol.head()"
   ]
  },
  {
   "cell_type": "markdown",
   "metadata": {},
   "source": [
    "### 19년도 기준, 기존 이용권 비율 정도 확인"
   ]
  },
  {
   "cell_type": "code",
   "execution_count": 17,
   "metadata": {},
   "outputs": [],
   "source": [
    "df_station_over10_week=df_station_over10_week[['station_id','19_week_regular','20_week_regular','week_diff']]\n",
    "df_station_over10_hol=df_station_over10_hol[['station_id','19_hol_regular','20_hol_regular','hol_diff']]"
   ]
  },
  {
   "cell_type": "code",
   "execution_count": 18,
   "metadata": {},
   "outputs": [
    {
     "data": {
      "text/html": [
       "<div>\n",
       "<style scoped>\n",
       "    .dataframe tbody tr th:only-of-type {\n",
       "        vertical-align: middle;\n",
       "    }\n",
       "\n",
       "    .dataframe tbody tr th {\n",
       "        vertical-align: top;\n",
       "    }\n",
       "\n",
       "    .dataframe thead th {\n",
       "        text-align: right;\n",
       "    }\n",
       "</style>\n",
       "<table border=\"1\" class=\"dataframe\">\n",
       "  <thead>\n",
       "    <tr style=\"text-align: right;\">\n",
       "      <th></th>\n",
       "      <th>station_id</th>\n",
       "      <th>19_week_regular</th>\n",
       "      <th>20_week_regular</th>\n",
       "      <th>week_diff</th>\n",
       "    </tr>\n",
       "  </thead>\n",
       "  <tbody>\n",
       "    <tr>\n",
       "      <th>0</th>\n",
       "      <td>1004</td>\n",
       "      <td>0.827986</td>\n",
       "      <td>0.727897</td>\n",
       "      <td>0.100089</td>\n",
       "    </tr>\n",
       "    <tr>\n",
       "      <th>1</th>\n",
       "      <td>1037</td>\n",
       "      <td>0.875576</td>\n",
       "      <td>0.754647</td>\n",
       "      <td>0.120929</td>\n",
       "    </tr>\n",
       "    <tr>\n",
       "      <th>2</th>\n",
       "      <td>1038</td>\n",
       "      <td>0.863354</td>\n",
       "      <td>0.749175</td>\n",
       "      <td>0.114179</td>\n",
       "    </tr>\n",
       "    <tr>\n",
       "      <th>3</th>\n",
       "      <td>1039</td>\n",
       "      <td>0.893796</td>\n",
       "      <td>0.746988</td>\n",
       "      <td>0.146808</td>\n",
       "    </tr>\n",
       "    <tr>\n",
       "      <th>4</th>\n",
       "      <td>1052</td>\n",
       "      <td>0.879576</td>\n",
       "      <td>0.727034</td>\n",
       "      <td>0.152542</td>\n",
       "    </tr>\n",
       "  </tbody>\n",
       "</table>\n",
       "</div>"
      ],
      "text/plain": [
       "  station_id  19_week_regular  20_week_regular  week_diff\n",
       "0       1004         0.827986         0.727897   0.100089\n",
       "1       1037         0.875576         0.754647   0.120929\n",
       "2       1038         0.863354         0.749175   0.114179\n",
       "3       1039         0.893796         0.746988   0.146808\n",
       "4       1052         0.879576         0.727034   0.152542"
      ]
     },
     "execution_count": 18,
     "metadata": {},
     "output_type": "execute_result"
    }
   ],
   "source": [
    "df_station_over10_week.head()"
   ]
  },
  {
   "cell_type": "code",
   "execution_count": 20,
   "metadata": {},
   "outputs": [
    {
     "data": {
      "text/plain": [
       "(148, 4)"
      ]
     },
     "execution_count": 20,
     "metadata": {},
     "output_type": "execute_result"
    }
   ],
   "source": [
    "df_station_over10_week.shape"
   ]
  },
  {
   "cell_type": "code",
   "execution_count": 19,
   "metadata": {},
   "outputs": [
    {
     "data": {
      "text/html": [
       "<div>\n",
       "<style scoped>\n",
       "    .dataframe tbody tr th:only-of-type {\n",
       "        vertical-align: middle;\n",
       "    }\n",
       "\n",
       "    .dataframe tbody tr th {\n",
       "        vertical-align: top;\n",
       "    }\n",
       "\n",
       "    .dataframe thead th {\n",
       "        text-align: right;\n",
       "    }\n",
       "</style>\n",
       "<table border=\"1\" class=\"dataframe\">\n",
       "  <thead>\n",
       "    <tr style=\"text-align: right;\">\n",
       "      <th></th>\n",
       "      <th>station_id</th>\n",
       "      <th>19_hol_regular</th>\n",
       "      <th>20_hol_regular</th>\n",
       "      <th>hol_diff</th>\n",
       "    </tr>\n",
       "  </thead>\n",
       "  <tbody>\n",
       "    <tr>\n",
       "      <th>0</th>\n",
       "      <td>1003</td>\n",
       "      <td>0.740860</td>\n",
       "      <td>0.635808</td>\n",
       "      <td>0.105052</td>\n",
       "    </tr>\n",
       "    <tr>\n",
       "      <th>1</th>\n",
       "      <td>1004</td>\n",
       "      <td>0.698438</td>\n",
       "      <td>0.571146</td>\n",
       "      <td>0.127291</td>\n",
       "    </tr>\n",
       "    <tr>\n",
       "      <th>2</th>\n",
       "      <td>1006</td>\n",
       "      <td>0.758686</td>\n",
       "      <td>0.642586</td>\n",
       "      <td>0.116101</td>\n",
       "    </tr>\n",
       "    <tr>\n",
       "      <th>3</th>\n",
       "      <td>1008</td>\n",
       "      <td>0.706719</td>\n",
       "      <td>0.596122</td>\n",
       "      <td>0.110597</td>\n",
       "    </tr>\n",
       "    <tr>\n",
       "      <th>4</th>\n",
       "      <td>1016</td>\n",
       "      <td>0.725989</td>\n",
       "      <td>0.591248</td>\n",
       "      <td>0.134741</td>\n",
       "    </tr>\n",
       "  </tbody>\n",
       "</table>\n",
       "</div>"
      ],
      "text/plain": [
       "  station_id  19_hol_regular  20_hol_regular  hol_diff\n",
       "0       1003        0.740860        0.635808  0.105052\n",
       "1       1004        0.698438        0.571146  0.127291\n",
       "2       1006        0.758686        0.642586  0.116101\n",
       "3       1008        0.706719        0.596122  0.110597\n",
       "4       1016        0.725989        0.591248  0.134741"
      ]
     },
     "execution_count": 19,
     "metadata": {},
     "output_type": "execute_result"
    }
   ],
   "source": [
    "df_station_over10_hol.head()"
   ]
  },
  {
   "cell_type": "code",
   "execution_count": 21,
   "metadata": {},
   "outputs": [
    {
     "data": {
      "text/plain": [
       "(315, 4)"
      ]
     },
     "execution_count": 21,
     "metadata": {},
     "output_type": "execute_result"
    }
   ],
   "source": [
    "df_station_over10_hol.shape"
   ]
  },
  {
   "cell_type": "markdown",
   "metadata": {},
   "source": [
    "### 19년도 주중 확인"
   ]
  },
  {
   "cell_type": "code",
   "execution_count": 22,
   "metadata": {},
   "outputs": [
    {
     "data": {
      "text/plain": [
       "count    148.000000\n",
       "mean       0.810431\n",
       "std        0.082646\n",
       "min        0.536843\n",
       "25%        0.784306\n",
       "50%        0.828451\n",
       "75%        0.864468\n",
       "max        0.930837\n",
       "Name: 19_week_regular, dtype: float64"
      ]
     },
     "execution_count": 22,
     "metadata": {},
     "output_type": "execute_result"
    }
   ],
   "source": [
    "df_station_over10_week['19_week_regular'].describe()"
   ]
  },
  {
   "cell_type": "markdown",
   "metadata": {},
   "source": [
    "#### 19년도 주중\n",
    "\n",
    "- 최소값  : 0.54\n",
    "- 1분위수 : 0.79\n",
    "- 2분위수 : 0.83\n",
    "- 3분위수 : 0.86\n",
    "- 최대값  : 0.93\n",
    "\n",
    "---\n",
    "1) value < 0.6   \n",
    "2) 0.6 <= value < 0.7   \n",
    "3) 0.7 <= value < 0.8  \n",
    "4) 0.8 <= value < 0.9  \n",
    "5) 0.9 <= value < 1.0  \n",
    "\n",
    "구간을 나눠서 확인"
   ]
  },
  {
   "cell_type": "code",
   "execution_count": 23,
   "metadata": {},
   "outputs": [],
   "source": [
    "def make_interval(value):\n",
    "    if value < 0.6:\n",
    "        return '1'\n",
    "    elif 0.6<= value <0.7:\n",
    "        return '2'\n",
    "    elif 0.7<= value <0.8:\n",
    "        return '3'\n",
    "    elif 0.8<= value <0.9:\n",
    "        return '4'\n",
    "    else:\n",
    "        return '5'"
   ]
  },
  {
   "cell_type": "code",
   "execution_count": 25,
   "metadata": {},
   "outputs": [
    {
     "data": {
      "text/html": [
       "<div>\n",
       "<style scoped>\n",
       "    .dataframe tbody tr th:only-of-type {\n",
       "        vertical-align: middle;\n",
       "    }\n",
       "\n",
       "    .dataframe tbody tr th {\n",
       "        vertical-align: top;\n",
       "    }\n",
       "\n",
       "    .dataframe thead th {\n",
       "        text-align: right;\n",
       "    }\n",
       "</style>\n",
       "<table border=\"1\" class=\"dataframe\">\n",
       "  <thead>\n",
       "    <tr style=\"text-align: right;\">\n",
       "      <th></th>\n",
       "      <th>station_id</th>\n",
       "      <th>19_week_regular</th>\n",
       "      <th>20_week_regular</th>\n",
       "      <th>week_diff</th>\n",
       "      <th>interval</th>\n",
       "    </tr>\n",
       "  </thead>\n",
       "  <tbody>\n",
       "    <tr>\n",
       "      <th>0</th>\n",
       "      <td>1004</td>\n",
       "      <td>0.827986</td>\n",
       "      <td>0.727897</td>\n",
       "      <td>0.100089</td>\n",
       "      <td>4</td>\n",
       "    </tr>\n",
       "    <tr>\n",
       "      <th>1</th>\n",
       "      <td>1037</td>\n",
       "      <td>0.875576</td>\n",
       "      <td>0.754647</td>\n",
       "      <td>0.120929</td>\n",
       "      <td>4</td>\n",
       "    </tr>\n",
       "    <tr>\n",
       "      <th>2</th>\n",
       "      <td>1038</td>\n",
       "      <td>0.863354</td>\n",
       "      <td>0.749175</td>\n",
       "      <td>0.114179</td>\n",
       "      <td>4</td>\n",
       "    </tr>\n",
       "    <tr>\n",
       "      <th>3</th>\n",
       "      <td>1039</td>\n",
       "      <td>0.893796</td>\n",
       "      <td>0.746988</td>\n",
       "      <td>0.146808</td>\n",
       "      <td>4</td>\n",
       "    </tr>\n",
       "    <tr>\n",
       "      <th>4</th>\n",
       "      <td>1052</td>\n",
       "      <td>0.879576</td>\n",
       "      <td>0.727034</td>\n",
       "      <td>0.152542</td>\n",
       "      <td>4</td>\n",
       "    </tr>\n",
       "  </tbody>\n",
       "</table>\n",
       "</div>"
      ],
      "text/plain": [
       "  station_id  19_week_regular  20_week_regular  week_diff interval\n",
       "0       1004         0.827986         0.727897   0.100089        4\n",
       "1       1037         0.875576         0.754647   0.120929        4\n",
       "2       1038         0.863354         0.749175   0.114179        4\n",
       "3       1039         0.893796         0.746988   0.146808        4\n",
       "4       1052         0.879576         0.727034   0.152542        4"
      ]
     },
     "execution_count": 25,
     "metadata": {},
     "output_type": "execute_result"
    }
   ],
   "source": [
    "df_station_over10_week['interval']=df_station_over10_week['19_week_regular'].apply(lambda x:make_interval(x))\n",
    "df_station_over10_week.head()"
   ]
  },
  {
   "cell_type": "code",
   "execution_count": 27,
   "metadata": {},
   "outputs": [
    {
     "data": {
      "text/plain": [
       "4    86\n",
       "3    34\n",
       "2    12\n",
       "5    12\n",
       "1     4\n",
       "Name: interval, dtype: int64"
      ]
     },
     "execution_count": 27,
     "metadata": {},
     "output_type": "execute_result"
    }
   ],
   "source": [
    "df_station_over10_week['interval'].value_counts()"
   ]
  },
  {
   "cell_type": "code",
   "execution_count": 62,
   "metadata": {},
   "outputs": [
    {
     "data": {
      "image/png": "[encoded data removed]",
      "text/plain": [
       "<Figure size 576x432 with 1 Axes>"
      ]
     },
     "metadata": {
      "needs_background": "light"
     },
     "output_type": "display_data"
    }
   ],
   "source": [
    "plt.rcParams['font.family']=\"Hancom Gothic\"\n",
    "\n",
    "plt.figure(figsize=(8,6))\n",
    "sns.countplot(df_station_over10_week['interval'])\n",
    "plt.title('기존 대여소의 정기권 이용률 분포 구간 (주중)',fontsize=15)\n",
    "plt.xticks([0,1,2,3,4],['0.6 미만','0.7미만','0.8미만','0.9미만','1.0 미만'])\n",
    "plt.show()"
   ]
  },
  {
   "cell_type": "markdown",
   "metadata": {},
   "source": [
    "### 19년도 주말 확인"
   ]
  },
  {
   "cell_type": "code",
   "execution_count": 63,
   "metadata": {},
   "outputs": [
    {
     "data": {
      "text/plain": [
       "count    315.000000\n",
       "mean       0.725519\n",
       "std        0.080539\n",
       "min        0.379399\n",
       "25%        0.685724\n",
       "50%        0.735557\n",
       "75%        0.776632\n",
       "max        0.958904\n",
       "Name: 19_hol_regular, dtype: float64"
      ]
     },
     "execution_count": 63,
     "metadata": {},
     "output_type": "execute_result"
    }
   ],
   "source": [
    "df_station_over10_hol['19_hol_regular'].describe()"
   ]
  },
  {
   "cell_type": "markdown",
   "metadata": {},
   "source": [
    "#### 19년도 주말\n",
    "\n",
    "- 최소값  : 0.38\n",
    "- 1분위수 : 0.69\n",
    "- 2분위수 : 0.75\n",
    "- 3분위수 : 0.78\n",
    "- 최대값  : 0.96\n",
    "\n",
    "---\n",
    "1) value < 0.6   \n",
    "2) 0.6 <= value < 0.7   \n",
    "3) 0.7 <= value < 0.8  \n",
    "4) 0.8 <= value < 0.9  \n",
    "5) 0.9 <= value < 1.0  \n",
    "\n",
    "구간을 나눠서 확인"
   ]
  },
  {
   "cell_type": "code",
   "execution_count": 64,
   "metadata": {},
   "outputs": [
    {
     "data": {
      "text/html": [
       "<div>\n",
       "<style scoped>\n",
       "    .dataframe tbody tr th:only-of-type {\n",
       "        vertical-align: middle;\n",
       "    }\n",
       "\n",
       "    .dataframe tbody tr th {\n",
       "        vertical-align: top;\n",
       "    }\n",
       "\n",
       "    .dataframe thead th {\n",
       "        text-align: right;\n",
       "    }\n",
       "</style>\n",
       "<table border=\"1\" class=\"dataframe\">\n",
       "  <thead>\n",
       "    <tr style=\"text-align: right;\">\n",
       "      <th></th>\n",
       "      <th>station_id</th>\n",
       "      <th>19_hol_regular</th>\n",
       "      <th>20_hol_regular</th>\n",
       "      <th>hol_diff</th>\n",
       "      <th>interval</th>\n",
       "    </tr>\n",
       "  </thead>\n",
       "  <tbody>\n",
       "    <tr>\n",
       "      <th>0</th>\n",
       "      <td>1003</td>\n",
       "      <td>0.740860</td>\n",
       "      <td>0.635808</td>\n",
       "      <td>0.105052</td>\n",
       "      <td>3</td>\n",
       "    </tr>\n",
       "    <tr>\n",
       "      <th>1</th>\n",
       "      <td>1004</td>\n",
       "      <td>0.698438</td>\n",
       "      <td>0.571146</td>\n",
       "      <td>0.127291</td>\n",
       "      <td>2</td>\n",
       "    </tr>\n",
       "    <tr>\n",
       "      <th>2</th>\n",
       "      <td>1006</td>\n",
       "      <td>0.758686</td>\n",
       "      <td>0.642586</td>\n",
       "      <td>0.116101</td>\n",
       "      <td>3</td>\n",
       "    </tr>\n",
       "    <tr>\n",
       "      <th>3</th>\n",
       "      <td>1008</td>\n",
       "      <td>0.706719</td>\n",
       "      <td>0.596122</td>\n",
       "      <td>0.110597</td>\n",
       "      <td>3</td>\n",
       "    </tr>\n",
       "    <tr>\n",
       "      <th>4</th>\n",
       "      <td>1016</td>\n",
       "      <td>0.725989</td>\n",
       "      <td>0.591248</td>\n",
       "      <td>0.134741</td>\n",
       "      <td>3</td>\n",
       "    </tr>\n",
       "  </tbody>\n",
       "</table>\n",
       "</div>"
      ],
      "text/plain": [
       "  station_id  19_hol_regular  20_hol_regular  hol_diff interval\n",
       "0       1003        0.740860        0.635808  0.105052        3\n",
       "1       1004        0.698438        0.571146  0.127291        2\n",
       "2       1006        0.758686        0.642586  0.116101        3\n",
       "3       1008        0.706719        0.596122  0.110597        3\n",
       "4       1016        0.725989        0.591248  0.134741        3"
      ]
     },
     "execution_count": 64,
     "metadata": {},
     "output_type": "execute_result"
    }
   ],
   "source": [
    "df_station_over10_hol['interval']=df_station_over10_hol['19_hol_regular'].apply(lambda x:make_interval(x))\n",
    "df_station_over10_hol.head()"
   ]
  },
  {
   "cell_type": "code",
   "execution_count": 65,
   "metadata": {},
   "outputs": [
    {
     "data": {
      "text/plain": [
       "3    167\n",
       "2     77\n",
       "4     47\n",
       "1     23\n",
       "5      1\n",
       "Name: interval, dtype: int64"
      ]
     },
     "execution_count": 65,
     "metadata": {},
     "output_type": "execute_result"
    }
   ],
   "source": [
    "df_station_over10_hol['interval'].value_counts()"
   ]
  },
  {
   "cell_type": "code",
   "execution_count": 66,
   "metadata": {},
   "outputs": [
    {
     "data": {
      "image/png": "[encoded data removed]",
      "text/plain": [
       "<Figure size 576x432 with 1 Axes>"
      ]
     },
     "metadata": {
      "needs_background": "light"
     },
     "output_type": "display_data"
    }
   ],
   "source": [
    "plt.rcParams['font.family']=\"Hancom Gothic\"\n",
    "\n",
    "plt.figure(figsize=(8,6))\n",
    "sns.countplot(df_station_over10_hol['interval'])\n",
    "plt.title('기존 대여소의 정기권 이용률 분포 구간 (주말)',fontsize=15)\n",
    "plt.xticks([0,1,2,3,4],['0.6 미만','0.7미만','0.8미만','0.9미만','1.0 미만'])\n",
    "plt.show()"
   ]
  },
  {
   "cell_type": "code",
   "execution_count": null,
   "metadata": {},
   "outputs": [],
   "source": []
  }
 ],
 "metadata": {
  "kernelspec": {
   "display_name": "Python 3",
   "language": "python",
   "name": "python3"
  },
  "language_info": {
   "codemirror_mode": {
    "name": "ipython",
    "version": 3
   },
   "file_extension": ".py",
   "mimetype": "text/x-python",
   "name": "python",
   "nbconvert_exporter": "python",
   "pygments_lexer": "ipython3",
   "version": "3.7.6"
  }
 },
 "nbformat": 4,
 "nbformat_minor": 4
}
